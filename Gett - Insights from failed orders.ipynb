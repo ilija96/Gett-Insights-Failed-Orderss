{
 "cells": [
  {
   "cell_type": "markdown",
   "id": "03807391",
   "metadata": {},
   "source": [
    "# Insights from Failed Orders"
   ]
  },
  {
   "cell_type": "markdown",
   "id": "4bfef1b3",
   "metadata": {},
   "source": [
    "## Data Description\n",
    "\n",
    "We have two data sets: `data_orders` and `data_offers`, both being stored in a CSV format. The `data_orders` data set contains the following columns:\n",
    "\n",
    "- `order_datetime` - time of the order\n",
    "- `origin_longitude` - longitude of the order\n",
    "- `origin_latitude` - latitude of the order\n",
    "- `m_order_eta` - time before order arrival\n",
    "- `order_gk` - order number\n",
    "- `order_status_key` - status, an enumeration consisting of the following mapping:\n",
    "- `4` - cancelled by client,\n",
    "- `9` - cancelled by system, i.e., a reject\n",
    "- `is_driver_assigned_key` - whether a driver has been assigned\n",
    "- `cancellation_time_in_seconds` - how many seconds passed before cancellation\n",
    "\n",
    "The `data_offers` data set is a simple map with 2 columns:\n",
    "\n",
    "- `order_gk` - order number, associated with the same column from the orders data set\n",
    "- `offer_id` - ID of an offer"
   ]
  },
  {
   "cell_type": "code",
   "execution_count": 1,
   "id": "ce548e19",
   "metadata": {},
   "outputs": [],
   "source": [
    "import pandas as pd\n",
    "import numpy as np"
   ]
  },
  {
   "cell_type": "code",
   "execution_count": 2,
   "id": "986bfeaf",
   "metadata": {},
   "outputs": [
    {
     "data": {
      "text/html": [
       "<div>\n",
       "<style scoped>\n",
       "    .dataframe tbody tr th:only-of-type {\n",
       "        vertical-align: middle;\n",
       "    }\n",
       "\n",
       "    .dataframe tbody tr th {\n",
       "        vertical-align: top;\n",
       "    }\n",
       "\n",
       "    .dataframe thead th {\n",
       "        text-align: right;\n",
       "    }\n",
       "</style>\n",
       "<table border=\"1\" class=\"dataframe\">\n",
       "  <thead>\n",
       "    <tr style=\"text-align: right;\">\n",
       "      <th></th>\n",
       "      <th>order_datetime</th>\n",
       "      <th>origin_longitude</th>\n",
       "      <th>origin_latitude</th>\n",
       "      <th>m_order_eta</th>\n",
       "      <th>order_gk</th>\n",
       "      <th>order_status_key</th>\n",
       "      <th>is_driver_assigned_key</th>\n",
       "      <th>cancellations_time_in_seconds</th>\n",
       "    </tr>\n",
       "  </thead>\n",
       "  <tbody>\n",
       "    <tr>\n",
       "      <th>0</th>\n",
       "      <td>18:08:07</td>\n",
       "      <td>-0.978916</td>\n",
       "      <td>51.456173</td>\n",
       "      <td>60.0</td>\n",
       "      <td>3000583041974</td>\n",
       "      <td>4</td>\n",
       "      <td>1</td>\n",
       "      <td>198.0</td>\n",
       "    </tr>\n",
       "    <tr>\n",
       "      <th>1</th>\n",
       "      <td>20:57:32</td>\n",
       "      <td>-0.950385</td>\n",
       "      <td>51.456843</td>\n",
       "      <td>NaN</td>\n",
       "      <td>3000583116437</td>\n",
       "      <td>4</td>\n",
       "      <td>0</td>\n",
       "      <td>128.0</td>\n",
       "    </tr>\n",
       "    <tr>\n",
       "      <th>2</th>\n",
       "      <td>12:07:50</td>\n",
       "      <td>-0.969520</td>\n",
       "      <td>51.455544</td>\n",
       "      <td>477.0</td>\n",
       "      <td>3000582891479</td>\n",
       "      <td>4</td>\n",
       "      <td>1</td>\n",
       "      <td>46.0</td>\n",
       "    </tr>\n",
       "    <tr>\n",
       "      <th>3</th>\n",
       "      <td>13:50:20</td>\n",
       "      <td>-1.054671</td>\n",
       "      <td>51.460544</td>\n",
       "      <td>658.0</td>\n",
       "      <td>3000582941169</td>\n",
       "      <td>4</td>\n",
       "      <td>1</td>\n",
       "      <td>62.0</td>\n",
       "    </tr>\n",
       "    <tr>\n",
       "      <th>4</th>\n",
       "      <td>21:24:45</td>\n",
       "      <td>-0.967605</td>\n",
       "      <td>51.458236</td>\n",
       "      <td>NaN</td>\n",
       "      <td>3000583140877</td>\n",
       "      <td>9</td>\n",
       "      <td>0</td>\n",
       "      <td>NaN</td>\n",
       "    </tr>\n",
       "  </tbody>\n",
       "</table>\n",
       "</div>"
      ],
      "text/plain": [
       "  order_datetime  origin_longitude  origin_latitude  m_order_eta  \\\n",
       "0       18:08:07         -0.978916        51.456173         60.0   \n",
       "1       20:57:32         -0.950385        51.456843          NaN   \n",
       "2       12:07:50         -0.969520        51.455544        477.0   \n",
       "3       13:50:20         -1.054671        51.460544        658.0   \n",
       "4       21:24:45         -0.967605        51.458236          NaN   \n",
       "\n",
       "        order_gk  order_status_key  is_driver_assigned_key  \\\n",
       "0  3000583041974                 4                       1   \n",
       "1  3000583116437                 4                       0   \n",
       "2  3000582891479                 4                       1   \n",
       "3  3000582941169                 4                       1   \n",
       "4  3000583140877                 9                       0   \n",
       "\n",
       "   cancellations_time_in_seconds  \n",
       "0                          198.0  \n",
       "1                          128.0  \n",
       "2                           46.0  \n",
       "3                           62.0  \n",
       "4                            NaN  "
      ]
     },
     "execution_count": 2,
     "metadata": {},
     "output_type": "execute_result"
    }
   ],
   "source": [
    "orders = pd.read_csv(r\"C:\\Users\\Marin e Mirko\\Downloads\\datasets (1)\\datasets\\data_orders.csv\")\n",
    "orders.head()"
   ]
  },
  {
   "cell_type": "code",
   "execution_count": 3,
   "id": "bbf531f5",
   "metadata": {},
   "outputs": [
    {
     "name": "stdout",
     "output_type": "stream",
     "text": [
      "<class 'pandas.core.frame.DataFrame'>\n",
      "RangeIndex: 10716 entries, 0 to 10715\n",
      "Data columns (total 8 columns):\n",
      " #   Column                         Non-Null Count  Dtype  \n",
      "---  ------                         --------------  -----  \n",
      " 0   order_datetime                 10716 non-null  object \n",
      " 1   origin_longitude               10716 non-null  float64\n",
      " 2   origin_latitude                10716 non-null  float64\n",
      " 3   m_order_eta                    2814 non-null   float64\n",
      " 4   order_gk                       10716 non-null  int64  \n",
      " 5   order_status_key               10716 non-null  int64  \n",
      " 6   is_driver_assigned_key         10716 non-null  int64  \n",
      " 7   cancellations_time_in_seconds  7307 non-null   float64\n",
      "dtypes: float64(4), int64(3), object(1)\n",
      "memory usage: 669.9+ KB\n"
     ]
    }
   ],
   "source": [
    "orders.info()"
   ]
  },
  {
   "cell_type": "code",
   "execution_count": 4,
   "id": "b2916a22",
   "metadata": {},
   "outputs": [
    {
     "data": {
      "text/html": [
       "<div>\n",
       "<style scoped>\n",
       "    .dataframe tbody tr th:only-of-type {\n",
       "        vertical-align: middle;\n",
       "    }\n",
       "\n",
       "    .dataframe tbody tr th {\n",
       "        vertical-align: top;\n",
       "    }\n",
       "\n",
       "    .dataframe thead th {\n",
       "        text-align: right;\n",
       "    }\n",
       "</style>\n",
       "<table border=\"1\" class=\"dataframe\">\n",
       "  <thead>\n",
       "    <tr style=\"text-align: right;\">\n",
       "      <th></th>\n",
       "      <th>order_gk</th>\n",
       "      <th>offer_id</th>\n",
       "    </tr>\n",
       "  </thead>\n",
       "  <tbody>\n",
       "    <tr>\n",
       "      <th>0</th>\n",
       "      <td>3000579625629</td>\n",
       "      <td>300050936206</td>\n",
       "    </tr>\n",
       "    <tr>\n",
       "      <th>1</th>\n",
       "      <td>3000627306450</td>\n",
       "      <td>300052064651</td>\n",
       "    </tr>\n",
       "    <tr>\n",
       "      <th>2</th>\n",
       "      <td>3000632920686</td>\n",
       "      <td>300052408812</td>\n",
       "    </tr>\n",
       "    <tr>\n",
       "      <th>3</th>\n",
       "      <td>3000632771725</td>\n",
       "      <td>300052393030</td>\n",
       "    </tr>\n",
       "    <tr>\n",
       "      <th>4</th>\n",
       "      <td>3000583467642</td>\n",
       "      <td>300051001196</td>\n",
       "    </tr>\n",
       "  </tbody>\n",
       "</table>\n",
       "</div>"
      ],
      "text/plain": [
       "        order_gk      offer_id\n",
       "0  3000579625629  300050936206\n",
       "1  3000627306450  300052064651\n",
       "2  3000632920686  300052408812\n",
       "3  3000632771725  300052393030\n",
       "4  3000583467642  300051001196"
      ]
     },
     "execution_count": 4,
     "metadata": {},
     "output_type": "execute_result"
    }
   ],
   "source": [
    "offers = pd.read_csv(r\"C:\\Users\\Marin e Mirko\\Downloads\\datasets (1)\\datasets\\data_offers.csv\")\n",
    "offers.head()"
   ]
  },
  {
   "cell_type": "code",
   "execution_count": 5,
   "id": "1a07d7e1",
   "metadata": {},
   "outputs": [
    {
     "name": "stdout",
     "output_type": "stream",
     "text": [
      "<class 'pandas.core.frame.DataFrame'>\n",
      "RangeIndex: 334363 entries, 0 to 334362\n",
      "Data columns (total 2 columns):\n",
      " #   Column    Non-Null Count   Dtype\n",
      "---  ------    --------------   -----\n",
      " 0   order_gk  334363 non-null  int64\n",
      " 1   offer_id  334363 non-null  int64\n",
      "dtypes: int64(2)\n",
      "memory usage: 5.1 MB\n"
     ]
    }
   ],
   "source": [
    "offers.info()"
   ]
  },
  {
   "cell_type": "code",
   "execution_count": 6,
   "id": "bd5e9a1d",
   "metadata": {},
   "outputs": [
    {
     "data": {
      "text/html": [
       "<div>\n",
       "<style scoped>\n",
       "    .dataframe tbody tr th:only-of-type {\n",
       "        vertical-align: middle;\n",
       "    }\n",
       "\n",
       "    .dataframe tbody tr th {\n",
       "        vertical-align: top;\n",
       "    }\n",
       "\n",
       "    .dataframe thead th {\n",
       "        text-align: right;\n",
       "    }\n",
       "</style>\n",
       "<table border=\"1\" class=\"dataframe\">\n",
       "  <thead>\n",
       "    <tr style=\"text-align: right;\">\n",
       "      <th></th>\n",
       "      <th>order_datetime</th>\n",
       "      <th>origin_longitude</th>\n",
       "      <th>origin_latitude</th>\n",
       "      <th>m_order_eta</th>\n",
       "      <th>order_gk</th>\n",
       "      <th>order_status_key</th>\n",
       "      <th>is_driver_assigned_key</th>\n",
       "      <th>cancellations_time_in_seconds</th>\n",
       "      <th>offer_id</th>\n",
       "    </tr>\n",
       "  </thead>\n",
       "  <tbody>\n",
       "    <tr>\n",
       "      <th>0</th>\n",
       "      <td>18:08:07</td>\n",
       "      <td>-0.978916</td>\n",
       "      <td>51.456173</td>\n",
       "      <td>60.0</td>\n",
       "      <td>3000583041974</td>\n",
       "      <td>4</td>\n",
       "      <td>1</td>\n",
       "      <td>198.0</td>\n",
       "      <td>300050983403</td>\n",
       "    </tr>\n",
       "    <tr>\n",
       "      <th>1</th>\n",
       "      <td>20:57:32</td>\n",
       "      <td>-0.950385</td>\n",
       "      <td>51.456843</td>\n",
       "      <td>NaN</td>\n",
       "      <td>3000583116437</td>\n",
       "      <td>4</td>\n",
       "      <td>0</td>\n",
       "      <td>128.0</td>\n",
       "      <td>300050986179</td>\n",
       "    </tr>\n",
       "    <tr>\n",
       "      <th>2</th>\n",
       "      <td>20:57:32</td>\n",
       "      <td>-0.950385</td>\n",
       "      <td>51.456843</td>\n",
       "      <td>NaN</td>\n",
       "      <td>3000583116437</td>\n",
       "      <td>4</td>\n",
       "      <td>0</td>\n",
       "      <td>128.0</td>\n",
       "      <td>300050986174</td>\n",
       "    </tr>\n",
       "    <tr>\n",
       "      <th>3</th>\n",
       "      <td>20:57:32</td>\n",
       "      <td>-0.950385</td>\n",
       "      <td>51.456843</td>\n",
       "      <td>NaN</td>\n",
       "      <td>3000583116437</td>\n",
       "      <td>4</td>\n",
       "      <td>0</td>\n",
       "      <td>128.0</td>\n",
       "      <td>300050986180</td>\n",
       "    </tr>\n",
       "    <tr>\n",
       "      <th>4</th>\n",
       "      <td>12:07:50</td>\n",
       "      <td>-0.969520</td>\n",
       "      <td>51.455544</td>\n",
       "      <td>477.0</td>\n",
       "      <td>3000582891479</td>\n",
       "      <td>4</td>\n",
       "      <td>1</td>\n",
       "      <td>46.0</td>\n",
       "      <td>300050976275</td>\n",
       "    </tr>\n",
       "  </tbody>\n",
       "</table>\n",
       "</div>"
      ],
      "text/plain": [
       "  order_datetime  origin_longitude  origin_latitude  m_order_eta  \\\n",
       "0       18:08:07         -0.978916        51.456173         60.0   \n",
       "1       20:57:32         -0.950385        51.456843          NaN   \n",
       "2       20:57:32         -0.950385        51.456843          NaN   \n",
       "3       20:57:32         -0.950385        51.456843          NaN   \n",
       "4       12:07:50         -0.969520        51.455544        477.0   \n",
       "\n",
       "        order_gk  order_status_key  is_driver_assigned_key  \\\n",
       "0  3000583041974                 4                       1   \n",
       "1  3000583116437                 4                       0   \n",
       "2  3000583116437                 4                       0   \n",
       "3  3000583116437                 4                       0   \n",
       "4  3000582891479                 4                       1   \n",
       "\n",
       "   cancellations_time_in_seconds      offer_id  \n",
       "0                          198.0  300050983403  \n",
       "1                          128.0  300050986179  \n",
       "2                          128.0  300050986174  \n",
       "3                          128.0  300050986180  \n",
       "4                           46.0  300050976275  "
      ]
     },
     "execution_count": 6,
     "metadata": {},
     "output_type": "execute_result"
    }
   ],
   "source": [
    "df = pd.merge(orders, offers, how='inner', on='order_gk')\n",
    "df.head()"
   ]
  },
  {
   "cell_type": "code",
   "execution_count": 7,
   "id": "ca559d30",
   "metadata": {},
   "outputs": [
    {
     "name": "stdout",
     "output_type": "stream",
     "text": [
      "<class 'pandas.core.frame.DataFrame'>\n",
      "Int64Index: 31268 entries, 0 to 31267\n",
      "Data columns (total 9 columns):\n",
      " #   Column                         Non-Null Count  Dtype  \n",
      "---  ------                         --------------  -----  \n",
      " 0   order_datetime                 31268 non-null  object \n",
      " 1   origin_longitude               31268 non-null  float64\n",
      " 2   origin_latitude                31268 non-null  float64\n",
      " 3   m_order_eta                    8364 non-null   float64\n",
      " 4   order_gk                       31268 non-null  int64  \n",
      " 5   order_status_key               31268 non-null  int64  \n",
      " 6   is_driver_assigned_key         31268 non-null  int64  \n",
      " 7   cancellations_time_in_seconds  21795 non-null  float64\n",
      " 8   offer_id                       31268 non-null  int64  \n",
      "dtypes: float64(4), int64(4), object(1)\n",
      "memory usage: 2.4+ MB\n"
     ]
    }
   ],
   "source": [
    "df.info()"
   ]
  },
  {
   "cell_type": "code",
   "execution_count": 8,
   "id": "f9fdf0d2",
   "metadata": {},
   "outputs": [
    {
     "data": {
      "text/plain": [
       "7610"
      ]
     },
     "execution_count": 8,
     "metadata": {},
     "output_type": "execute_result"
    }
   ],
   "source": [
    "# We have 7610 unique values\n",
    "df['order_gk'].nunique()"
   ]
  },
  {
   "cell_type": "code",
   "execution_count": 9,
   "id": "3db9321b",
   "metadata": {},
   "outputs": [
    {
     "data": {
      "text/plain": [
       "23658"
      ]
     },
     "execution_count": 9,
     "metadata": {},
     "output_type": "execute_result"
    }
   ],
   "source": [
    "df.order_gk.duplicated().sum() # Many duplicates in the order_gk column need to be removed"
   ]
  },
  {
   "cell_type": "code",
   "execution_count": 10,
   "id": "62b3bd09",
   "metadata": {},
   "outputs": [
    {
     "data": {
      "text/html": [
       "<div>\n",
       "<style scoped>\n",
       "    .dataframe tbody tr th:only-of-type {\n",
       "        vertical-align: middle;\n",
       "    }\n",
       "\n",
       "    .dataframe tbody tr th {\n",
       "        vertical-align: top;\n",
       "    }\n",
       "\n",
       "    .dataframe thead th {\n",
       "        text-align: right;\n",
       "    }\n",
       "</style>\n",
       "<table border=\"1\" class=\"dataframe\">\n",
       "  <thead>\n",
       "    <tr style=\"text-align: right;\">\n",
       "      <th></th>\n",
       "      <th>order_datetime</th>\n",
       "      <th>origin_longitude</th>\n",
       "      <th>origin_latitude</th>\n",
       "      <th>m_order_eta</th>\n",
       "      <th>order_gk</th>\n",
       "      <th>order_status_key</th>\n",
       "      <th>is_driver_assigned_key</th>\n",
       "      <th>cancellations_time_in_seconds</th>\n",
       "      <th>offer_id</th>\n",
       "    </tr>\n",
       "  </thead>\n",
       "  <tbody>\n",
       "    <tr>\n",
       "      <th>2</th>\n",
       "      <td>20:57:32</td>\n",
       "      <td>-0.950385</td>\n",
       "      <td>51.456843</td>\n",
       "      <td>NaN</td>\n",
       "      <td>3000583116437</td>\n",
       "      <td>4</td>\n",
       "      <td>0</td>\n",
       "      <td>128.0</td>\n",
       "      <td>300050986174</td>\n",
       "    </tr>\n",
       "    <tr>\n",
       "      <th>3</th>\n",
       "      <td>20:57:32</td>\n",
       "      <td>-0.950385</td>\n",
       "      <td>51.456843</td>\n",
       "      <td>NaN</td>\n",
       "      <td>3000583116437</td>\n",
       "      <td>4</td>\n",
       "      <td>0</td>\n",
       "      <td>128.0</td>\n",
       "      <td>300050986180</td>\n",
       "    </tr>\n",
       "    <tr>\n",
       "      <th>5</th>\n",
       "      <td>12:07:50</td>\n",
       "      <td>-0.969520</td>\n",
       "      <td>51.455544</td>\n",
       "      <td>477.0</td>\n",
       "      <td>3000582891479</td>\n",
       "      <td>4</td>\n",
       "      <td>1</td>\n",
       "      <td>46.0</td>\n",
       "      <td>300050976284</td>\n",
       "    </tr>\n",
       "    <tr>\n",
       "      <th>6</th>\n",
       "      <td>12:07:50</td>\n",
       "      <td>-0.969520</td>\n",
       "      <td>51.455544</td>\n",
       "      <td>477.0</td>\n",
       "      <td>3000582891479</td>\n",
       "      <td>4</td>\n",
       "      <td>1</td>\n",
       "      <td>46.0</td>\n",
       "      <td>300050976283</td>\n",
       "    </tr>\n",
       "    <tr>\n",
       "      <th>7</th>\n",
       "      <td>12:07:50</td>\n",
       "      <td>-0.969520</td>\n",
       "      <td>51.455544</td>\n",
       "      <td>477.0</td>\n",
       "      <td>3000582891479</td>\n",
       "      <td>4</td>\n",
       "      <td>1</td>\n",
       "      <td>46.0</td>\n",
       "      <td>300050976271</td>\n",
       "    </tr>\n",
       "    <tr>\n",
       "      <th>8</th>\n",
       "      <td>12:07:50</td>\n",
       "      <td>-0.969520</td>\n",
       "      <td>51.455544</td>\n",
       "      <td>477.0</td>\n",
       "      <td>3000582891479</td>\n",
       "      <td>4</td>\n",
       "      <td>1</td>\n",
       "      <td>46.0</td>\n",
       "      <td>300050976274</td>\n",
       "    </tr>\n",
       "    <tr>\n",
       "      <th>9</th>\n",
       "      <td>12:07:50</td>\n",
       "      <td>-0.969520</td>\n",
       "      <td>51.455544</td>\n",
       "      <td>477.0</td>\n",
       "      <td>3000582891479</td>\n",
       "      <td>4</td>\n",
       "      <td>1</td>\n",
       "      <td>46.0</td>\n",
       "      <td>300050976278</td>\n",
       "    </tr>\n",
       "    <tr>\n",
       "      <th>11</th>\n",
       "      <td>13:50:20</td>\n",
       "      <td>-1.054671</td>\n",
       "      <td>51.460544</td>\n",
       "      <td>658.0</td>\n",
       "      <td>3000582941169</td>\n",
       "      <td>4</td>\n",
       "      <td>1</td>\n",
       "      <td>62.0</td>\n",
       "      <td>300050977914</td>\n",
       "    </tr>\n",
       "    <tr>\n",
       "      <th>12</th>\n",
       "      <td>13:50:20</td>\n",
       "      <td>-1.054671</td>\n",
       "      <td>51.460544</td>\n",
       "      <td>658.0</td>\n",
       "      <td>3000582941169</td>\n",
       "      <td>4</td>\n",
       "      <td>1</td>\n",
       "      <td>62.0</td>\n",
       "      <td>300050977913</td>\n",
       "    </tr>\n",
       "    <tr>\n",
       "      <th>14</th>\n",
       "      <td>21:21:23</td>\n",
       "      <td>-0.947011</td>\n",
       "      <td>51.456380</td>\n",
       "      <td>NaN</td>\n",
       "      <td>3000583117054</td>\n",
       "      <td>9</td>\n",
       "      <td>0</td>\n",
       "      <td>NaN</td>\n",
       "      <td>300050986691</td>\n",
       "    </tr>\n",
       "    <tr>\n",
       "      <th>15</th>\n",
       "      <td>21:21:23</td>\n",
       "      <td>-0.947011</td>\n",
       "      <td>51.456380</td>\n",
       "      <td>NaN</td>\n",
       "      <td>3000583117054</td>\n",
       "      <td>9</td>\n",
       "      <td>0</td>\n",
       "      <td>NaN</td>\n",
       "      <td>300050986754</td>\n",
       "    </tr>\n",
       "    <tr>\n",
       "      <th>16</th>\n",
       "      <td>21:21:23</td>\n",
       "      <td>-0.947011</td>\n",
       "      <td>51.456380</td>\n",
       "      <td>NaN</td>\n",
       "      <td>3000583117054</td>\n",
       "      <td>9</td>\n",
       "      <td>0</td>\n",
       "      <td>NaN</td>\n",
       "      <td>300050986699</td>\n",
       "    </tr>\n",
       "    <tr>\n",
       "      <th>17</th>\n",
       "      <td>21:21:23</td>\n",
       "      <td>-0.947011</td>\n",
       "      <td>51.456380</td>\n",
       "      <td>NaN</td>\n",
       "      <td>3000583117054</td>\n",
       "      <td>9</td>\n",
       "      <td>0</td>\n",
       "      <td>NaN</td>\n",
       "      <td>300050986710</td>\n",
       "    </tr>\n",
       "    <tr>\n",
       "      <th>18</th>\n",
       "      <td>21:21:23</td>\n",
       "      <td>-0.947011</td>\n",
       "      <td>51.456380</td>\n",
       "      <td>NaN</td>\n",
       "      <td>3000583117054</td>\n",
       "      <td>9</td>\n",
       "      <td>0</td>\n",
       "      <td>NaN</td>\n",
       "      <td>300050986732</td>\n",
       "    </tr>\n",
       "    <tr>\n",
       "      <th>19</th>\n",
       "      <td>21:21:23</td>\n",
       "      <td>-0.947011</td>\n",
       "      <td>51.456380</td>\n",
       "      <td>NaN</td>\n",
       "      <td>3000583117054</td>\n",
       "      <td>9</td>\n",
       "      <td>0</td>\n",
       "      <td>NaN</td>\n",
       "      <td>300050986746</td>\n",
       "    </tr>\n",
       "    <tr>\n",
       "      <th>20</th>\n",
       "      <td>21:21:23</td>\n",
       "      <td>-0.947011</td>\n",
       "      <td>51.456380</td>\n",
       "      <td>NaN</td>\n",
       "      <td>3000583117054</td>\n",
       "      <td>9</td>\n",
       "      <td>0</td>\n",
       "      <td>NaN</td>\n",
       "      <td>300050986694</td>\n",
       "    </tr>\n",
       "    <tr>\n",
       "      <th>21</th>\n",
       "      <td>21:21:23</td>\n",
       "      <td>-0.947011</td>\n",
       "      <td>51.456380</td>\n",
       "      <td>NaN</td>\n",
       "      <td>3000583117054</td>\n",
       "      <td>9</td>\n",
       "      <td>0</td>\n",
       "      <td>NaN</td>\n",
       "      <td>300050986693</td>\n",
       "    </tr>\n",
       "    <tr>\n",
       "      <th>23</th>\n",
       "      <td>07:58:15</td>\n",
       "      <td>-0.955637</td>\n",
       "      <td>51.470372</td>\n",
       "      <td>NaN</td>\n",
       "      <td>3000582791789</td>\n",
       "      <td>9</td>\n",
       "      <td>0</td>\n",
       "      <td>NaN</td>\n",
       "      <td>300050968091</td>\n",
       "    </tr>\n",
       "    <tr>\n",
       "      <th>24</th>\n",
       "      <td>07:58:15</td>\n",
       "      <td>-0.955637</td>\n",
       "      <td>51.470372</td>\n",
       "      <td>NaN</td>\n",
       "      <td>3000582791789</td>\n",
       "      <td>9</td>\n",
       "      <td>0</td>\n",
       "      <td>NaN</td>\n",
       "      <td>300050968036</td>\n",
       "    </tr>\n",
       "    <tr>\n",
       "      <th>25</th>\n",
       "      <td>07:58:15</td>\n",
       "      <td>-0.955637</td>\n",
       "      <td>51.470372</td>\n",
       "      <td>NaN</td>\n",
       "      <td>3000582791789</td>\n",
       "      <td>9</td>\n",
       "      <td>0</td>\n",
       "      <td>NaN</td>\n",
       "      <td>300050968038</td>\n",
       "    </tr>\n",
       "    <tr>\n",
       "      <th>26</th>\n",
       "      <td>07:58:15</td>\n",
       "      <td>-0.955637</td>\n",
       "      <td>51.470372</td>\n",
       "      <td>NaN</td>\n",
       "      <td>3000582791789</td>\n",
       "      <td>9</td>\n",
       "      <td>0</td>\n",
       "      <td>NaN</td>\n",
       "      <td>300050968076</td>\n",
       "    </tr>\n",
       "    <tr>\n",
       "      <th>27</th>\n",
       "      <td>07:58:15</td>\n",
       "      <td>-0.955637</td>\n",
       "      <td>51.470372</td>\n",
       "      <td>NaN</td>\n",
       "      <td>3000582791789</td>\n",
       "      <td>9</td>\n",
       "      <td>0</td>\n",
       "      <td>NaN</td>\n",
       "      <td>300050968084</td>\n",
       "    </tr>\n",
       "    <tr>\n",
       "      <th>29</th>\n",
       "      <td>08:53:01</td>\n",
       "      <td>-1.052298</td>\n",
       "      <td>51.454308</td>\n",
       "      <td>NaN</td>\n",
       "      <td>3000582817606</td>\n",
       "      <td>9</td>\n",
       "      <td>0</td>\n",
       "      <td>NaN</td>\n",
       "      <td>300050972161</td>\n",
       "    </tr>\n",
       "    <tr>\n",
       "      <th>30</th>\n",
       "      <td>08:53:01</td>\n",
       "      <td>-1.052298</td>\n",
       "      <td>51.454308</td>\n",
       "      <td>NaN</td>\n",
       "      <td>3000582817606</td>\n",
       "      <td>9</td>\n",
       "      <td>0</td>\n",
       "      <td>NaN</td>\n",
       "      <td>300050972051</td>\n",
       "    </tr>\n",
       "    <tr>\n",
       "      <th>31</th>\n",
       "      <td>08:53:01</td>\n",
       "      <td>-1.052298</td>\n",
       "      <td>51.454308</td>\n",
       "      <td>NaN</td>\n",
       "      <td>3000582817606</td>\n",
       "      <td>9</td>\n",
       "      <td>0</td>\n",
       "      <td>NaN</td>\n",
       "      <td>300050972208</td>\n",
       "    </tr>\n",
       "    <tr>\n",
       "      <th>32</th>\n",
       "      <td>08:53:01</td>\n",
       "      <td>-1.052298</td>\n",
       "      <td>51.454308</td>\n",
       "      <td>NaN</td>\n",
       "      <td>3000582817606</td>\n",
       "      <td>9</td>\n",
       "      <td>0</td>\n",
       "      <td>NaN</td>\n",
       "      <td>300050972035</td>\n",
       "    </tr>\n",
       "    <tr>\n",
       "      <th>35</th>\n",
       "      <td>15:40:15</td>\n",
       "      <td>-0.934670</td>\n",
       "      <td>51.447065</td>\n",
       "      <td>NaN</td>\n",
       "      <td>3000582991062</td>\n",
       "      <td>4</td>\n",
       "      <td>0</td>\n",
       "      <td>167.0</td>\n",
       "      <td>300050980067</td>\n",
       "    </tr>\n",
       "    <tr>\n",
       "      <th>36</th>\n",
       "      <td>15:40:15</td>\n",
       "      <td>-0.934670</td>\n",
       "      <td>51.447065</td>\n",
       "      <td>NaN</td>\n",
       "      <td>3000582991062</td>\n",
       "      <td>4</td>\n",
       "      <td>0</td>\n",
       "      <td>167.0</td>\n",
       "      <td>300050980058</td>\n",
       "    </tr>\n",
       "    <tr>\n",
       "      <th>37</th>\n",
       "      <td>15:40:15</td>\n",
       "      <td>-0.934670</td>\n",
       "      <td>51.447065</td>\n",
       "      <td>NaN</td>\n",
       "      <td>3000582991062</td>\n",
       "      <td>4</td>\n",
       "      <td>0</td>\n",
       "      <td>167.0</td>\n",
       "      <td>300050980063</td>\n",
       "    </tr>\n",
       "    <tr>\n",
       "      <th>38</th>\n",
       "      <td>15:40:15</td>\n",
       "      <td>-0.934670</td>\n",
       "      <td>51.447065</td>\n",
       "      <td>NaN</td>\n",
       "      <td>3000582991062</td>\n",
       "      <td>4</td>\n",
       "      <td>0</td>\n",
       "      <td>167.0</td>\n",
       "      <td>300050980019</td>\n",
       "    </tr>\n",
       "    <tr>\n",
       "      <th>39</th>\n",
       "      <td>15:40:15</td>\n",
       "      <td>-0.934670</td>\n",
       "      <td>51.447065</td>\n",
       "      <td>NaN</td>\n",
       "      <td>3000582991062</td>\n",
       "      <td>4</td>\n",
       "      <td>0</td>\n",
       "      <td>167.0</td>\n",
       "      <td>300050980060</td>\n",
       "    </tr>\n",
       "    <tr>\n",
       "      <th>40</th>\n",
       "      <td>15:40:15</td>\n",
       "      <td>-0.934670</td>\n",
       "      <td>51.447065</td>\n",
       "      <td>NaN</td>\n",
       "      <td>3000582991062</td>\n",
       "      <td>4</td>\n",
       "      <td>0</td>\n",
       "      <td>167.0</td>\n",
       "      <td>300050980054</td>\n",
       "    </tr>\n",
       "    <tr>\n",
       "      <th>41</th>\n",
       "      <td>15:40:15</td>\n",
       "      <td>-0.934670</td>\n",
       "      <td>51.447065</td>\n",
       "      <td>NaN</td>\n",
       "      <td>3000582991062</td>\n",
       "      <td>4</td>\n",
       "      <td>0</td>\n",
       "      <td>167.0</td>\n",
       "      <td>300050980020</td>\n",
       "    </tr>\n",
       "    <tr>\n",
       "      <th>43</th>\n",
       "      <td>20:59:35</td>\n",
       "      <td>-0.972735</td>\n",
       "      <td>51.452489</td>\n",
       "      <td>NaN</td>\n",
       "      <td>3000583116472</td>\n",
       "      <td>4</td>\n",
       "      <td>0</td>\n",
       "      <td>45.0</td>\n",
       "      <td>300050986229</td>\n",
       "    </tr>\n",
       "    <tr>\n",
       "      <th>44</th>\n",
       "      <td>20:59:35</td>\n",
       "      <td>-0.972735</td>\n",
       "      <td>51.452489</td>\n",
       "      <td>NaN</td>\n",
       "      <td>3000583116472</td>\n",
       "      <td>4</td>\n",
       "      <td>0</td>\n",
       "      <td>45.0</td>\n",
       "      <td>300050986223</td>\n",
       "    </tr>\n",
       "    <tr>\n",
       "      <th>46</th>\n",
       "      <td>06:25:31</td>\n",
       "      <td>-0.958791</td>\n",
       "      <td>51.459481</td>\n",
       "      <td>NaN</td>\n",
       "      <td>3000582765488</td>\n",
       "      <td>4</td>\n",
       "      <td>0</td>\n",
       "      <td>79.0</td>\n",
       "      <td>300050965974</td>\n",
       "    </tr>\n",
       "    <tr>\n",
       "      <th>48</th>\n",
       "      <td>00:59:26</td>\n",
       "      <td>-0.937006</td>\n",
       "      <td>51.448696</td>\n",
       "      <td>179.0</td>\n",
       "      <td>3000582566041</td>\n",
       "      <td>4</td>\n",
       "      <td>1</td>\n",
       "      <td>316.0</td>\n",
       "      <td>300050964735</td>\n",
       "    </tr>\n",
       "    <tr>\n",
       "      <th>49</th>\n",
       "      <td>00:59:26</td>\n",
       "      <td>-0.937006</td>\n",
       "      <td>51.448696</td>\n",
       "      <td>179.0</td>\n",
       "      <td>3000582566041</td>\n",
       "      <td>4</td>\n",
       "      <td>1</td>\n",
       "      <td>316.0</td>\n",
       "      <td>300050964733</td>\n",
       "    </tr>\n",
       "    <tr>\n",
       "      <th>51</th>\n",
       "      <td>08:49:32</td>\n",
       "      <td>-1.011756</td>\n",
       "      <td>51.456498</td>\n",
       "      <td>NaN</td>\n",
       "      <td>3000582817413</td>\n",
       "      <td>9</td>\n",
       "      <td>0</td>\n",
       "      <td>NaN</td>\n",
       "      <td>300050971903</td>\n",
       "    </tr>\n",
       "    <tr>\n",
       "      <th>52</th>\n",
       "      <td>08:49:32</td>\n",
       "      <td>-1.011756</td>\n",
       "      <td>51.456498</td>\n",
       "      <td>NaN</td>\n",
       "      <td>3000582817413</td>\n",
       "      <td>9</td>\n",
       "      <td>0</td>\n",
       "      <td>NaN</td>\n",
       "      <td>300050972014</td>\n",
       "    </tr>\n",
       "    <tr>\n",
       "      <th>53</th>\n",
       "      <td>08:49:32</td>\n",
       "      <td>-1.011756</td>\n",
       "      <td>51.456498</td>\n",
       "      <td>NaN</td>\n",
       "      <td>3000582817413</td>\n",
       "      <td>9</td>\n",
       "      <td>0</td>\n",
       "      <td>NaN</td>\n",
       "      <td>300050971768</td>\n",
       "    </tr>\n",
       "    <tr>\n",
       "      <th>54</th>\n",
       "      <td>08:49:32</td>\n",
       "      <td>-1.011756</td>\n",
       "      <td>51.456498</td>\n",
       "      <td>NaN</td>\n",
       "      <td>3000582817413</td>\n",
       "      <td>9</td>\n",
       "      <td>0</td>\n",
       "      <td>NaN</td>\n",
       "      <td>300050971977</td>\n",
       "    </tr>\n",
       "    <tr>\n",
       "      <th>55</th>\n",
       "      <td>08:49:32</td>\n",
       "      <td>-1.011756</td>\n",
       "      <td>51.456498</td>\n",
       "      <td>NaN</td>\n",
       "      <td>3000582817413</td>\n",
       "      <td>9</td>\n",
       "      <td>0</td>\n",
       "      <td>NaN</td>\n",
       "      <td>300050971783</td>\n",
       "    </tr>\n",
       "    <tr>\n",
       "      <th>57</th>\n",
       "      <td>08:18:52</td>\n",
       "      <td>-0.940321</td>\n",
       "      <td>51.421571</td>\n",
       "      <td>NaN</td>\n",
       "      <td>3000582792866</td>\n",
       "      <td>4</td>\n",
       "      <td>0</td>\n",
       "      <td>183.0</td>\n",
       "      <td>300050969650</td>\n",
       "    </tr>\n",
       "    <tr>\n",
       "      <th>58</th>\n",
       "      <td>08:18:52</td>\n",
       "      <td>-0.940321</td>\n",
       "      <td>51.421571</td>\n",
       "      <td>NaN</td>\n",
       "      <td>3000582792866</td>\n",
       "      <td>4</td>\n",
       "      <td>0</td>\n",
       "      <td>183.0</td>\n",
       "      <td>300050969481</td>\n",
       "    </tr>\n",
       "    <tr>\n",
       "      <th>59</th>\n",
       "      <td>08:18:52</td>\n",
       "      <td>-0.940321</td>\n",
       "      <td>51.421571</td>\n",
       "      <td>NaN</td>\n",
       "      <td>3000582792866</td>\n",
       "      <td>4</td>\n",
       "      <td>0</td>\n",
       "      <td>183.0</td>\n",
       "      <td>300050969470</td>\n",
       "    </tr>\n",
       "    <tr>\n",
       "      <th>60</th>\n",
       "      <td>08:18:52</td>\n",
       "      <td>-0.940321</td>\n",
       "      <td>51.421571</td>\n",
       "      <td>NaN</td>\n",
       "      <td>3000582792866</td>\n",
       "      <td>4</td>\n",
       "      <td>0</td>\n",
       "      <td>183.0</td>\n",
       "      <td>300050969468</td>\n",
       "    </tr>\n",
       "    <tr>\n",
       "      <th>61</th>\n",
       "      <td>08:18:52</td>\n",
       "      <td>-0.940321</td>\n",
       "      <td>51.421571</td>\n",
       "      <td>NaN</td>\n",
       "      <td>3000582792866</td>\n",
       "      <td>4</td>\n",
       "      <td>0</td>\n",
       "      <td>183.0</td>\n",
       "      <td>300050969446</td>\n",
       "    </tr>\n",
       "    <tr>\n",
       "      <th>63</th>\n",
       "      <td>08:24:56</td>\n",
       "      <td>-0.966304</td>\n",
       "      <td>51.448351</td>\n",
       "      <td>NaN</td>\n",
       "      <td>3000582815594</td>\n",
       "      <td>4</td>\n",
       "      <td>0</td>\n",
       "      <td>120.0</td>\n",
       "      <td>300050969785</td>\n",
       "    </tr>\n",
       "    <tr>\n",
       "      <th>64</th>\n",
       "      <td>08:24:56</td>\n",
       "      <td>-0.966304</td>\n",
       "      <td>51.448351</td>\n",
       "      <td>NaN</td>\n",
       "      <td>3000582815594</td>\n",
       "      <td>4</td>\n",
       "      <td>0</td>\n",
       "      <td>120.0</td>\n",
       "      <td>300050969831</td>\n",
       "    </tr>\n",
       "  </tbody>\n",
       "</table>\n",
       "</div>"
      ],
      "text/plain": [
       "   order_datetime  origin_longitude  origin_latitude  m_order_eta  \\\n",
       "2        20:57:32         -0.950385        51.456843          NaN   \n",
       "3        20:57:32         -0.950385        51.456843          NaN   \n",
       "5        12:07:50         -0.969520        51.455544        477.0   \n",
       "6        12:07:50         -0.969520        51.455544        477.0   \n",
       "7        12:07:50         -0.969520        51.455544        477.0   \n",
       "8        12:07:50         -0.969520        51.455544        477.0   \n",
       "9        12:07:50         -0.969520        51.455544        477.0   \n",
       "11       13:50:20         -1.054671        51.460544        658.0   \n",
       "12       13:50:20         -1.054671        51.460544        658.0   \n",
       "14       21:21:23         -0.947011        51.456380          NaN   \n",
       "15       21:21:23         -0.947011        51.456380          NaN   \n",
       "16       21:21:23         -0.947011        51.456380          NaN   \n",
       "17       21:21:23         -0.947011        51.456380          NaN   \n",
       "18       21:21:23         -0.947011        51.456380          NaN   \n",
       "19       21:21:23         -0.947011        51.456380          NaN   \n",
       "20       21:21:23         -0.947011        51.456380          NaN   \n",
       "21       21:21:23         -0.947011        51.456380          NaN   \n",
       "23       07:58:15         -0.955637        51.470372          NaN   \n",
       "24       07:58:15         -0.955637        51.470372          NaN   \n",
       "25       07:58:15         -0.955637        51.470372          NaN   \n",
       "26       07:58:15         -0.955637        51.470372          NaN   \n",
       "27       07:58:15         -0.955637        51.470372          NaN   \n",
       "29       08:53:01         -1.052298        51.454308          NaN   \n",
       "30       08:53:01         -1.052298        51.454308          NaN   \n",
       "31       08:53:01         -1.052298        51.454308          NaN   \n",
       "32       08:53:01         -1.052298        51.454308          NaN   \n",
       "35       15:40:15         -0.934670        51.447065          NaN   \n",
       "36       15:40:15         -0.934670        51.447065          NaN   \n",
       "37       15:40:15         -0.934670        51.447065          NaN   \n",
       "38       15:40:15         -0.934670        51.447065          NaN   \n",
       "39       15:40:15         -0.934670        51.447065          NaN   \n",
       "40       15:40:15         -0.934670        51.447065          NaN   \n",
       "41       15:40:15         -0.934670        51.447065          NaN   \n",
       "43       20:59:35         -0.972735        51.452489          NaN   \n",
       "44       20:59:35         -0.972735        51.452489          NaN   \n",
       "46       06:25:31         -0.958791        51.459481          NaN   \n",
       "48       00:59:26         -0.937006        51.448696        179.0   \n",
       "49       00:59:26         -0.937006        51.448696        179.0   \n",
       "51       08:49:32         -1.011756        51.456498          NaN   \n",
       "52       08:49:32         -1.011756        51.456498          NaN   \n",
       "53       08:49:32         -1.011756        51.456498          NaN   \n",
       "54       08:49:32         -1.011756        51.456498          NaN   \n",
       "55       08:49:32         -1.011756        51.456498          NaN   \n",
       "57       08:18:52         -0.940321        51.421571          NaN   \n",
       "58       08:18:52         -0.940321        51.421571          NaN   \n",
       "59       08:18:52         -0.940321        51.421571          NaN   \n",
       "60       08:18:52         -0.940321        51.421571          NaN   \n",
       "61       08:18:52         -0.940321        51.421571          NaN   \n",
       "63       08:24:56         -0.966304        51.448351          NaN   \n",
       "64       08:24:56         -0.966304        51.448351          NaN   \n",
       "\n",
       "         order_gk  order_status_key  is_driver_assigned_key  \\\n",
       "2   3000583116437                 4                       0   \n",
       "3   3000583116437                 4                       0   \n",
       "5   3000582891479                 4                       1   \n",
       "6   3000582891479                 4                       1   \n",
       "7   3000582891479                 4                       1   \n",
       "8   3000582891479                 4                       1   \n",
       "9   3000582891479                 4                       1   \n",
       "11  3000582941169                 4                       1   \n",
       "12  3000582941169                 4                       1   \n",
       "14  3000583117054                 9                       0   \n",
       "15  3000583117054                 9                       0   \n",
       "16  3000583117054                 9                       0   \n",
       "17  3000583117054                 9                       0   \n",
       "18  3000583117054                 9                       0   \n",
       "19  3000583117054                 9                       0   \n",
       "20  3000583117054                 9                       0   \n",
       "21  3000583117054                 9                       0   \n",
       "23  3000582791789                 9                       0   \n",
       "24  3000582791789                 9                       0   \n",
       "25  3000582791789                 9                       0   \n",
       "26  3000582791789                 9                       0   \n",
       "27  3000582791789                 9                       0   \n",
       "29  3000582817606                 9                       0   \n",
       "30  3000582817606                 9                       0   \n",
       "31  3000582817606                 9                       0   \n",
       "32  3000582817606                 9                       0   \n",
       "35  3000582991062                 4                       0   \n",
       "36  3000582991062                 4                       0   \n",
       "37  3000582991062                 4                       0   \n",
       "38  3000582991062                 4                       0   \n",
       "39  3000582991062                 4                       0   \n",
       "40  3000582991062                 4                       0   \n",
       "41  3000582991062                 4                       0   \n",
       "43  3000583116472                 4                       0   \n",
       "44  3000583116472                 4                       0   \n",
       "46  3000582765488                 4                       0   \n",
       "48  3000582566041                 4                       1   \n",
       "49  3000582566041                 4                       1   \n",
       "51  3000582817413                 9                       0   \n",
       "52  3000582817413                 9                       0   \n",
       "53  3000582817413                 9                       0   \n",
       "54  3000582817413                 9                       0   \n",
       "55  3000582817413                 9                       0   \n",
       "57  3000582792866                 4                       0   \n",
       "58  3000582792866                 4                       0   \n",
       "59  3000582792866                 4                       0   \n",
       "60  3000582792866                 4                       0   \n",
       "61  3000582792866                 4                       0   \n",
       "63  3000582815594                 4                       0   \n",
       "64  3000582815594                 4                       0   \n",
       "\n",
       "    cancellations_time_in_seconds      offer_id  \n",
       "2                           128.0  300050986174  \n",
       "3                           128.0  300050986180  \n",
       "5                            46.0  300050976284  \n",
       "6                            46.0  300050976283  \n",
       "7                            46.0  300050976271  \n",
       "8                            46.0  300050976274  \n",
       "9                            46.0  300050976278  \n",
       "11                           62.0  300050977914  \n",
       "12                           62.0  300050977913  \n",
       "14                            NaN  300050986691  \n",
       "15                            NaN  300050986754  \n",
       "16                            NaN  300050986699  \n",
       "17                            NaN  300050986710  \n",
       "18                            NaN  300050986732  \n",
       "19                            NaN  300050986746  \n",
       "20                            NaN  300050986694  \n",
       "21                            NaN  300050986693  \n",
       "23                            NaN  300050968091  \n",
       "24                            NaN  300050968036  \n",
       "25                            NaN  300050968038  \n",
       "26                            NaN  300050968076  \n",
       "27                            NaN  300050968084  \n",
       "29                            NaN  300050972161  \n",
       "30                            NaN  300050972051  \n",
       "31                            NaN  300050972208  \n",
       "32                            NaN  300050972035  \n",
       "35                          167.0  300050980067  \n",
       "36                          167.0  300050980058  \n",
       "37                          167.0  300050980063  \n",
       "38                          167.0  300050980019  \n",
       "39                          167.0  300050980060  \n",
       "40                          167.0  300050980054  \n",
       "41                          167.0  300050980020  \n",
       "43                           45.0  300050986229  \n",
       "44                           45.0  300050986223  \n",
       "46                           79.0  300050965974  \n",
       "48                          316.0  300050964735  \n",
       "49                          316.0  300050964733  \n",
       "51                            NaN  300050971903  \n",
       "52                            NaN  300050972014  \n",
       "53                            NaN  300050971768  \n",
       "54                            NaN  300050971977  \n",
       "55                            NaN  300050971783  \n",
       "57                          183.0  300050969650  \n",
       "58                          183.0  300050969481  \n",
       "59                          183.0  300050969470  \n",
       "60                          183.0  300050969468  \n",
       "61                          183.0  300050969446  \n",
       "63                          120.0  300050969785  \n",
       "64                          120.0  300050969831  "
      ]
     },
     "execution_count": 10,
     "metadata": {},
     "output_type": "execute_result"
    }
   ],
   "source": [
    "df.loc[df.order_gk.duplicated(), :].head(50)"
   ]
  },
  {
   "cell_type": "code",
   "execution_count": 11,
   "id": "07b0e536",
   "metadata": {},
   "outputs": [
    {
     "data": {
      "text/html": [
       "<div>\n",
       "<style scoped>\n",
       "    .dataframe tbody tr th:only-of-type {\n",
       "        vertical-align: middle;\n",
       "    }\n",
       "\n",
       "    .dataframe tbody tr th {\n",
       "        vertical-align: top;\n",
       "    }\n",
       "\n",
       "    .dataframe thead th {\n",
       "        text-align: right;\n",
       "    }\n",
       "</style>\n",
       "<table border=\"1\" class=\"dataframe\">\n",
       "  <thead>\n",
       "    <tr style=\"text-align: right;\">\n",
       "      <th></th>\n",
       "      <th>order_datetime</th>\n",
       "      <th>origin_longitude</th>\n",
       "      <th>origin_latitude</th>\n",
       "      <th>m_order_eta</th>\n",
       "      <th>order_gk</th>\n",
       "      <th>order_status_key</th>\n",
       "      <th>is_driver_assigned_key</th>\n",
       "      <th>cancellations_time_in_seconds</th>\n",
       "      <th>offer_id</th>\n",
       "    </tr>\n",
       "  </thead>\n",
       "  <tbody>\n",
       "    <tr>\n",
       "      <th>0</th>\n",
       "      <td>18:08:07</td>\n",
       "      <td>-0.978916</td>\n",
       "      <td>51.456173</td>\n",
       "      <td>60.0</td>\n",
       "      <td>3000583041974</td>\n",
       "      <td>4</td>\n",
       "      <td>1</td>\n",
       "      <td>198.0</td>\n",
       "      <td>300050983403</td>\n",
       "    </tr>\n",
       "    <tr>\n",
       "      <th>1</th>\n",
       "      <td>20:57:32</td>\n",
       "      <td>-0.950385</td>\n",
       "      <td>51.456843</td>\n",
       "      <td>NaN</td>\n",
       "      <td>3000583116437</td>\n",
       "      <td>4</td>\n",
       "      <td>0</td>\n",
       "      <td>128.0</td>\n",
       "      <td>300050986179</td>\n",
       "    </tr>\n",
       "    <tr>\n",
       "      <th>4</th>\n",
       "      <td>12:07:50</td>\n",
       "      <td>-0.969520</td>\n",
       "      <td>51.455544</td>\n",
       "      <td>477.0</td>\n",
       "      <td>3000582891479</td>\n",
       "      <td>4</td>\n",
       "      <td>1</td>\n",
       "      <td>46.0</td>\n",
       "      <td>300050976275</td>\n",
       "    </tr>\n",
       "    <tr>\n",
       "      <th>10</th>\n",
       "      <td>13:50:20</td>\n",
       "      <td>-1.054671</td>\n",
       "      <td>51.460544</td>\n",
       "      <td>658.0</td>\n",
       "      <td>3000582941169</td>\n",
       "      <td>4</td>\n",
       "      <td>1</td>\n",
       "      <td>62.0</td>\n",
       "      <td>300050977907</td>\n",
       "    </tr>\n",
       "    <tr>\n",
       "      <th>13</th>\n",
       "      <td>21:21:23</td>\n",
       "      <td>-0.947011</td>\n",
       "      <td>51.456380</td>\n",
       "      <td>NaN</td>\n",
       "      <td>3000583117054</td>\n",
       "      <td>9</td>\n",
       "      <td>0</td>\n",
       "      <td>NaN</td>\n",
       "      <td>300050986706</td>\n",
       "    </tr>\n",
       "  </tbody>\n",
       "</table>\n",
       "</div>"
      ],
      "text/plain": [
       "   order_datetime  origin_longitude  origin_latitude  m_order_eta  \\\n",
       "0        18:08:07         -0.978916        51.456173         60.0   \n",
       "1        20:57:32         -0.950385        51.456843          NaN   \n",
       "4        12:07:50         -0.969520        51.455544        477.0   \n",
       "10       13:50:20         -1.054671        51.460544        658.0   \n",
       "13       21:21:23         -0.947011        51.456380          NaN   \n",
       "\n",
       "         order_gk  order_status_key  is_driver_assigned_key  \\\n",
       "0   3000583041974                 4                       1   \n",
       "1   3000583116437                 4                       0   \n",
       "4   3000582891479                 4                       1   \n",
       "10  3000582941169                 4                       1   \n",
       "13  3000583117054                 9                       0   \n",
       "\n",
       "    cancellations_time_in_seconds      offer_id  \n",
       "0                           198.0  300050983403  \n",
       "1                           128.0  300050986179  \n",
       "4                            46.0  300050976275  \n",
       "10                           62.0  300050977907  \n",
       "13                            NaN  300050986706  "
      ]
     },
     "execution_count": 11,
     "metadata": {},
     "output_type": "execute_result"
    }
   ],
   "source": [
    "df.drop_duplicates(subset=['order_gk'], inplace=True)\n",
    "df.head()"
   ]
  },
  {
   "cell_type": "code",
   "execution_count": 12,
   "id": "95cca428",
   "metadata": {},
   "outputs": [
    {
     "name": "stdout",
     "output_type": "stream",
     "text": [
      "<class 'pandas.core.frame.DataFrame'>\n",
      "Int64Index: 7610 entries, 0 to 31267\n",
      "Data columns (total 9 columns):\n",
      " #   Column                         Non-Null Count  Dtype  \n",
      "---  ------                         --------------  -----  \n",
      " 0   order_datetime                 7610 non-null   object \n",
      " 1   origin_longitude               7610 non-null   float64\n",
      " 2   origin_latitude                7610 non-null   float64\n",
      " 3   m_order_eta                    2340 non-null   float64\n",
      " 4   order_gk                       7610 non-null   int64  \n",
      " 5   order_status_key               7610 non-null   int64  \n",
      " 6   is_driver_assigned_key         7610 non-null   int64  \n",
      " 7   cancellations_time_in_seconds  5705 non-null   float64\n",
      " 8   offer_id                       7610 non-null   int64  \n",
      "dtypes: float64(4), int64(4), object(1)\n",
      "memory usage: 594.5+ KB\n"
     ]
    }
   ],
   "source": [
    "df.info()"
   ]
  },
  {
   "cell_type": "code",
   "execution_count": 13,
   "id": "8db4c868",
   "metadata": {},
   "outputs": [
    {
     "data": {
      "text/plain": [
       "5270"
      ]
     },
     "execution_count": 13,
     "metadata": {},
     "output_type": "execute_result"
    }
   ],
   "source": [
    "df['m_order_eta'].isna().sum()"
   ]
  },
  {
   "cell_type": "code",
   "execution_count": 14,
   "id": "c4221540",
   "metadata": {},
   "outputs": [
    {
     "data": {
      "text/plain": [
       "1905"
      ]
     },
     "execution_count": 14,
     "metadata": {},
     "output_type": "execute_result"
    }
   ],
   "source": [
    "df['cancellations_time_in_seconds'].isna().sum()"
   ]
  },
  {
   "cell_type": "code",
   "execution_count": 15,
   "id": "74535de7",
   "metadata": {},
   "outputs": [],
   "source": [
    "df['order_status'] = np.where(df['order_status_key'] == 4, 'Cancelled by client', 'Cancelled by system')\n",
    "df['is_driver_assigned'] = np.where(df['is_driver_assigned_key'] == 1, 'Yes', 'No')"
   ]
  },
  {
   "cell_type": "code",
   "execution_count": 16,
   "id": "9f60cfa8",
   "metadata": {},
   "outputs": [
    {
     "data": {
      "text/html": [
       "<div>\n",
       "<style scoped>\n",
       "    .dataframe tbody tr th:only-of-type {\n",
       "        vertical-align: middle;\n",
       "    }\n",
       "\n",
       "    .dataframe tbody tr th {\n",
       "        vertical-align: top;\n",
       "    }\n",
       "\n",
       "    .dataframe thead th {\n",
       "        text-align: right;\n",
       "    }\n",
       "</style>\n",
       "<table border=\"1\" class=\"dataframe\">\n",
       "  <thead>\n",
       "    <tr style=\"text-align: right;\">\n",
       "      <th></th>\n",
       "      <th>order_datetime</th>\n",
       "      <th>origin_longitude</th>\n",
       "      <th>origin_latitude</th>\n",
       "      <th>m_order_eta</th>\n",
       "      <th>order_gk</th>\n",
       "      <th>cancellations_time_in_seconds</th>\n",
       "      <th>offer_id</th>\n",
       "      <th>order_status</th>\n",
       "      <th>is_driver_assigned</th>\n",
       "    </tr>\n",
       "  </thead>\n",
       "  <tbody>\n",
       "    <tr>\n",
       "      <th>0</th>\n",
       "      <td>18:08:07</td>\n",
       "      <td>-0.978916</td>\n",
       "      <td>51.456173</td>\n",
       "      <td>60.0</td>\n",
       "      <td>3000583041974</td>\n",
       "      <td>198.0</td>\n",
       "      <td>300050983403</td>\n",
       "      <td>Cancelled by client</td>\n",
       "      <td>Yes</td>\n",
       "    </tr>\n",
       "    <tr>\n",
       "      <th>1</th>\n",
       "      <td>20:57:32</td>\n",
       "      <td>-0.950385</td>\n",
       "      <td>51.456843</td>\n",
       "      <td>NaN</td>\n",
       "      <td>3000583116437</td>\n",
       "      <td>128.0</td>\n",
       "      <td>300050986179</td>\n",
       "      <td>Cancelled by client</td>\n",
       "      <td>No</td>\n",
       "    </tr>\n",
       "    <tr>\n",
       "      <th>4</th>\n",
       "      <td>12:07:50</td>\n",
       "      <td>-0.969520</td>\n",
       "      <td>51.455544</td>\n",
       "      <td>477.0</td>\n",
       "      <td>3000582891479</td>\n",
       "      <td>46.0</td>\n",
       "      <td>300050976275</td>\n",
       "      <td>Cancelled by client</td>\n",
       "      <td>Yes</td>\n",
       "    </tr>\n",
       "    <tr>\n",
       "      <th>10</th>\n",
       "      <td>13:50:20</td>\n",
       "      <td>-1.054671</td>\n",
       "      <td>51.460544</td>\n",
       "      <td>658.0</td>\n",
       "      <td>3000582941169</td>\n",
       "      <td>62.0</td>\n",
       "      <td>300050977907</td>\n",
       "      <td>Cancelled by client</td>\n",
       "      <td>Yes</td>\n",
       "    </tr>\n",
       "    <tr>\n",
       "      <th>13</th>\n",
       "      <td>21:21:23</td>\n",
       "      <td>-0.947011</td>\n",
       "      <td>51.456380</td>\n",
       "      <td>NaN</td>\n",
       "      <td>3000583117054</td>\n",
       "      <td>NaN</td>\n",
       "      <td>300050986706</td>\n",
       "      <td>Cancelled by system</td>\n",
       "      <td>No</td>\n",
       "    </tr>\n",
       "  </tbody>\n",
       "</table>\n",
       "</div>"
      ],
      "text/plain": [
       "   order_datetime  origin_longitude  origin_latitude  m_order_eta  \\\n",
       "0        18:08:07         -0.978916        51.456173         60.0   \n",
       "1        20:57:32         -0.950385        51.456843          NaN   \n",
       "4        12:07:50         -0.969520        51.455544        477.0   \n",
       "10       13:50:20         -1.054671        51.460544        658.0   \n",
       "13       21:21:23         -0.947011        51.456380          NaN   \n",
       "\n",
       "         order_gk  cancellations_time_in_seconds      offer_id  \\\n",
       "0   3000583041974                          198.0  300050983403   \n",
       "1   3000583116437                          128.0  300050986179   \n",
       "4   3000582891479                           46.0  300050976275   \n",
       "10  3000582941169                           62.0  300050977907   \n",
       "13  3000583117054                            NaN  300050986706   \n",
       "\n",
       "           order_status is_driver_assigned  \n",
       "0   Cancelled by client                Yes  \n",
       "1   Cancelled by client                 No  \n",
       "4   Cancelled by client                Yes  \n",
       "10  Cancelled by client                Yes  \n",
       "13  Cancelled by system                 No  "
      ]
     },
     "execution_count": 16,
     "metadata": {},
     "output_type": "execute_result"
    }
   ],
   "source": [
    "df.drop(columns=['order_status_key', 'is_driver_assigned_key'], axis=1, inplace=True)\n",
    "df.head()"
   ]
  },
  {
   "cell_type": "code",
   "execution_count": 17,
   "id": "f9aa00ef",
   "metadata": {},
   "outputs": [
    {
     "data": {
      "text/html": [
       "<div>\n",
       "<style scoped>\n",
       "    .dataframe tbody tr th:only-of-type {\n",
       "        vertical-align: middle;\n",
       "    }\n",
       "\n",
       "    .dataframe tbody tr th {\n",
       "        vertical-align: top;\n",
       "    }\n",
       "\n",
       "    .dataframe thead th {\n",
       "        text-align: right;\n",
       "    }\n",
       "</style>\n",
       "<table border=\"1\" class=\"dataframe\">\n",
       "  <thead>\n",
       "    <tr style=\"text-align: right;\">\n",
       "      <th></th>\n",
       "      <th>order_datetime</th>\n",
       "      <th>origin_longitude</th>\n",
       "      <th>origin_latitude</th>\n",
       "      <th>m_order_eta</th>\n",
       "      <th>order_gk</th>\n",
       "      <th>cancellations_time_in_seconds</th>\n",
       "      <th>offer_id</th>\n",
       "      <th>order_status</th>\n",
       "      <th>is_driver_assigned</th>\n",
       "    </tr>\n",
       "  </thead>\n",
       "  <tbody>\n",
       "    <tr>\n",
       "      <th>0</th>\n",
       "      <td>18:08:07</td>\n",
       "      <td>-0.978916</td>\n",
       "      <td>51.456173</td>\n",
       "      <td>60.0</td>\n",
       "      <td>3000583041974</td>\n",
       "      <td>198.0</td>\n",
       "      <td>300050983403</td>\n",
       "      <td>Cancelled by client</td>\n",
       "      <td>Yes</td>\n",
       "    </tr>\n",
       "    <tr>\n",
       "      <th>1</th>\n",
       "      <td>20:57:32</td>\n",
       "      <td>-0.950385</td>\n",
       "      <td>51.456843</td>\n",
       "      <td>NaN</td>\n",
       "      <td>3000583116437</td>\n",
       "      <td>128.0</td>\n",
       "      <td>300050986179</td>\n",
       "      <td>Cancelled by client</td>\n",
       "      <td>No</td>\n",
       "    </tr>\n",
       "    <tr>\n",
       "      <th>4</th>\n",
       "      <td>12:07:50</td>\n",
       "      <td>-0.969520</td>\n",
       "      <td>51.455544</td>\n",
       "      <td>477.0</td>\n",
       "      <td>3000582891479</td>\n",
       "      <td>46.0</td>\n",
       "      <td>300050976275</td>\n",
       "      <td>Cancelled by client</td>\n",
       "      <td>Yes</td>\n",
       "    </tr>\n",
       "    <tr>\n",
       "      <th>10</th>\n",
       "      <td>13:50:20</td>\n",
       "      <td>-1.054671</td>\n",
       "      <td>51.460544</td>\n",
       "      <td>658.0</td>\n",
       "      <td>3000582941169</td>\n",
       "      <td>62.0</td>\n",
       "      <td>300050977907</td>\n",
       "      <td>Cancelled by client</td>\n",
       "      <td>Yes</td>\n",
       "    </tr>\n",
       "    <tr>\n",
       "      <th>13</th>\n",
       "      <td>21:21:23</td>\n",
       "      <td>-0.947011</td>\n",
       "      <td>51.456380</td>\n",
       "      <td>NaN</td>\n",
       "      <td>3000583117054</td>\n",
       "      <td>NaN</td>\n",
       "      <td>300050986706</td>\n",
       "      <td>Cancelled by system</td>\n",
       "      <td>No</td>\n",
       "    </tr>\n",
       "  </tbody>\n",
       "</table>\n",
       "</div>"
      ],
      "text/plain": [
       "   order_datetime  origin_longitude  origin_latitude  m_order_eta  \\\n",
       "0        18:08:07         -0.978916        51.456173         60.0   \n",
       "1        20:57:32         -0.950385        51.456843          NaN   \n",
       "4        12:07:50         -0.969520        51.455544        477.0   \n",
       "10       13:50:20         -1.054671        51.460544        658.0   \n",
       "13       21:21:23         -0.947011        51.456380          NaN   \n",
       "\n",
       "         order_gk  cancellations_time_in_seconds      offer_id  \\\n",
       "0   3000583041974                          198.0  300050983403   \n",
       "1   3000583116437                          128.0  300050986179   \n",
       "4   3000582891479                           46.0  300050976275   \n",
       "10  3000582941169                           62.0  300050977907   \n",
       "13  3000583117054                            NaN  300050986706   \n",
       "\n",
       "           order_status is_driver_assigned  \n",
       "0   Cancelled by client                Yes  \n",
       "1   Cancelled by client                 No  \n",
       "4   Cancelled by client                Yes  \n",
       "10  Cancelled by client                Yes  \n",
       "13  Cancelled by system                 No  "
      ]
     },
     "execution_count": 17,
     "metadata": {},
     "output_type": "execute_result"
    }
   ],
   "source": [
    "df_new = df.copy()\n",
    "df_new.head()"
   ]
  },
  {
   "cell_type": "code",
   "execution_count": 18,
   "id": "bd90fafa",
   "metadata": {},
   "outputs": [
    {
     "data": {
      "text/plain": [
       "5270"
      ]
     },
     "execution_count": 18,
     "metadata": {},
     "output_type": "execute_result"
    }
   ],
   "source": [
    "df_new['m_order_eta'].isna().sum()"
   ]
  },
  {
   "cell_type": "code",
   "execution_count": 19,
   "id": "4d8f2f7e",
   "metadata": {},
   "outputs": [
    {
     "data": {
      "text/plain": [
       "0         60.0\n",
       "1          NaN\n",
       "4        477.0\n",
       "10       658.0\n",
       "13         NaN\n",
       "         ...  \n",
       "31263      NaN\n",
       "31264      NaN\n",
       "31265      NaN\n",
       "31266     60.0\n",
       "31267    177.0\n",
       "Name: m_order_eta, Length: 7610, dtype: float64"
      ]
     },
     "execution_count": 19,
     "metadata": {},
     "output_type": "execute_result"
    }
   ],
   "source": [
    "df_new['m_order_eta']"
   ]
  },
  {
   "cell_type": "code",
   "execution_count": 20,
   "id": "d71f4369",
   "metadata": {},
   "outputs": [
    {
     "data": {
      "text/plain": [
       "358.0"
      ]
     },
     "execution_count": 20,
     "metadata": {},
     "output_type": "execute_result"
    }
   ],
   "source": [
    "# Approx 6 min of time before order arrival\n",
    "median = df_new['m_order_eta'].median()\n",
    "median"
   ]
  },
  {
   "cell_type": "code",
   "execution_count": 21,
   "id": "3405d521",
   "metadata": {},
   "outputs": [],
   "source": [
    "df_new['m_order_eta'].fillna(median, inplace=True)"
   ]
  },
  {
   "cell_type": "code",
   "execution_count": 22,
   "id": "e14c34ca",
   "metadata": {},
   "outputs": [
    {
     "data": {
      "text/plain": [
       "0         60.0\n",
       "1        358.0\n",
       "4        477.0\n",
       "10       658.0\n",
       "13       358.0\n",
       "         ...  \n",
       "31263    358.0\n",
       "31264    358.0\n",
       "31265    358.0\n",
       "31266     60.0\n",
       "31267    177.0\n",
       "Name: m_order_eta, Length: 7610, dtype: float64"
      ]
     },
     "execution_count": 22,
     "metadata": {},
     "output_type": "execute_result"
    }
   ],
   "source": [
    "df_new['m_order_eta']"
   ]
  },
  {
   "cell_type": "code",
   "execution_count": 23,
   "id": "e2cab5da",
   "metadata": {},
   "outputs": [],
   "source": [
    "import plotly.express as px"
   ]
  },
  {
   "cell_type": "markdown",
   "id": "abf839c6",
   "metadata": {},
   "source": [
    "1. Build up distribution of orders according to reasons for failure: cancellations before and after driver assignment, and reasons for order rejection. Analyse the resulting plot. Which category has the highest number of orders?"
   ]
  },
  {
   "cell_type": "code",
   "execution_count": 25,
   "id": "2cc2947e",
   "metadata": {},
   "outputs": [
    {
     "data": {
      "text/plain": [
       "is_driver_assigned  order_status       \n",
       "No                  Cancelled by client    3367\n",
       "                    Cancelled by system    1903\n",
       "Yes                 Cancelled by client    2338\n",
       "                    Cancelled by system       2\n",
       "Name: order_gk, dtype: int64"
      ]
     },
     "execution_count": 25,
     "metadata": {},
     "output_type": "execute_result"
    }
   ],
   "source": [
    "df_new.groupby(['is_driver_assigned', 'order_status'])['order_gk'].count()"
   ]
  },
  {
   "cell_type": "code",
   "execution_count": 26,
   "id": "629ce187",
   "metadata": {},
   "outputs": [
    {
     "data": {
      "application/vnd.plotly.v1+json": {
       "config": {
        "plotlyServerURL": "https://plot.ly"
       },
       "data": [
        {
         "alignmentgroup": "True",
         "hovertemplate": "order_status=Cancelled by client<br>is_driver_assigned=%{x}<br>Count=%{y}<extra></extra>",
         "legendgroup": "Cancelled by client",
         "marker": {
          "color": "#636efa",
          "pattern": {
           "shape": ""
          }
         },
         "name": "Cancelled by client",
         "offsetgroup": "Cancelled by client",
         "orientation": "v",
         "showlegend": true,
         "textposition": "auto",
         "type": "bar",
         "x": [
          "No",
          "Yes"
         ],
         "xaxis": "x",
         "y": [
          3367,
          2338
         ],
         "yaxis": "y"
        },
        {
         "alignmentgroup": "True",
         "hovertemplate": "order_status=Cancelled by system<br>is_driver_assigned=%{x}<br>Count=%{y}<extra></extra>",
         "legendgroup": "Cancelled by system",
         "marker": {
          "color": "#EF553B",
          "pattern": {
           "shape": ""
          }
         },
         "name": "Cancelled by system",
         "offsetgroup": "Cancelled by system",
         "orientation": "v",
         "showlegend": true,
         "textposition": "auto",
         "type": "bar",
         "x": [
          "No",
          "Yes"
         ],
         "xaxis": "x",
         "y": [
          1903,
          2
         ],
         "yaxis": "y"
        }
       ],
       "layout": {
        "barmode": "group",
        "legend": {
         "title": {
          "text": "order_status"
         },
         "tracegroupgap": 0
        },
        "margin": {
         "t": 60
        },
        "template": {
         "data": {
          "bar": [
           {
            "error_x": {
             "color": "#2a3f5f"
            },
            "error_y": {
             "color": "#2a3f5f"
            },
            "marker": {
             "line": {
              "color": "#E5ECF6",
              "width": 0.5
             },
             "pattern": {
              "fillmode": "overlay",
              "size": 10,
              "solidity": 0.2
             }
            },
            "type": "bar"
           }
          ],
          "barpolar": [
           {
            "marker": {
             "line": {
              "color": "#E5ECF6",
              "width": 0.5
             },
             "pattern": {
              "fillmode": "overlay",
              "size": 10,
              "solidity": 0.2
             }
            },
            "type": "barpolar"
           }
          ],
          "carpet": [
           {
            "aaxis": {
             "endlinecolor": "#2a3f5f",
             "gridcolor": "white",
             "linecolor": "white",
             "minorgridcolor": "white",
             "startlinecolor": "#2a3f5f"
            },
            "baxis": {
             "endlinecolor": "#2a3f5f",
             "gridcolor": "white",
             "linecolor": "white",
             "minorgridcolor": "white",
             "startlinecolor": "#2a3f5f"
            },
            "type": "carpet"
           }
          ],
          "choropleth": [
           {
            "colorbar": {
             "outlinewidth": 0,
             "ticks": ""
            },
            "type": "choropleth"
           }
          ],
          "contour": [
           {
            "colorbar": {
             "outlinewidth": 0,
             "ticks": ""
            },
            "colorscale": [
             [
              0,
              "#0d0887"
             ],
             [
              0.1111111111111111,
              "#46039f"
             ],
             [
              0.2222222222222222,
              "#7201a8"
             ],
             [
              0.3333333333333333,
              "#9c179e"
             ],
             [
              0.4444444444444444,
              "#bd3786"
             ],
             [
              0.5555555555555556,
              "#d8576b"
             ],
             [
              0.6666666666666666,
              "#ed7953"
             ],
             [
              0.7777777777777778,
              "#fb9f3a"
             ],
             [
              0.8888888888888888,
              "#fdca26"
             ],
             [
              1,
              "#f0f921"
             ]
            ],
            "type": "contour"
           }
          ],
          "contourcarpet": [
           {
            "colorbar": {
             "outlinewidth": 0,
             "ticks": ""
            },
            "type": "contourcarpet"
           }
          ],
          "heatmap": [
           {
            "colorbar": {
             "outlinewidth": 0,
             "ticks": ""
            },
            "colorscale": [
             [
              0,
              "#0d0887"
             ],
             [
              0.1111111111111111,
              "#46039f"
             ],
             [
              0.2222222222222222,
              "#7201a8"
             ],
             [
              0.3333333333333333,
              "#9c179e"
             ],
             [
              0.4444444444444444,
              "#bd3786"
             ],
             [
              0.5555555555555556,
              "#d8576b"
             ],
             [
              0.6666666666666666,
              "#ed7953"
             ],
             [
              0.7777777777777778,
              "#fb9f3a"
             ],
             [
              0.8888888888888888,
              "#fdca26"
             ],
             [
              1,
              "#f0f921"
             ]
            ],
            "type": "heatmap"
           }
          ],
          "heatmapgl": [
           {
            "colorbar": {
             "outlinewidth": 0,
             "ticks": ""
            },
            "colorscale": [
             [
              0,
              "#0d0887"
             ],
             [
              0.1111111111111111,
              "#46039f"
             ],
             [
              0.2222222222222222,
              "#7201a8"
             ],
             [
              0.3333333333333333,
              "#9c179e"
             ],
             [
              0.4444444444444444,
              "#bd3786"
             ],
             [
              0.5555555555555556,
              "#d8576b"
             ],
             [
              0.6666666666666666,
              "#ed7953"
             ],
             [
              0.7777777777777778,
              "#fb9f3a"
             ],
             [
              0.8888888888888888,
              "#fdca26"
             ],
             [
              1,
              "#f0f921"
             ]
            ],
            "type": "heatmapgl"
           }
          ],
          "histogram": [
           {
            "marker": {
             "pattern": {
              "fillmode": "overlay",
              "size": 10,
              "solidity": 0.2
             }
            },
            "type": "histogram"
           }
          ],
          "histogram2d": [
           {
            "colorbar": {
             "outlinewidth": 0,
             "ticks": ""
            },
            "colorscale": [
             [
              0,
              "#0d0887"
             ],
             [
              0.1111111111111111,
              "#46039f"
             ],
             [
              0.2222222222222222,
              "#7201a8"
             ],
             [
              0.3333333333333333,
              "#9c179e"
             ],
             [
              0.4444444444444444,
              "#bd3786"
             ],
             [
              0.5555555555555556,
              "#d8576b"
             ],
             [
              0.6666666666666666,
              "#ed7953"
             ],
             [
              0.7777777777777778,
              "#fb9f3a"
             ],
             [
              0.8888888888888888,
              "#fdca26"
             ],
             [
              1,
              "#f0f921"
             ]
            ],
            "type": "histogram2d"
           }
          ],
          "histogram2dcontour": [
           {
            "colorbar": {
             "outlinewidth": 0,
             "ticks": ""
            },
            "colorscale": [
             [
              0,
              "#0d0887"
             ],
             [
              0.1111111111111111,
              "#46039f"
             ],
             [
              0.2222222222222222,
              "#7201a8"
             ],
             [
              0.3333333333333333,
              "#9c179e"
             ],
             [
              0.4444444444444444,
              "#bd3786"
             ],
             [
              0.5555555555555556,
              "#d8576b"
             ],
             [
              0.6666666666666666,
              "#ed7953"
             ],
             [
              0.7777777777777778,
              "#fb9f3a"
             ],
             [
              0.8888888888888888,
              "#fdca26"
             ],
             [
              1,
              "#f0f921"
             ]
            ],
            "type": "histogram2dcontour"
           }
          ],
          "mesh3d": [
           {
            "colorbar": {
             "outlinewidth": 0,
             "ticks": ""
            },
            "type": "mesh3d"
           }
          ],
          "parcoords": [
           {
            "line": {
             "colorbar": {
              "outlinewidth": 0,
              "ticks": ""
             }
            },
            "type": "parcoords"
           }
          ],
          "pie": [
           {
            "automargin": true,
            "type": "pie"
           }
          ],
          "scatter": [
           {
            "fillpattern": {
             "fillmode": "overlay",
             "size": 10,
             "solidity": 0.2
            },
            "type": "scatter"
           }
          ],
          "scatter3d": [
           {
            "line": {
             "colorbar": {
              "outlinewidth": 0,
              "ticks": ""
             }
            },
            "marker": {
             "colorbar": {
              "outlinewidth": 0,
              "ticks": ""
             }
            },
            "type": "scatter3d"
           }
          ],
          "scattercarpet": [
           {
            "marker": {
             "colorbar": {
              "outlinewidth": 0,
              "ticks": ""
             }
            },
            "type": "scattercarpet"
           }
          ],
          "scattergeo": [
           {
            "marker": {
             "colorbar": {
              "outlinewidth": 0,
              "ticks": ""
             }
            },
            "type": "scattergeo"
           }
          ],
          "scattergl": [
           {
            "marker": {
             "colorbar": {
              "outlinewidth": 0,
              "ticks": ""
             }
            },
            "type": "scattergl"
           }
          ],
          "scattermapbox": [
           {
            "marker": {
             "colorbar": {
              "outlinewidth": 0,
              "ticks": ""
             }
            },
            "type": "scattermapbox"
           }
          ],
          "scatterpolar": [
           {
            "marker": {
             "colorbar": {
              "outlinewidth": 0,
              "ticks": ""
             }
            },
            "type": "scatterpolar"
           }
          ],
          "scatterpolargl": [
           {
            "marker": {
             "colorbar": {
              "outlinewidth": 0,
              "ticks": ""
             }
            },
            "type": "scatterpolargl"
           }
          ],
          "scatterternary": [
           {
            "marker": {
             "colorbar": {
              "outlinewidth": 0,
              "ticks": ""
             }
            },
            "type": "scatterternary"
           }
          ],
          "surface": [
           {
            "colorbar": {
             "outlinewidth": 0,
             "ticks": ""
            },
            "colorscale": [
             [
              0,
              "#0d0887"
             ],
             [
              0.1111111111111111,
              "#46039f"
             ],
             [
              0.2222222222222222,
              "#7201a8"
             ],
             [
              0.3333333333333333,
              "#9c179e"
             ],
             [
              0.4444444444444444,
              "#bd3786"
             ],
             [
              0.5555555555555556,
              "#d8576b"
             ],
             [
              0.6666666666666666,
              "#ed7953"
             ],
             [
              0.7777777777777778,
              "#fb9f3a"
             ],
             [
              0.8888888888888888,
              "#fdca26"
             ],
             [
              1,
              "#f0f921"
             ]
            ],
            "type": "surface"
           }
          ],
          "table": [
           {
            "cells": {
             "fill": {
              "color": "#EBF0F8"
             },
             "line": {
              "color": "white"
             }
            },
            "header": {
             "fill": {
              "color": "#C8D4E3"
             },
             "line": {
              "color": "white"
             }
            },
            "type": "table"
           }
          ]
         },
         "layout": {
          "annotationdefaults": {
           "arrowcolor": "#2a3f5f",
           "arrowhead": 0,
           "arrowwidth": 1
          },
          "autotypenumbers": "strict",
          "coloraxis": {
           "colorbar": {
            "outlinewidth": 0,
            "ticks": ""
           }
          },
          "colorscale": {
           "diverging": [
            [
             0,
             "#8e0152"
            ],
            [
             0.1,
             "#c51b7d"
            ],
            [
             0.2,
             "#de77ae"
            ],
            [
             0.3,
             "#f1b6da"
            ],
            [
             0.4,
             "#fde0ef"
            ],
            [
             0.5,
             "#f7f7f7"
            ],
            [
             0.6,
             "#e6f5d0"
            ],
            [
             0.7,
             "#b8e186"
            ],
            [
             0.8,
             "#7fbc41"
            ],
            [
             0.9,
             "#4d9221"
            ],
            [
             1,
             "#276419"
            ]
           ],
           "sequential": [
            [
             0,
             "#0d0887"
            ],
            [
             0.1111111111111111,
             "#46039f"
            ],
            [
             0.2222222222222222,
             "#7201a8"
            ],
            [
             0.3333333333333333,
             "#9c179e"
            ],
            [
             0.4444444444444444,
             "#bd3786"
            ],
            [
             0.5555555555555556,
             "#d8576b"
            ],
            [
             0.6666666666666666,
             "#ed7953"
            ],
            [
             0.7777777777777778,
             "#fb9f3a"
            ],
            [
             0.8888888888888888,
             "#fdca26"
            ],
            [
             1,
             "#f0f921"
            ]
           ],
           "sequentialminus": [
            [
             0,
             "#0d0887"
            ],
            [
             0.1111111111111111,
             "#46039f"
            ],
            [
             0.2222222222222222,
             "#7201a8"
            ],
            [
             0.3333333333333333,
             "#9c179e"
            ],
            [
             0.4444444444444444,
             "#bd3786"
            ],
            [
             0.5555555555555556,
             "#d8576b"
            ],
            [
             0.6666666666666666,
             "#ed7953"
            ],
            [
             0.7777777777777778,
             "#fb9f3a"
            ],
            [
             0.8888888888888888,
             "#fdca26"
            ],
            [
             1,
             "#f0f921"
            ]
           ]
          },
          "colorway": [
           "#636efa",
           "#EF553B",
           "#00cc96",
           "#ab63fa",
           "#FFA15A",
           "#19d3f3",
           "#FF6692",
           "#B6E880",
           "#FF97FF",
           "#FECB52"
          ],
          "font": {
           "color": "#2a3f5f"
          },
          "geo": {
           "bgcolor": "white",
           "lakecolor": "white",
           "landcolor": "#E5ECF6",
           "showlakes": true,
           "showland": true,
           "subunitcolor": "white"
          },
          "hoverlabel": {
           "align": "left"
          },
          "hovermode": "closest",
          "mapbox": {
           "style": "light"
          },
          "paper_bgcolor": "white",
          "plot_bgcolor": "#E5ECF6",
          "polar": {
           "angularaxis": {
            "gridcolor": "white",
            "linecolor": "white",
            "ticks": ""
           },
           "bgcolor": "#E5ECF6",
           "radialaxis": {
            "gridcolor": "white",
            "linecolor": "white",
            "ticks": ""
           }
          },
          "scene": {
           "xaxis": {
            "backgroundcolor": "#E5ECF6",
            "gridcolor": "white",
            "gridwidth": 2,
            "linecolor": "white",
            "showbackground": true,
            "ticks": "",
            "zerolinecolor": "white"
           },
           "yaxis": {
            "backgroundcolor": "#E5ECF6",
            "gridcolor": "white",
            "gridwidth": 2,
            "linecolor": "white",
            "showbackground": true,
            "ticks": "",
            "zerolinecolor": "white"
           },
           "zaxis": {
            "backgroundcolor": "#E5ECF6",
            "gridcolor": "white",
            "gridwidth": 2,
            "linecolor": "white",
            "showbackground": true,
            "ticks": "",
            "zerolinecolor": "white"
           }
          },
          "shapedefaults": {
           "line": {
            "color": "#2a3f5f"
           }
          },
          "ternary": {
           "aaxis": {
            "gridcolor": "white",
            "linecolor": "white",
            "ticks": ""
           },
           "baxis": {
            "gridcolor": "white",
            "linecolor": "white",
            "ticks": ""
           },
           "bgcolor": "#E5ECF6",
           "caxis": {
            "gridcolor": "white",
            "linecolor": "white",
            "ticks": ""
           }
          },
          "title": {
           "x": 0.05
          },
          "xaxis": {
           "automargin": true,
           "gridcolor": "white",
           "linecolor": "white",
           "ticks": "",
           "title": {
            "standoff": 15
           },
           "zerolinecolor": "white",
           "zerolinewidth": 2
          },
          "yaxis": {
           "automargin": true,
           "gridcolor": "white",
           "linecolor": "white",
           "ticks": "",
           "title": {
            "standoff": 15
           },
           "zerolinecolor": "white",
           "zerolinewidth": 2
          }
         }
        },
        "xaxis": {
         "anchor": "y",
         "domain": [
          0,
          1
         ],
         "title": {
          "text": "is_driver_assigned"
         }
        },
        "yaxis": {
         "anchor": "x",
         "domain": [
          0,
          1
         ],
         "title": {
          "text": "Count"
         }
        }
       }
      },
      "text/html": [
       "<div>                            <div id=\"f6906da6-be4b-4161-89f2-437e272464a4\" class=\"plotly-graph-div\" style=\"height:525px; width:100%;\"></div>            <script type=\"text/javascript\">                require([\"plotly\"], function(Plotly) {                    window.PLOTLYENV=window.PLOTLYENV || {};                                    if (document.getElementById(\"f6906da6-be4b-4161-89f2-437e272464a4\")) {                    Plotly.newPlot(                        \"f6906da6-be4b-4161-89f2-437e272464a4\",                        [{\"alignmentgroup\":\"True\",\"hovertemplate\":\"order_status=Cancelled by client<br>is_driver_assigned=%{x}<br>Count=%{y}<extra></extra>\",\"legendgroup\":\"Cancelled by client\",\"marker\":{\"color\":\"#636efa\",\"pattern\":{\"shape\":\"\"}},\"name\":\"Cancelled by client\",\"offsetgroup\":\"Cancelled by client\",\"orientation\":\"v\",\"showlegend\":true,\"textposition\":\"auto\",\"x\":[\"No\",\"Yes\"],\"xaxis\":\"x\",\"y\":[3367,2338],\"yaxis\":\"y\",\"type\":\"bar\"},{\"alignmentgroup\":\"True\",\"hovertemplate\":\"order_status=Cancelled by system<br>is_driver_assigned=%{x}<br>Count=%{y}<extra></extra>\",\"legendgroup\":\"Cancelled by system\",\"marker\":{\"color\":\"#EF553B\",\"pattern\":{\"shape\":\"\"}},\"name\":\"Cancelled by system\",\"offsetgroup\":\"Cancelled by system\",\"orientation\":\"v\",\"showlegend\":true,\"textposition\":\"auto\",\"x\":[\"No\",\"Yes\"],\"xaxis\":\"x\",\"y\":[1903,2],\"yaxis\":\"y\",\"type\":\"bar\"}],                        {\"template\":{\"data\":{\"histogram2dcontour\":[{\"type\":\"histogram2dcontour\",\"colorbar\":{\"outlinewidth\":0,\"ticks\":\"\"},\"colorscale\":[[0.0,\"#0d0887\"],[0.1111111111111111,\"#46039f\"],[0.2222222222222222,\"#7201a8\"],[0.3333333333333333,\"#9c179e\"],[0.4444444444444444,\"#bd3786\"],[0.5555555555555556,\"#d8576b\"],[0.6666666666666666,\"#ed7953\"],[0.7777777777777778,\"#fb9f3a\"],[0.8888888888888888,\"#fdca26\"],[1.0,\"#f0f921\"]]}],\"choropleth\":[{\"type\":\"choropleth\",\"colorbar\":{\"outlinewidth\":0,\"ticks\":\"\"}}],\"histogram2d\":[{\"type\":\"histogram2d\",\"colorbar\":{\"outlinewidth\":0,\"ticks\":\"\"},\"colorscale\":[[0.0,\"#0d0887\"],[0.1111111111111111,\"#46039f\"],[0.2222222222222222,\"#7201a8\"],[0.3333333333333333,\"#9c179e\"],[0.4444444444444444,\"#bd3786\"],[0.5555555555555556,\"#d8576b\"],[0.6666666666666666,\"#ed7953\"],[0.7777777777777778,\"#fb9f3a\"],[0.8888888888888888,\"#fdca26\"],[1.0,\"#f0f921\"]]}],\"heatmap\":[{\"type\":\"heatmap\",\"colorbar\":{\"outlinewidth\":0,\"ticks\":\"\"},\"colorscale\":[[0.0,\"#0d0887\"],[0.1111111111111111,\"#46039f\"],[0.2222222222222222,\"#7201a8\"],[0.3333333333333333,\"#9c179e\"],[0.4444444444444444,\"#bd3786\"],[0.5555555555555556,\"#d8576b\"],[0.6666666666666666,\"#ed7953\"],[0.7777777777777778,\"#fb9f3a\"],[0.8888888888888888,\"#fdca26\"],[1.0,\"#f0f921\"]]}],\"heatmapgl\":[{\"type\":\"heatmapgl\",\"colorbar\":{\"outlinewidth\":0,\"ticks\":\"\"},\"colorscale\":[[0.0,\"#0d0887\"],[0.1111111111111111,\"#46039f\"],[0.2222222222222222,\"#7201a8\"],[0.3333333333333333,\"#9c179e\"],[0.4444444444444444,\"#bd3786\"],[0.5555555555555556,\"#d8576b\"],[0.6666666666666666,\"#ed7953\"],[0.7777777777777778,\"#fb9f3a\"],[0.8888888888888888,\"#fdca26\"],[1.0,\"#f0f921\"]]}],\"contourcarpet\":[{\"type\":\"contourcarpet\",\"colorbar\":{\"outlinewidth\":0,\"ticks\":\"\"}}],\"contour\":[{\"type\":\"contour\",\"colorbar\":{\"outlinewidth\":0,\"ticks\":\"\"},\"colorscale\":[[0.0,\"#0d0887\"],[0.1111111111111111,\"#46039f\"],[0.2222222222222222,\"#7201a8\"],[0.3333333333333333,\"#9c179e\"],[0.4444444444444444,\"#bd3786\"],[0.5555555555555556,\"#d8576b\"],[0.6666666666666666,\"#ed7953\"],[0.7777777777777778,\"#fb9f3a\"],[0.8888888888888888,\"#fdca26\"],[1.0,\"#f0f921\"]]}],\"surface\":[{\"type\":\"surface\",\"colorbar\":{\"outlinewidth\":0,\"ticks\":\"\"},\"colorscale\":[[0.0,\"#0d0887\"],[0.1111111111111111,\"#46039f\"],[0.2222222222222222,\"#7201a8\"],[0.3333333333333333,\"#9c179e\"],[0.4444444444444444,\"#bd3786\"],[0.5555555555555556,\"#d8576b\"],[0.6666666666666666,\"#ed7953\"],[0.7777777777777778,\"#fb9f3a\"],[0.8888888888888888,\"#fdca26\"],[1.0,\"#f0f921\"]]}],\"mesh3d\":[{\"type\":\"mesh3d\",\"colorbar\":{\"outlinewidth\":0,\"ticks\":\"\"}}],\"scatter\":[{\"fillpattern\":{\"fillmode\":\"overlay\",\"size\":10,\"solidity\":0.2},\"type\":\"scatter\"}],\"parcoords\":[{\"type\":\"parcoords\",\"line\":{\"colorbar\":{\"outlinewidth\":0,\"ticks\":\"\"}}}],\"scatterpolargl\":[{\"type\":\"scatterpolargl\",\"marker\":{\"colorbar\":{\"outlinewidth\":0,\"ticks\":\"\"}}}],\"bar\":[{\"error_x\":{\"color\":\"#2a3f5f\"},\"error_y\":{\"color\":\"#2a3f5f\"},\"marker\":{\"line\":{\"color\":\"#E5ECF6\",\"width\":0.5},\"pattern\":{\"fillmode\":\"overlay\",\"size\":10,\"solidity\":0.2}},\"type\":\"bar\"}],\"scattergeo\":[{\"type\":\"scattergeo\",\"marker\":{\"colorbar\":{\"outlinewidth\":0,\"ticks\":\"\"}}}],\"scatterpolar\":[{\"type\":\"scatterpolar\",\"marker\":{\"colorbar\":{\"outlinewidth\":0,\"ticks\":\"\"}}}],\"histogram\":[{\"marker\":{\"pattern\":{\"fillmode\":\"overlay\",\"size\":10,\"solidity\":0.2}},\"type\":\"histogram\"}],\"scattergl\":[{\"type\":\"scattergl\",\"marker\":{\"colorbar\":{\"outlinewidth\":0,\"ticks\":\"\"}}}],\"scatter3d\":[{\"type\":\"scatter3d\",\"line\":{\"colorbar\":{\"outlinewidth\":0,\"ticks\":\"\"}},\"marker\":{\"colorbar\":{\"outlinewidth\":0,\"ticks\":\"\"}}}],\"scattermapbox\":[{\"type\":\"scattermapbox\",\"marker\":{\"colorbar\":{\"outlinewidth\":0,\"ticks\":\"\"}}}],\"scatterternary\":[{\"type\":\"scatterternary\",\"marker\":{\"colorbar\":{\"outlinewidth\":0,\"ticks\":\"\"}}}],\"scattercarpet\":[{\"type\":\"scattercarpet\",\"marker\":{\"colorbar\":{\"outlinewidth\":0,\"ticks\":\"\"}}}],\"carpet\":[{\"aaxis\":{\"endlinecolor\":\"#2a3f5f\",\"gridcolor\":\"white\",\"linecolor\":\"white\",\"minorgridcolor\":\"white\",\"startlinecolor\":\"#2a3f5f\"},\"baxis\":{\"endlinecolor\":\"#2a3f5f\",\"gridcolor\":\"white\",\"linecolor\":\"white\",\"minorgridcolor\":\"white\",\"startlinecolor\":\"#2a3f5f\"},\"type\":\"carpet\"}],\"table\":[{\"cells\":{\"fill\":{\"color\":\"#EBF0F8\"},\"line\":{\"color\":\"white\"}},\"header\":{\"fill\":{\"color\":\"#C8D4E3\"},\"line\":{\"color\":\"white\"}},\"type\":\"table\"}],\"barpolar\":[{\"marker\":{\"line\":{\"color\":\"#E5ECF6\",\"width\":0.5},\"pattern\":{\"fillmode\":\"overlay\",\"size\":10,\"solidity\":0.2}},\"type\":\"barpolar\"}],\"pie\":[{\"automargin\":true,\"type\":\"pie\"}]},\"layout\":{\"autotypenumbers\":\"strict\",\"colorway\":[\"#636efa\",\"#EF553B\",\"#00cc96\",\"#ab63fa\",\"#FFA15A\",\"#19d3f3\",\"#FF6692\",\"#B6E880\",\"#FF97FF\",\"#FECB52\"],\"font\":{\"color\":\"#2a3f5f\"},\"hovermode\":\"closest\",\"hoverlabel\":{\"align\":\"left\"},\"paper_bgcolor\":\"white\",\"plot_bgcolor\":\"#E5ECF6\",\"polar\":{\"bgcolor\":\"#E5ECF6\",\"angularaxis\":{\"gridcolor\":\"white\",\"linecolor\":\"white\",\"ticks\":\"\"},\"radialaxis\":{\"gridcolor\":\"white\",\"linecolor\":\"white\",\"ticks\":\"\"}},\"ternary\":{\"bgcolor\":\"#E5ECF6\",\"aaxis\":{\"gridcolor\":\"white\",\"linecolor\":\"white\",\"ticks\":\"\"},\"baxis\":{\"gridcolor\":\"white\",\"linecolor\":\"white\",\"ticks\":\"\"},\"caxis\":{\"gridcolor\":\"white\",\"linecolor\":\"white\",\"ticks\":\"\"}},\"coloraxis\":{\"colorbar\":{\"outlinewidth\":0,\"ticks\":\"\"}},\"colorscale\":{\"sequential\":[[0.0,\"#0d0887\"],[0.1111111111111111,\"#46039f\"],[0.2222222222222222,\"#7201a8\"],[0.3333333333333333,\"#9c179e\"],[0.4444444444444444,\"#bd3786\"],[0.5555555555555556,\"#d8576b\"],[0.6666666666666666,\"#ed7953\"],[0.7777777777777778,\"#fb9f3a\"],[0.8888888888888888,\"#fdca26\"],[1.0,\"#f0f921\"]],\"sequentialminus\":[[0.0,\"#0d0887\"],[0.1111111111111111,\"#46039f\"],[0.2222222222222222,\"#7201a8\"],[0.3333333333333333,\"#9c179e\"],[0.4444444444444444,\"#bd3786\"],[0.5555555555555556,\"#d8576b\"],[0.6666666666666666,\"#ed7953\"],[0.7777777777777778,\"#fb9f3a\"],[0.8888888888888888,\"#fdca26\"],[1.0,\"#f0f921\"]],\"diverging\":[[0,\"#8e0152\"],[0.1,\"#c51b7d\"],[0.2,\"#de77ae\"],[0.3,\"#f1b6da\"],[0.4,\"#fde0ef\"],[0.5,\"#f7f7f7\"],[0.6,\"#e6f5d0\"],[0.7,\"#b8e186\"],[0.8,\"#7fbc41\"],[0.9,\"#4d9221\"],[1,\"#276419\"]]},\"xaxis\":{\"gridcolor\":\"white\",\"linecolor\":\"white\",\"ticks\":\"\",\"title\":{\"standoff\":15},\"zerolinecolor\":\"white\",\"automargin\":true,\"zerolinewidth\":2},\"yaxis\":{\"gridcolor\":\"white\",\"linecolor\":\"white\",\"ticks\":\"\",\"title\":{\"standoff\":15},\"zerolinecolor\":\"white\",\"automargin\":true,\"zerolinewidth\":2},\"scene\":{\"xaxis\":{\"backgroundcolor\":\"#E5ECF6\",\"gridcolor\":\"white\",\"linecolor\":\"white\",\"showbackground\":true,\"ticks\":\"\",\"zerolinecolor\":\"white\",\"gridwidth\":2},\"yaxis\":{\"backgroundcolor\":\"#E5ECF6\",\"gridcolor\":\"white\",\"linecolor\":\"white\",\"showbackground\":true,\"ticks\":\"\",\"zerolinecolor\":\"white\",\"gridwidth\":2},\"zaxis\":{\"backgroundcolor\":\"#E5ECF6\",\"gridcolor\":\"white\",\"linecolor\":\"white\",\"showbackground\":true,\"ticks\":\"\",\"zerolinecolor\":\"white\",\"gridwidth\":2}},\"shapedefaults\":{\"line\":{\"color\":\"#2a3f5f\"}},\"annotationdefaults\":{\"arrowcolor\":\"#2a3f5f\",\"arrowhead\":0,\"arrowwidth\":1},\"geo\":{\"bgcolor\":\"white\",\"landcolor\":\"#E5ECF6\",\"subunitcolor\":\"white\",\"showland\":true,\"showlakes\":true,\"lakecolor\":\"white\"},\"title\":{\"x\":0.05},\"mapbox\":{\"style\":\"light\"}}},\"xaxis\":{\"anchor\":\"y\",\"domain\":[0.0,1.0],\"title\":{\"text\":\"is_driver_assigned\"}},\"yaxis\":{\"anchor\":\"x\",\"domain\":[0.0,1.0],\"title\":{\"text\":\"Count\"}},\"legend\":{\"title\":{\"text\":\"order_status\"},\"tracegroupgap\":0},\"margin\":{\"t\":60},\"barmode\":\"group\"},                        {\"responsive\": true}                    ).then(function(){\n",
       "                            \n",
       "var gd = document.getElementById('f6906da6-be4b-4161-89f2-437e272464a4');\n",
       "var x = new MutationObserver(function (mutations, observer) {{\n",
       "        var display = window.getComputedStyle(gd).display;\n",
       "        if (!display || display === 'none') {{\n",
       "            console.log([gd, 'removed!']);\n",
       "            Plotly.purge(gd);\n",
       "            observer.disconnect();\n",
       "        }}\n",
       "}});\n",
       "\n",
       "// Listen for the removal of the full notebook cells\n",
       "var notebookContainer = gd.closest('#notebook-container');\n",
       "if (notebookContainer) {{\n",
       "    x.observe(notebookContainer, {childList: true});\n",
       "}}\n",
       "\n",
       "// Listen for the clearing of the current output cell\n",
       "var outputEl = gd.closest('.output');\n",
       "if (outputEl) {{\n",
       "    x.observe(outputEl, {childList: true});\n",
       "}}\n",
       "\n",
       "                        })                };                });            </script>        </div>"
      ]
     },
     "metadata": {},
     "output_type": "display_data"
    }
   ],
   "source": [
    "data = df_new.groupby(['is_driver_assigned', 'order_status']).size().rename(\"Count\").reset_index()\n",
    "\n",
    "fig = px.bar(data, x=\"is_driver_assigned\", y=\"Count\", color='order_status',\n",
    "       barmode='group')\n",
    "fig.show()"
   ]
  },
  {
   "cell_type": "code",
   "execution_count": 27,
   "id": "6136764f",
   "metadata": {},
   "outputs": [
    {
     "data": {
      "text/html": [
       "<div>\n",
       "<style scoped>\n",
       "    .dataframe tbody tr th:only-of-type {\n",
       "        vertical-align: middle;\n",
       "    }\n",
       "\n",
       "    .dataframe tbody tr th {\n",
       "        vertical-align: top;\n",
       "    }\n",
       "\n",
       "    .dataframe thead th {\n",
       "        text-align: right;\n",
       "    }\n",
       "</style>\n",
       "<table border=\"1\" class=\"dataframe\">\n",
       "  <thead>\n",
       "    <tr style=\"text-align: right;\">\n",
       "      <th></th>\n",
       "      <th>order_datetime</th>\n",
       "      <th>origin_longitude</th>\n",
       "      <th>origin_latitude</th>\n",
       "      <th>m_order_eta</th>\n",
       "      <th>order_gk</th>\n",
       "      <th>cancellations_time_in_seconds</th>\n",
       "      <th>offer_id</th>\n",
       "      <th>order_status</th>\n",
       "      <th>is_driver_assigned</th>\n",
       "      <th>hours</th>\n",
       "    </tr>\n",
       "  </thead>\n",
       "  <tbody>\n",
       "    <tr>\n",
       "      <th>0</th>\n",
       "      <td>18:08:07</td>\n",
       "      <td>-0.978916</td>\n",
       "      <td>51.456173</td>\n",
       "      <td>60.0</td>\n",
       "      <td>3000583041974</td>\n",
       "      <td>198.0</td>\n",
       "      <td>300050983403</td>\n",
       "      <td>Cancelled by client</td>\n",
       "      <td>Yes</td>\n",
       "      <td>18</td>\n",
       "    </tr>\n",
       "    <tr>\n",
       "      <th>1</th>\n",
       "      <td>20:57:32</td>\n",
       "      <td>-0.950385</td>\n",
       "      <td>51.456843</td>\n",
       "      <td>358.0</td>\n",
       "      <td>3000583116437</td>\n",
       "      <td>128.0</td>\n",
       "      <td>300050986179</td>\n",
       "      <td>Cancelled by client</td>\n",
       "      <td>No</td>\n",
       "      <td>20</td>\n",
       "    </tr>\n",
       "    <tr>\n",
       "      <th>4</th>\n",
       "      <td>12:07:50</td>\n",
       "      <td>-0.969520</td>\n",
       "      <td>51.455544</td>\n",
       "      <td>477.0</td>\n",
       "      <td>3000582891479</td>\n",
       "      <td>46.0</td>\n",
       "      <td>300050976275</td>\n",
       "      <td>Cancelled by client</td>\n",
       "      <td>Yes</td>\n",
       "      <td>12</td>\n",
       "    </tr>\n",
       "    <tr>\n",
       "      <th>10</th>\n",
       "      <td>13:50:20</td>\n",
       "      <td>-1.054671</td>\n",
       "      <td>51.460544</td>\n",
       "      <td>658.0</td>\n",
       "      <td>3000582941169</td>\n",
       "      <td>62.0</td>\n",
       "      <td>300050977907</td>\n",
       "      <td>Cancelled by client</td>\n",
       "      <td>Yes</td>\n",
       "      <td>13</td>\n",
       "    </tr>\n",
       "    <tr>\n",
       "      <th>13</th>\n",
       "      <td>21:21:23</td>\n",
       "      <td>-0.947011</td>\n",
       "      <td>51.456380</td>\n",
       "      <td>358.0</td>\n",
       "      <td>3000583117054</td>\n",
       "      <td>NaN</td>\n",
       "      <td>300050986706</td>\n",
       "      <td>Cancelled by system</td>\n",
       "      <td>No</td>\n",
       "      <td>21</td>\n",
       "    </tr>\n",
       "  </tbody>\n",
       "</table>\n",
       "</div>"
      ],
      "text/plain": [
       "   order_datetime  origin_longitude  origin_latitude  m_order_eta  \\\n",
       "0        18:08:07         -0.978916        51.456173         60.0   \n",
       "1        20:57:32         -0.950385        51.456843        358.0   \n",
       "4        12:07:50         -0.969520        51.455544        477.0   \n",
       "10       13:50:20         -1.054671        51.460544        658.0   \n",
       "13       21:21:23         -0.947011        51.456380        358.0   \n",
       "\n",
       "         order_gk  cancellations_time_in_seconds      offer_id  \\\n",
       "0   3000583041974                          198.0  300050983403   \n",
       "1   3000583116437                          128.0  300050986179   \n",
       "4   3000582891479                           46.0  300050976275   \n",
       "10  3000582941169                           62.0  300050977907   \n",
       "13  3000583117054                            NaN  300050986706   \n",
       "\n",
       "           order_status is_driver_assigned  hours  \n",
       "0   Cancelled by client                Yes     18  \n",
       "1   Cancelled by client                 No     20  \n",
       "4   Cancelled by client                Yes     12  \n",
       "10  Cancelled by client                Yes     13  \n",
       "13  Cancelled by system                 No     21  "
      ]
     },
     "execution_count": 27,
     "metadata": {},
     "output_type": "execute_result"
    }
   ],
   "source": [
    "df_new['hours'] = pd.to_datetime(df_new['order_datetime']).dt.hour\n",
    "df_new.head()"
   ]
  },
  {
   "cell_type": "markdown",
   "id": "22038ed7",
   "metadata": {},
   "source": [
    "2. Plot the distribution of failed orders by hours. Is there a trend that certain hours have an abnormally high proportion of one category or another? What hours are the biggest fails? How can this be explained?"
   ]
  },
  {
   "cell_type": "code",
   "execution_count": 28,
   "id": "d2e2751e",
   "metadata": {},
   "outputs": [
    {
     "data": {
      "application/vnd.plotly.v1+json": {
       "config": {
        "plotlyServerURL": "https://plot.ly"
       },
       "data": [
        {
         "alignmentgroup": "True",
         "hovertemplate": "order_status=Cancelled by client<br>hours=%{x}<br>Count Orders=%{y}<extra></extra>",
         "legendgroup": "Cancelled by client",
         "marker": {
          "color": "#636efa",
          "pattern": {
           "shape": ""
          }
         },
         "name": "Cancelled by client",
         "offsetgroup": "Cancelled by client",
         "orientation": "v",
         "showlegend": true,
         "textposition": "auto",
         "type": "bar",
         "x": [
          0,
          1,
          2,
          3,
          4,
          5,
          6,
          7,
          8,
          9,
          10,
          11,
          12,
          13,
          14,
          15,
          16,
          17,
          18,
          19,
          20,
          21,
          22,
          23
         ],
         "xaxis": "x",
         "y": [
          307,
          230,
          235,
          238,
          66,
          34,
          94,
          279,
          595,
          263,
          117,
          135,
          165,
          216,
          166,
          274,
          198,
          287,
          212,
          162,
          259,
          451,
          338,
          384
         ],
         "yaxis": "y"
        },
        {
         "alignmentgroup": "True",
         "hovertemplate": "order_status=Cancelled by system<br>hours=%{x}<br>Count Orders=%{y}<extra></extra>",
         "legendgroup": "Cancelled by system",
         "marker": {
          "color": "#EF553B",
          "pattern": {
           "shape": ""
          }
         },
         "name": "Cancelled by system",
         "offsetgroup": "Cancelled by system",
         "orientation": "v",
         "showlegend": true,
         "textposition": "auto",
         "type": "bar",
         "x": [
          0,
          1,
          2,
          3,
          4,
          5,
          6,
          7,
          8,
          9,
          10,
          11,
          12,
          13,
          14,
          15,
          16,
          17,
          18,
          19,
          20,
          21,
          22,
          23
         ],
         "xaxis": "x",
         "y": [
          133,
          78,
          167,
          160,
          21,
          10,
          28,
          102,
          242,
          62,
          9,
          16,
          21,
          64,
          22,
          59,
          24,
          56,
          51,
          19,
          76,
          217,
          110,
          158
         ],
         "yaxis": "y"
        }
       ],
       "layout": {
        "barmode": "group",
        "legend": {
         "title": {
          "text": "order_status"
         },
         "tracegroupgap": 0
        },
        "template": {
         "data": {
          "bar": [
           {
            "error_x": {
             "color": "#2a3f5f"
            },
            "error_y": {
             "color": "#2a3f5f"
            },
            "marker": {
             "line": {
              "color": "#E5ECF6",
              "width": 0.5
             },
             "pattern": {
              "fillmode": "overlay",
              "size": 10,
              "solidity": 0.2
             }
            },
            "type": "bar"
           }
          ],
          "barpolar": [
           {
            "marker": {
             "line": {
              "color": "#E5ECF6",
              "width": 0.5
             },
             "pattern": {
              "fillmode": "overlay",
              "size": 10,
              "solidity": 0.2
             }
            },
            "type": "barpolar"
           }
          ],
          "carpet": [
           {
            "aaxis": {
             "endlinecolor": "#2a3f5f",
             "gridcolor": "white",
             "linecolor": "white",
             "minorgridcolor": "white",
             "startlinecolor": "#2a3f5f"
            },
            "baxis": {
             "endlinecolor": "#2a3f5f",
             "gridcolor": "white",
             "linecolor": "white",
             "minorgridcolor": "white",
             "startlinecolor": "#2a3f5f"
            },
            "type": "carpet"
           }
          ],
          "choropleth": [
           {
            "colorbar": {
             "outlinewidth": 0,
             "ticks": ""
            },
            "type": "choropleth"
           }
          ],
          "contour": [
           {
            "colorbar": {
             "outlinewidth": 0,
             "ticks": ""
            },
            "colorscale": [
             [
              0,
              "#0d0887"
             ],
             [
              0.1111111111111111,
              "#46039f"
             ],
             [
              0.2222222222222222,
              "#7201a8"
             ],
             [
              0.3333333333333333,
              "#9c179e"
             ],
             [
              0.4444444444444444,
              "#bd3786"
             ],
             [
              0.5555555555555556,
              "#d8576b"
             ],
             [
              0.6666666666666666,
              "#ed7953"
             ],
             [
              0.7777777777777778,
              "#fb9f3a"
             ],
             [
              0.8888888888888888,
              "#fdca26"
             ],
             [
              1,
              "#f0f921"
             ]
            ],
            "type": "contour"
           }
          ],
          "contourcarpet": [
           {
            "colorbar": {
             "outlinewidth": 0,
             "ticks": ""
            },
            "type": "contourcarpet"
           }
          ],
          "heatmap": [
           {
            "colorbar": {
             "outlinewidth": 0,
             "ticks": ""
            },
            "colorscale": [
             [
              0,
              "#0d0887"
             ],
             [
              0.1111111111111111,
              "#46039f"
             ],
             [
              0.2222222222222222,
              "#7201a8"
             ],
             [
              0.3333333333333333,
              "#9c179e"
             ],
             [
              0.4444444444444444,
              "#bd3786"
             ],
             [
              0.5555555555555556,
              "#d8576b"
             ],
             [
              0.6666666666666666,
              "#ed7953"
             ],
             [
              0.7777777777777778,
              "#fb9f3a"
             ],
             [
              0.8888888888888888,
              "#fdca26"
             ],
             [
              1,
              "#f0f921"
             ]
            ],
            "type": "heatmap"
           }
          ],
          "heatmapgl": [
           {
            "colorbar": {
             "outlinewidth": 0,
             "ticks": ""
            },
            "colorscale": [
             [
              0,
              "#0d0887"
             ],
             [
              0.1111111111111111,
              "#46039f"
             ],
             [
              0.2222222222222222,
              "#7201a8"
             ],
             [
              0.3333333333333333,
              "#9c179e"
             ],
             [
              0.4444444444444444,
              "#bd3786"
             ],
             [
              0.5555555555555556,
              "#d8576b"
             ],
             [
              0.6666666666666666,
              "#ed7953"
             ],
             [
              0.7777777777777778,
              "#fb9f3a"
             ],
             [
              0.8888888888888888,
              "#fdca26"
             ],
             [
              1,
              "#f0f921"
             ]
            ],
            "type": "heatmapgl"
           }
          ],
          "histogram": [
           {
            "marker": {
             "pattern": {
              "fillmode": "overlay",
              "size": 10,
              "solidity": 0.2
             }
            },
            "type": "histogram"
           }
          ],
          "histogram2d": [
           {
            "colorbar": {
             "outlinewidth": 0,
             "ticks": ""
            },
            "colorscale": [
             [
              0,
              "#0d0887"
             ],
             [
              0.1111111111111111,
              "#46039f"
             ],
             [
              0.2222222222222222,
              "#7201a8"
             ],
             [
              0.3333333333333333,
              "#9c179e"
             ],
             [
              0.4444444444444444,
              "#bd3786"
             ],
             [
              0.5555555555555556,
              "#d8576b"
             ],
             [
              0.6666666666666666,
              "#ed7953"
             ],
             [
              0.7777777777777778,
              "#fb9f3a"
             ],
             [
              0.8888888888888888,
              "#fdca26"
             ],
             [
              1,
              "#f0f921"
             ]
            ],
            "type": "histogram2d"
           }
          ],
          "histogram2dcontour": [
           {
            "colorbar": {
             "outlinewidth": 0,
             "ticks": ""
            },
            "colorscale": [
             [
              0,
              "#0d0887"
             ],
             [
              0.1111111111111111,
              "#46039f"
             ],
             [
              0.2222222222222222,
              "#7201a8"
             ],
             [
              0.3333333333333333,
              "#9c179e"
             ],
             [
              0.4444444444444444,
              "#bd3786"
             ],
             [
              0.5555555555555556,
              "#d8576b"
             ],
             [
              0.6666666666666666,
              "#ed7953"
             ],
             [
              0.7777777777777778,
              "#fb9f3a"
             ],
             [
              0.8888888888888888,
              "#fdca26"
             ],
             [
              1,
              "#f0f921"
             ]
            ],
            "type": "histogram2dcontour"
           }
          ],
          "mesh3d": [
           {
            "colorbar": {
             "outlinewidth": 0,
             "ticks": ""
            },
            "type": "mesh3d"
           }
          ],
          "parcoords": [
           {
            "line": {
             "colorbar": {
              "outlinewidth": 0,
              "ticks": ""
             }
            },
            "type": "parcoords"
           }
          ],
          "pie": [
           {
            "automargin": true,
            "type": "pie"
           }
          ],
          "scatter": [
           {
            "fillpattern": {
             "fillmode": "overlay",
             "size": 10,
             "solidity": 0.2
            },
            "type": "scatter"
           }
          ],
          "scatter3d": [
           {
            "line": {
             "colorbar": {
              "outlinewidth": 0,
              "ticks": ""
             }
            },
            "marker": {
             "colorbar": {
              "outlinewidth": 0,
              "ticks": ""
             }
            },
            "type": "scatter3d"
           }
          ],
          "scattercarpet": [
           {
            "marker": {
             "colorbar": {
              "outlinewidth": 0,
              "ticks": ""
             }
            },
            "type": "scattercarpet"
           }
          ],
          "scattergeo": [
           {
            "marker": {
             "colorbar": {
              "outlinewidth": 0,
              "ticks": ""
             }
            },
            "type": "scattergeo"
           }
          ],
          "scattergl": [
           {
            "marker": {
             "colorbar": {
              "outlinewidth": 0,
              "ticks": ""
             }
            },
            "type": "scattergl"
           }
          ],
          "scattermapbox": [
           {
            "marker": {
             "colorbar": {
              "outlinewidth": 0,
              "ticks": ""
             }
            },
            "type": "scattermapbox"
           }
          ],
          "scatterpolar": [
           {
            "marker": {
             "colorbar": {
              "outlinewidth": 0,
              "ticks": ""
             }
            },
            "type": "scatterpolar"
           }
          ],
          "scatterpolargl": [
           {
            "marker": {
             "colorbar": {
              "outlinewidth": 0,
              "ticks": ""
             }
            },
            "type": "scatterpolargl"
           }
          ],
          "scatterternary": [
           {
            "marker": {
             "colorbar": {
              "outlinewidth": 0,
              "ticks": ""
             }
            },
            "type": "scatterternary"
           }
          ],
          "surface": [
           {
            "colorbar": {
             "outlinewidth": 0,
             "ticks": ""
            },
            "colorscale": [
             [
              0,
              "#0d0887"
             ],
             [
              0.1111111111111111,
              "#46039f"
             ],
             [
              0.2222222222222222,
              "#7201a8"
             ],
             [
              0.3333333333333333,
              "#9c179e"
             ],
             [
              0.4444444444444444,
              "#bd3786"
             ],
             [
              0.5555555555555556,
              "#d8576b"
             ],
             [
              0.6666666666666666,
              "#ed7953"
             ],
             [
              0.7777777777777778,
              "#fb9f3a"
             ],
             [
              0.8888888888888888,
              "#fdca26"
             ],
             [
              1,
              "#f0f921"
             ]
            ],
            "type": "surface"
           }
          ],
          "table": [
           {
            "cells": {
             "fill": {
              "color": "#EBF0F8"
             },
             "line": {
              "color": "white"
             }
            },
            "header": {
             "fill": {
              "color": "#C8D4E3"
             },
             "line": {
              "color": "white"
             }
            },
            "type": "table"
           }
          ]
         },
         "layout": {
          "annotationdefaults": {
           "arrowcolor": "#2a3f5f",
           "arrowhead": 0,
           "arrowwidth": 1
          },
          "autotypenumbers": "strict",
          "coloraxis": {
           "colorbar": {
            "outlinewidth": 0,
            "ticks": ""
           }
          },
          "colorscale": {
           "diverging": [
            [
             0,
             "#8e0152"
            ],
            [
             0.1,
             "#c51b7d"
            ],
            [
             0.2,
             "#de77ae"
            ],
            [
             0.3,
             "#f1b6da"
            ],
            [
             0.4,
             "#fde0ef"
            ],
            [
             0.5,
             "#f7f7f7"
            ],
            [
             0.6,
             "#e6f5d0"
            ],
            [
             0.7,
             "#b8e186"
            ],
            [
             0.8,
             "#7fbc41"
            ],
            [
             0.9,
             "#4d9221"
            ],
            [
             1,
             "#276419"
            ]
           ],
           "sequential": [
            [
             0,
             "#0d0887"
            ],
            [
             0.1111111111111111,
             "#46039f"
            ],
            [
             0.2222222222222222,
             "#7201a8"
            ],
            [
             0.3333333333333333,
             "#9c179e"
            ],
            [
             0.4444444444444444,
             "#bd3786"
            ],
            [
             0.5555555555555556,
             "#d8576b"
            ],
            [
             0.6666666666666666,
             "#ed7953"
            ],
            [
             0.7777777777777778,
             "#fb9f3a"
            ],
            [
             0.8888888888888888,
             "#fdca26"
            ],
            [
             1,
             "#f0f921"
            ]
           ],
           "sequentialminus": [
            [
             0,
             "#0d0887"
            ],
            [
             0.1111111111111111,
             "#46039f"
            ],
            [
             0.2222222222222222,
             "#7201a8"
            ],
            [
             0.3333333333333333,
             "#9c179e"
            ],
            [
             0.4444444444444444,
             "#bd3786"
            ],
            [
             0.5555555555555556,
             "#d8576b"
            ],
            [
             0.6666666666666666,
             "#ed7953"
            ],
            [
             0.7777777777777778,
             "#fb9f3a"
            ],
            [
             0.8888888888888888,
             "#fdca26"
            ],
            [
             1,
             "#f0f921"
            ]
           ]
          },
          "colorway": [
           "#636efa",
           "#EF553B",
           "#00cc96",
           "#ab63fa",
           "#FFA15A",
           "#19d3f3",
           "#FF6692",
           "#B6E880",
           "#FF97FF",
           "#FECB52"
          ],
          "font": {
           "color": "#2a3f5f"
          },
          "geo": {
           "bgcolor": "white",
           "lakecolor": "white",
           "landcolor": "#E5ECF6",
           "showlakes": true,
           "showland": true,
           "subunitcolor": "white"
          },
          "hoverlabel": {
           "align": "left"
          },
          "hovermode": "closest",
          "mapbox": {
           "style": "light"
          },
          "paper_bgcolor": "white",
          "plot_bgcolor": "#E5ECF6",
          "polar": {
           "angularaxis": {
            "gridcolor": "white",
            "linecolor": "white",
            "ticks": ""
           },
           "bgcolor": "#E5ECF6",
           "radialaxis": {
            "gridcolor": "white",
            "linecolor": "white",
            "ticks": ""
           }
          },
          "scene": {
           "xaxis": {
            "backgroundcolor": "#E5ECF6",
            "gridcolor": "white",
            "gridwidth": 2,
            "linecolor": "white",
            "showbackground": true,
            "ticks": "",
            "zerolinecolor": "white"
           },
           "yaxis": {
            "backgroundcolor": "#E5ECF6",
            "gridcolor": "white",
            "gridwidth": 2,
            "linecolor": "white",
            "showbackground": true,
            "ticks": "",
            "zerolinecolor": "white"
           },
           "zaxis": {
            "backgroundcolor": "#E5ECF6",
            "gridcolor": "white",
            "gridwidth": 2,
            "linecolor": "white",
            "showbackground": true,
            "ticks": "",
            "zerolinecolor": "white"
           }
          },
          "shapedefaults": {
           "line": {
            "color": "#2a3f5f"
           }
          },
          "ternary": {
           "aaxis": {
            "gridcolor": "white",
            "linecolor": "white",
            "ticks": ""
           },
           "baxis": {
            "gridcolor": "white",
            "linecolor": "white",
            "ticks": ""
           },
           "bgcolor": "#E5ECF6",
           "caxis": {
            "gridcolor": "white",
            "linecolor": "white",
            "ticks": ""
           }
          },
          "title": {
           "x": 0.05
          },
          "xaxis": {
           "automargin": true,
           "gridcolor": "white",
           "linecolor": "white",
           "ticks": "",
           "title": {
            "standoff": 15
           },
           "zerolinecolor": "white",
           "zerolinewidth": 2
          },
          "yaxis": {
           "automargin": true,
           "gridcolor": "white",
           "linecolor": "white",
           "ticks": "",
           "title": {
            "standoff": 15
           },
           "zerolinecolor": "white",
           "zerolinewidth": 2
          }
         }
        },
        "title": {
         "text": "Total Orders Cancelled"
        },
        "xaxis": {
         "anchor": "y",
         "domain": [
          0,
          1
         ],
         "title": {
          "text": "hours"
         }
        },
        "yaxis": {
         "anchor": "x",
         "domain": [
          0,
          1
         ],
         "title": {
          "text": "Count Orders"
         }
        }
       }
      },
      "text/html": [
       "<div>                            <div id=\"942dbcdf-b2bf-4410-8f39-4a821eb99c22\" class=\"plotly-graph-div\" style=\"height:525px; width:100%;\"></div>            <script type=\"text/javascript\">                require([\"plotly\"], function(Plotly) {                    window.PLOTLYENV=window.PLOTLYENV || {};                                    if (document.getElementById(\"942dbcdf-b2bf-4410-8f39-4a821eb99c22\")) {                    Plotly.newPlot(                        \"942dbcdf-b2bf-4410-8f39-4a821eb99c22\",                        [{\"alignmentgroup\":\"True\",\"hovertemplate\":\"order_status=Cancelled by client<br>hours=%{x}<br>Count Orders=%{y}<extra></extra>\",\"legendgroup\":\"Cancelled by client\",\"marker\":{\"color\":\"#636efa\",\"pattern\":{\"shape\":\"\"}},\"name\":\"Cancelled by client\",\"offsetgroup\":\"Cancelled by client\",\"orientation\":\"v\",\"showlegend\":true,\"textposition\":\"auto\",\"x\":[0,1,2,3,4,5,6,7,8,9,10,11,12,13,14,15,16,17,18,19,20,21,22,23],\"xaxis\":\"x\",\"y\":[307,230,235,238,66,34,94,279,595,263,117,135,165,216,166,274,198,287,212,162,259,451,338,384],\"yaxis\":\"y\",\"type\":\"bar\"},{\"alignmentgroup\":\"True\",\"hovertemplate\":\"order_status=Cancelled by system<br>hours=%{x}<br>Count Orders=%{y}<extra></extra>\",\"legendgroup\":\"Cancelled by system\",\"marker\":{\"color\":\"#EF553B\",\"pattern\":{\"shape\":\"\"}},\"name\":\"Cancelled by system\",\"offsetgroup\":\"Cancelled by system\",\"orientation\":\"v\",\"showlegend\":true,\"textposition\":\"auto\",\"x\":[0,1,2,3,4,5,6,7,8,9,10,11,12,13,14,15,16,17,18,19,20,21,22,23],\"xaxis\":\"x\",\"y\":[133,78,167,160,21,10,28,102,242,62,9,16,21,64,22,59,24,56,51,19,76,217,110,158],\"yaxis\":\"y\",\"type\":\"bar\"}],                        {\"template\":{\"data\":{\"histogram2dcontour\":[{\"type\":\"histogram2dcontour\",\"colorbar\":{\"outlinewidth\":0,\"ticks\":\"\"},\"colorscale\":[[0.0,\"#0d0887\"],[0.1111111111111111,\"#46039f\"],[0.2222222222222222,\"#7201a8\"],[0.3333333333333333,\"#9c179e\"],[0.4444444444444444,\"#bd3786\"],[0.5555555555555556,\"#d8576b\"],[0.6666666666666666,\"#ed7953\"],[0.7777777777777778,\"#fb9f3a\"],[0.8888888888888888,\"#fdca26\"],[1.0,\"#f0f921\"]]}],\"choropleth\":[{\"type\":\"choropleth\",\"colorbar\":{\"outlinewidth\":0,\"ticks\":\"\"}}],\"histogram2d\":[{\"type\":\"histogram2d\",\"colorbar\":{\"outlinewidth\":0,\"ticks\":\"\"},\"colorscale\":[[0.0,\"#0d0887\"],[0.1111111111111111,\"#46039f\"],[0.2222222222222222,\"#7201a8\"],[0.3333333333333333,\"#9c179e\"],[0.4444444444444444,\"#bd3786\"],[0.5555555555555556,\"#d8576b\"],[0.6666666666666666,\"#ed7953\"],[0.7777777777777778,\"#fb9f3a\"],[0.8888888888888888,\"#fdca26\"],[1.0,\"#f0f921\"]]}],\"heatmap\":[{\"type\":\"heatmap\",\"colorbar\":{\"outlinewidth\":0,\"ticks\":\"\"},\"colorscale\":[[0.0,\"#0d0887\"],[0.1111111111111111,\"#46039f\"],[0.2222222222222222,\"#7201a8\"],[0.3333333333333333,\"#9c179e\"],[0.4444444444444444,\"#bd3786\"],[0.5555555555555556,\"#d8576b\"],[0.6666666666666666,\"#ed7953\"],[0.7777777777777778,\"#fb9f3a\"],[0.8888888888888888,\"#fdca26\"],[1.0,\"#f0f921\"]]}],\"heatmapgl\":[{\"type\":\"heatmapgl\",\"colorbar\":{\"outlinewidth\":0,\"ticks\":\"\"},\"colorscale\":[[0.0,\"#0d0887\"],[0.1111111111111111,\"#46039f\"],[0.2222222222222222,\"#7201a8\"],[0.3333333333333333,\"#9c179e\"],[0.4444444444444444,\"#bd3786\"],[0.5555555555555556,\"#d8576b\"],[0.6666666666666666,\"#ed7953\"],[0.7777777777777778,\"#fb9f3a\"],[0.8888888888888888,\"#fdca26\"],[1.0,\"#f0f921\"]]}],\"contourcarpet\":[{\"type\":\"contourcarpet\",\"colorbar\":{\"outlinewidth\":0,\"ticks\":\"\"}}],\"contour\":[{\"type\":\"contour\",\"colorbar\":{\"outlinewidth\":0,\"ticks\":\"\"},\"colorscale\":[[0.0,\"#0d0887\"],[0.1111111111111111,\"#46039f\"],[0.2222222222222222,\"#7201a8\"],[0.3333333333333333,\"#9c179e\"],[0.4444444444444444,\"#bd3786\"],[0.5555555555555556,\"#d8576b\"],[0.6666666666666666,\"#ed7953\"],[0.7777777777777778,\"#fb9f3a\"],[0.8888888888888888,\"#fdca26\"],[1.0,\"#f0f921\"]]}],\"surface\":[{\"type\":\"surface\",\"colorbar\":{\"outlinewidth\":0,\"ticks\":\"\"},\"colorscale\":[[0.0,\"#0d0887\"],[0.1111111111111111,\"#46039f\"],[0.2222222222222222,\"#7201a8\"],[0.3333333333333333,\"#9c179e\"],[0.4444444444444444,\"#bd3786\"],[0.5555555555555556,\"#d8576b\"],[0.6666666666666666,\"#ed7953\"],[0.7777777777777778,\"#fb9f3a\"],[0.8888888888888888,\"#fdca26\"],[1.0,\"#f0f921\"]]}],\"mesh3d\":[{\"type\":\"mesh3d\",\"colorbar\":{\"outlinewidth\":0,\"ticks\":\"\"}}],\"scatter\":[{\"fillpattern\":{\"fillmode\":\"overlay\",\"size\":10,\"solidity\":0.2},\"type\":\"scatter\"}],\"parcoords\":[{\"type\":\"parcoords\",\"line\":{\"colorbar\":{\"outlinewidth\":0,\"ticks\":\"\"}}}],\"scatterpolargl\":[{\"type\":\"scatterpolargl\",\"marker\":{\"colorbar\":{\"outlinewidth\":0,\"ticks\":\"\"}}}],\"bar\":[{\"error_x\":{\"color\":\"#2a3f5f\"},\"error_y\":{\"color\":\"#2a3f5f\"},\"marker\":{\"line\":{\"color\":\"#E5ECF6\",\"width\":0.5},\"pattern\":{\"fillmode\":\"overlay\",\"size\":10,\"solidity\":0.2}},\"type\":\"bar\"}],\"scattergeo\":[{\"type\":\"scattergeo\",\"marker\":{\"colorbar\":{\"outlinewidth\":0,\"ticks\":\"\"}}}],\"scatterpolar\":[{\"type\":\"scatterpolar\",\"marker\":{\"colorbar\":{\"outlinewidth\":0,\"ticks\":\"\"}}}],\"histogram\":[{\"marker\":{\"pattern\":{\"fillmode\":\"overlay\",\"size\":10,\"solidity\":0.2}},\"type\":\"histogram\"}],\"scattergl\":[{\"type\":\"scattergl\",\"marker\":{\"colorbar\":{\"outlinewidth\":0,\"ticks\":\"\"}}}],\"scatter3d\":[{\"type\":\"scatter3d\",\"line\":{\"colorbar\":{\"outlinewidth\":0,\"ticks\":\"\"}},\"marker\":{\"colorbar\":{\"outlinewidth\":0,\"ticks\":\"\"}}}],\"scattermapbox\":[{\"type\":\"scattermapbox\",\"marker\":{\"colorbar\":{\"outlinewidth\":0,\"ticks\":\"\"}}}],\"scatterternary\":[{\"type\":\"scatterternary\",\"marker\":{\"colorbar\":{\"outlinewidth\":0,\"ticks\":\"\"}}}],\"scattercarpet\":[{\"type\":\"scattercarpet\",\"marker\":{\"colorbar\":{\"outlinewidth\":0,\"ticks\":\"\"}}}],\"carpet\":[{\"aaxis\":{\"endlinecolor\":\"#2a3f5f\",\"gridcolor\":\"white\",\"linecolor\":\"white\",\"minorgridcolor\":\"white\",\"startlinecolor\":\"#2a3f5f\"},\"baxis\":{\"endlinecolor\":\"#2a3f5f\",\"gridcolor\":\"white\",\"linecolor\":\"white\",\"minorgridcolor\":\"white\",\"startlinecolor\":\"#2a3f5f\"},\"type\":\"carpet\"}],\"table\":[{\"cells\":{\"fill\":{\"color\":\"#EBF0F8\"},\"line\":{\"color\":\"white\"}},\"header\":{\"fill\":{\"color\":\"#C8D4E3\"},\"line\":{\"color\":\"white\"}},\"type\":\"table\"}],\"barpolar\":[{\"marker\":{\"line\":{\"color\":\"#E5ECF6\",\"width\":0.5},\"pattern\":{\"fillmode\":\"overlay\",\"size\":10,\"solidity\":0.2}},\"type\":\"barpolar\"}],\"pie\":[{\"automargin\":true,\"type\":\"pie\"}]},\"layout\":{\"autotypenumbers\":\"strict\",\"colorway\":[\"#636efa\",\"#EF553B\",\"#00cc96\",\"#ab63fa\",\"#FFA15A\",\"#19d3f3\",\"#FF6692\",\"#B6E880\",\"#FF97FF\",\"#FECB52\"],\"font\":{\"color\":\"#2a3f5f\"},\"hovermode\":\"closest\",\"hoverlabel\":{\"align\":\"left\"},\"paper_bgcolor\":\"white\",\"plot_bgcolor\":\"#E5ECF6\",\"polar\":{\"bgcolor\":\"#E5ECF6\",\"angularaxis\":{\"gridcolor\":\"white\",\"linecolor\":\"white\",\"ticks\":\"\"},\"radialaxis\":{\"gridcolor\":\"white\",\"linecolor\":\"white\",\"ticks\":\"\"}},\"ternary\":{\"bgcolor\":\"#E5ECF6\",\"aaxis\":{\"gridcolor\":\"white\",\"linecolor\":\"white\",\"ticks\":\"\"},\"baxis\":{\"gridcolor\":\"white\",\"linecolor\":\"white\",\"ticks\":\"\"},\"caxis\":{\"gridcolor\":\"white\",\"linecolor\":\"white\",\"ticks\":\"\"}},\"coloraxis\":{\"colorbar\":{\"outlinewidth\":0,\"ticks\":\"\"}},\"colorscale\":{\"sequential\":[[0.0,\"#0d0887\"],[0.1111111111111111,\"#46039f\"],[0.2222222222222222,\"#7201a8\"],[0.3333333333333333,\"#9c179e\"],[0.4444444444444444,\"#bd3786\"],[0.5555555555555556,\"#d8576b\"],[0.6666666666666666,\"#ed7953\"],[0.7777777777777778,\"#fb9f3a\"],[0.8888888888888888,\"#fdca26\"],[1.0,\"#f0f921\"]],\"sequentialminus\":[[0.0,\"#0d0887\"],[0.1111111111111111,\"#46039f\"],[0.2222222222222222,\"#7201a8\"],[0.3333333333333333,\"#9c179e\"],[0.4444444444444444,\"#bd3786\"],[0.5555555555555556,\"#d8576b\"],[0.6666666666666666,\"#ed7953\"],[0.7777777777777778,\"#fb9f3a\"],[0.8888888888888888,\"#fdca26\"],[1.0,\"#f0f921\"]],\"diverging\":[[0,\"#8e0152\"],[0.1,\"#c51b7d\"],[0.2,\"#de77ae\"],[0.3,\"#f1b6da\"],[0.4,\"#fde0ef\"],[0.5,\"#f7f7f7\"],[0.6,\"#e6f5d0\"],[0.7,\"#b8e186\"],[0.8,\"#7fbc41\"],[0.9,\"#4d9221\"],[1,\"#276419\"]]},\"xaxis\":{\"gridcolor\":\"white\",\"linecolor\":\"white\",\"ticks\":\"\",\"title\":{\"standoff\":15},\"zerolinecolor\":\"white\",\"automargin\":true,\"zerolinewidth\":2},\"yaxis\":{\"gridcolor\":\"white\",\"linecolor\":\"white\",\"ticks\":\"\",\"title\":{\"standoff\":15},\"zerolinecolor\":\"white\",\"automargin\":true,\"zerolinewidth\":2},\"scene\":{\"xaxis\":{\"backgroundcolor\":\"#E5ECF6\",\"gridcolor\":\"white\",\"linecolor\":\"white\",\"showbackground\":true,\"ticks\":\"\",\"zerolinecolor\":\"white\",\"gridwidth\":2},\"yaxis\":{\"backgroundcolor\":\"#E5ECF6\",\"gridcolor\":\"white\",\"linecolor\":\"white\",\"showbackground\":true,\"ticks\":\"\",\"zerolinecolor\":\"white\",\"gridwidth\":2},\"zaxis\":{\"backgroundcolor\":\"#E5ECF6\",\"gridcolor\":\"white\",\"linecolor\":\"white\",\"showbackground\":true,\"ticks\":\"\",\"zerolinecolor\":\"white\",\"gridwidth\":2}},\"shapedefaults\":{\"line\":{\"color\":\"#2a3f5f\"}},\"annotationdefaults\":{\"arrowcolor\":\"#2a3f5f\",\"arrowhead\":0,\"arrowwidth\":1},\"geo\":{\"bgcolor\":\"white\",\"landcolor\":\"#E5ECF6\",\"subunitcolor\":\"white\",\"showland\":true,\"showlakes\":true,\"lakecolor\":\"white\"},\"title\":{\"x\":0.05},\"mapbox\":{\"style\":\"light\"}}},\"xaxis\":{\"anchor\":\"y\",\"domain\":[0.0,1.0],\"title\":{\"text\":\"hours\"}},\"yaxis\":{\"anchor\":\"x\",\"domain\":[0.0,1.0],\"title\":{\"text\":\"Count Orders\"}},\"legend\":{\"title\":{\"text\":\"order_status\"},\"tracegroupgap\":0},\"title\":{\"text\":\"Total Orders Cancelled\"},\"barmode\":\"group\"},                        {\"responsive\": true}                    ).then(function(){\n",
       "                            \n",
       "var gd = document.getElementById('942dbcdf-b2bf-4410-8f39-4a821eb99c22');\n",
       "var x = new MutationObserver(function (mutations, observer) {{\n",
       "        var display = window.getComputedStyle(gd).display;\n",
       "        if (!display || display === 'none') {{\n",
       "            console.log([gd, 'removed!']);\n",
       "            Plotly.purge(gd);\n",
       "            observer.disconnect();\n",
       "        }}\n",
       "}});\n",
       "\n",
       "// Listen for the removal of the full notebook cells\n",
       "var notebookContainer = gd.closest('#notebook-container');\n",
       "if (notebookContainer) {{\n",
       "    x.observe(notebookContainer, {childList: true});\n",
       "}}\n",
       "\n",
       "// Listen for the clearing of the current output cell\n",
       "var outputEl = gd.closest('.output');\n",
       "if (outputEl) {{\n",
       "    x.observe(outputEl, {childList: true});\n",
       "}}\n",
       "\n",
       "                        })                };                });            </script>        </div>"
      ]
     },
     "metadata": {},
     "output_type": "display_data"
    }
   ],
   "source": [
    "time = df_new.groupby(['hours', 'order_status']).size().rename(\"Count Orders\").reset_index()\n",
    "\n",
    "fig = px.bar(time, x='hours', y='Count Orders', color='order_status',\n",
    "             barmode='group', title=\"Total Orders Cancelled\")\n",
    "fig.show()"
   ]
  },
  {
   "cell_type": "markdown",
   "id": "f5b52aa0",
   "metadata": {},
   "source": [
    "3. Plot the average time to cancellation with and without driver, by the hour. If there are any outliers in the data, it would be better to remove them. Can we draw any conclusions from this plot?"
   ]
  },
  {
   "cell_type": "code",
   "execution_count": 29,
   "id": "94bd5aea",
   "metadata": {},
   "outputs": [
    {
     "data": {
      "application/vnd.plotly.v1+json": {
       "config": {
        "plotlyServerURL": "https://plot.ly"
       },
       "data": [
        {
         "hovertemplate": "is_driver_assigned=No<br>hours=%{x}<br>Avg Time Cancellation=%{y}<extra></extra>",
         "legendgroup": "No",
         "line": {
          "color": "#636efa",
          "dash": "solid"
         },
         "marker": {
          "symbol": "circle"
         },
         "mode": "lines",
         "name": "No",
         "orientation": "v",
         "showlegend": true,
         "type": "scatter",
         "x": [
          0,
          1,
          2,
          3,
          4,
          5,
          6,
          7,
          8,
          9,
          10,
          11,
          12,
          13,
          14,
          15,
          16,
          17,
          18,
          19,
          20,
          21,
          22,
          23
         ],
         "xaxis": "x",
         "y": [
          95.75688073394495,
          91.28387096774193,
          112.33536585365853,
          110.0505617977528,
          81.63636363636364,
          113.23076923076923,
          139.27083333333334,
          117.97709923664122,
          111.44642857142857,
          117.02521008403362,
          73.09302325581395,
          74.91489361702128,
          98.01204819277109,
          91.4424778761062,
          85.90123456790124,
          106.29729729729729,
          96.05319148936171,
          88.51234567901234,
          68.07407407407408,
          72.55223880597015,
          98.23926380368098,
          116.52602739726028,
          88.35930735930737,
          97.70786516853933
         ],
         "yaxis": "y"
        },
        {
         "hovertemplate": "is_driver_assigned=Yes<br>hours=%{x}<br>Avg Time Cancellation=%{y}<extra></extra>",
         "legendgroup": "Yes",
         "line": {
          "color": "#EF553B",
          "dash": "solid"
         },
         "marker": {
          "symbol": "circle"
         },
         "mode": "lines",
         "name": "Yes",
         "orientation": "v",
         "showlegend": true,
         "type": "scatter",
         "x": [
          0,
          1,
          2,
          3,
          4,
          5,
          6,
          7,
          8,
          9,
          10,
          11,
          12,
          13,
          14,
          15,
          16,
          17,
          18,
          19,
          20,
          21,
          22,
          23
         ],
         "xaxis": "x",
         "y": [
          251.34831460674158,
          240.37333333333333,
          303.76056338028167,
          292.3666666666667,
          209.03030303030303,
          168.33333333333334,
          247.1304347826087,
          187.25,
          164.04633204633205,
          213.84027777777777,
          198.13513513513513,
          247.38636363636363,
          211.34146341463415,
          243.24271844660194,
          220.6235294117647,
          196.33333333333334,
          201.51923076923077,
          249.296,
          248.82692307692307,
          177.96842105263158,
          200,
          213.09302325581396,
          208.2429906542056,
          262.991452991453
         ],
         "yaxis": "y"
        }
       ],
       "layout": {
        "legend": {
         "title": {
          "text": "is_driver_assigned"
         },
         "tracegroupgap": 0
        },
        "margin": {
         "t": 60
        },
        "template": {
         "data": {
          "bar": [
           {
            "error_x": {
             "color": "#2a3f5f"
            },
            "error_y": {
             "color": "#2a3f5f"
            },
            "marker": {
             "line": {
              "color": "#E5ECF6",
              "width": 0.5
             },
             "pattern": {
              "fillmode": "overlay",
              "size": 10,
              "solidity": 0.2
             }
            },
            "type": "bar"
           }
          ],
          "barpolar": [
           {
            "marker": {
             "line": {
              "color": "#E5ECF6",
              "width": 0.5
             },
             "pattern": {
              "fillmode": "overlay",
              "size": 10,
              "solidity": 0.2
             }
            },
            "type": "barpolar"
           }
          ],
          "carpet": [
           {
            "aaxis": {
             "endlinecolor": "#2a3f5f",
             "gridcolor": "white",
             "linecolor": "white",
             "minorgridcolor": "white",
             "startlinecolor": "#2a3f5f"
            },
            "baxis": {
             "endlinecolor": "#2a3f5f",
             "gridcolor": "white",
             "linecolor": "white",
             "minorgridcolor": "white",
             "startlinecolor": "#2a3f5f"
            },
            "type": "carpet"
           }
          ],
          "choropleth": [
           {
            "colorbar": {
             "outlinewidth": 0,
             "ticks": ""
            },
            "type": "choropleth"
           }
          ],
          "contour": [
           {
            "colorbar": {
             "outlinewidth": 0,
             "ticks": ""
            },
            "colorscale": [
             [
              0,
              "#0d0887"
             ],
             [
              0.1111111111111111,
              "#46039f"
             ],
             [
              0.2222222222222222,
              "#7201a8"
             ],
             [
              0.3333333333333333,
              "#9c179e"
             ],
             [
              0.4444444444444444,
              "#bd3786"
             ],
             [
              0.5555555555555556,
              "#d8576b"
             ],
             [
              0.6666666666666666,
              "#ed7953"
             ],
             [
              0.7777777777777778,
              "#fb9f3a"
             ],
             [
              0.8888888888888888,
              "#fdca26"
             ],
             [
              1,
              "#f0f921"
             ]
            ],
            "type": "contour"
           }
          ],
          "contourcarpet": [
           {
            "colorbar": {
             "outlinewidth": 0,
             "ticks": ""
            },
            "type": "contourcarpet"
           }
          ],
          "heatmap": [
           {
            "colorbar": {
             "outlinewidth": 0,
             "ticks": ""
            },
            "colorscale": [
             [
              0,
              "#0d0887"
             ],
             [
              0.1111111111111111,
              "#46039f"
             ],
             [
              0.2222222222222222,
              "#7201a8"
             ],
             [
              0.3333333333333333,
              "#9c179e"
             ],
             [
              0.4444444444444444,
              "#bd3786"
             ],
             [
              0.5555555555555556,
              "#d8576b"
             ],
             [
              0.6666666666666666,
              "#ed7953"
             ],
             [
              0.7777777777777778,
              "#fb9f3a"
             ],
             [
              0.8888888888888888,
              "#fdca26"
             ],
             [
              1,
              "#f0f921"
             ]
            ],
            "type": "heatmap"
           }
          ],
          "heatmapgl": [
           {
            "colorbar": {
             "outlinewidth": 0,
             "ticks": ""
            },
            "colorscale": [
             [
              0,
              "#0d0887"
             ],
             [
              0.1111111111111111,
              "#46039f"
             ],
             [
              0.2222222222222222,
              "#7201a8"
             ],
             [
              0.3333333333333333,
              "#9c179e"
             ],
             [
              0.4444444444444444,
              "#bd3786"
             ],
             [
              0.5555555555555556,
              "#d8576b"
             ],
             [
              0.6666666666666666,
              "#ed7953"
             ],
             [
              0.7777777777777778,
              "#fb9f3a"
             ],
             [
              0.8888888888888888,
              "#fdca26"
             ],
             [
              1,
              "#f0f921"
             ]
            ],
            "type": "heatmapgl"
           }
          ],
          "histogram": [
           {
            "marker": {
             "pattern": {
              "fillmode": "overlay",
              "size": 10,
              "solidity": 0.2
             }
            },
            "type": "histogram"
           }
          ],
          "histogram2d": [
           {
            "colorbar": {
             "outlinewidth": 0,
             "ticks": ""
            },
            "colorscale": [
             [
              0,
              "#0d0887"
             ],
             [
              0.1111111111111111,
              "#46039f"
             ],
             [
              0.2222222222222222,
              "#7201a8"
             ],
             [
              0.3333333333333333,
              "#9c179e"
             ],
             [
              0.4444444444444444,
              "#bd3786"
             ],
             [
              0.5555555555555556,
              "#d8576b"
             ],
             [
              0.6666666666666666,
              "#ed7953"
             ],
             [
              0.7777777777777778,
              "#fb9f3a"
             ],
             [
              0.8888888888888888,
              "#fdca26"
             ],
             [
              1,
              "#f0f921"
             ]
            ],
            "type": "histogram2d"
           }
          ],
          "histogram2dcontour": [
           {
            "colorbar": {
             "outlinewidth": 0,
             "ticks": ""
            },
            "colorscale": [
             [
              0,
              "#0d0887"
             ],
             [
              0.1111111111111111,
              "#46039f"
             ],
             [
              0.2222222222222222,
              "#7201a8"
             ],
             [
              0.3333333333333333,
              "#9c179e"
             ],
             [
              0.4444444444444444,
              "#bd3786"
             ],
             [
              0.5555555555555556,
              "#d8576b"
             ],
             [
              0.6666666666666666,
              "#ed7953"
             ],
             [
              0.7777777777777778,
              "#fb9f3a"
             ],
             [
              0.8888888888888888,
              "#fdca26"
             ],
             [
              1,
              "#f0f921"
             ]
            ],
            "type": "histogram2dcontour"
           }
          ],
          "mesh3d": [
           {
            "colorbar": {
             "outlinewidth": 0,
             "ticks": ""
            },
            "type": "mesh3d"
           }
          ],
          "parcoords": [
           {
            "line": {
             "colorbar": {
              "outlinewidth": 0,
              "ticks": ""
             }
            },
            "type": "parcoords"
           }
          ],
          "pie": [
           {
            "automargin": true,
            "type": "pie"
           }
          ],
          "scatter": [
           {
            "fillpattern": {
             "fillmode": "overlay",
             "size": 10,
             "solidity": 0.2
            },
            "type": "scatter"
           }
          ],
          "scatter3d": [
           {
            "line": {
             "colorbar": {
              "outlinewidth": 0,
              "ticks": ""
             }
            },
            "marker": {
             "colorbar": {
              "outlinewidth": 0,
              "ticks": ""
             }
            },
            "type": "scatter3d"
           }
          ],
          "scattercarpet": [
           {
            "marker": {
             "colorbar": {
              "outlinewidth": 0,
              "ticks": ""
             }
            },
            "type": "scattercarpet"
           }
          ],
          "scattergeo": [
           {
            "marker": {
             "colorbar": {
              "outlinewidth": 0,
              "ticks": ""
             }
            },
            "type": "scattergeo"
           }
          ],
          "scattergl": [
           {
            "marker": {
             "colorbar": {
              "outlinewidth": 0,
              "ticks": ""
             }
            },
            "type": "scattergl"
           }
          ],
          "scattermapbox": [
           {
            "marker": {
             "colorbar": {
              "outlinewidth": 0,
              "ticks": ""
             }
            },
            "type": "scattermapbox"
           }
          ],
          "scatterpolar": [
           {
            "marker": {
             "colorbar": {
              "outlinewidth": 0,
              "ticks": ""
             }
            },
            "type": "scatterpolar"
           }
          ],
          "scatterpolargl": [
           {
            "marker": {
             "colorbar": {
              "outlinewidth": 0,
              "ticks": ""
             }
            },
            "type": "scatterpolargl"
           }
          ],
          "scatterternary": [
           {
            "marker": {
             "colorbar": {
              "outlinewidth": 0,
              "ticks": ""
             }
            },
            "type": "scatterternary"
           }
          ],
          "surface": [
           {
            "colorbar": {
             "outlinewidth": 0,
             "ticks": ""
            },
            "colorscale": [
             [
              0,
              "#0d0887"
             ],
             [
              0.1111111111111111,
              "#46039f"
             ],
             [
              0.2222222222222222,
              "#7201a8"
             ],
             [
              0.3333333333333333,
              "#9c179e"
             ],
             [
              0.4444444444444444,
              "#bd3786"
             ],
             [
              0.5555555555555556,
              "#d8576b"
             ],
             [
              0.6666666666666666,
              "#ed7953"
             ],
             [
              0.7777777777777778,
              "#fb9f3a"
             ],
             [
              0.8888888888888888,
              "#fdca26"
             ],
             [
              1,
              "#f0f921"
             ]
            ],
            "type": "surface"
           }
          ],
          "table": [
           {
            "cells": {
             "fill": {
              "color": "#EBF0F8"
             },
             "line": {
              "color": "white"
             }
            },
            "header": {
             "fill": {
              "color": "#C8D4E3"
             },
             "line": {
              "color": "white"
             }
            },
            "type": "table"
           }
          ]
         },
         "layout": {
          "annotationdefaults": {
           "arrowcolor": "#2a3f5f",
           "arrowhead": 0,
           "arrowwidth": 1
          },
          "autotypenumbers": "strict",
          "coloraxis": {
           "colorbar": {
            "outlinewidth": 0,
            "ticks": ""
           }
          },
          "colorscale": {
           "diverging": [
            [
             0,
             "#8e0152"
            ],
            [
             0.1,
             "#c51b7d"
            ],
            [
             0.2,
             "#de77ae"
            ],
            [
             0.3,
             "#f1b6da"
            ],
            [
             0.4,
             "#fde0ef"
            ],
            [
             0.5,
             "#f7f7f7"
            ],
            [
             0.6,
             "#e6f5d0"
            ],
            [
             0.7,
             "#b8e186"
            ],
            [
             0.8,
             "#7fbc41"
            ],
            [
             0.9,
             "#4d9221"
            ],
            [
             1,
             "#276419"
            ]
           ],
           "sequential": [
            [
             0,
             "#0d0887"
            ],
            [
             0.1111111111111111,
             "#46039f"
            ],
            [
             0.2222222222222222,
             "#7201a8"
            ],
            [
             0.3333333333333333,
             "#9c179e"
            ],
            [
             0.4444444444444444,
             "#bd3786"
            ],
            [
             0.5555555555555556,
             "#d8576b"
            ],
            [
             0.6666666666666666,
             "#ed7953"
            ],
            [
             0.7777777777777778,
             "#fb9f3a"
            ],
            [
             0.8888888888888888,
             "#fdca26"
            ],
            [
             1,
             "#f0f921"
            ]
           ],
           "sequentialminus": [
            [
             0,
             "#0d0887"
            ],
            [
             0.1111111111111111,
             "#46039f"
            ],
            [
             0.2222222222222222,
             "#7201a8"
            ],
            [
             0.3333333333333333,
             "#9c179e"
            ],
            [
             0.4444444444444444,
             "#bd3786"
            ],
            [
             0.5555555555555556,
             "#d8576b"
            ],
            [
             0.6666666666666666,
             "#ed7953"
            ],
            [
             0.7777777777777778,
             "#fb9f3a"
            ],
            [
             0.8888888888888888,
             "#fdca26"
            ],
            [
             1,
             "#f0f921"
            ]
           ]
          },
          "colorway": [
           "#636efa",
           "#EF553B",
           "#00cc96",
           "#ab63fa",
           "#FFA15A",
           "#19d3f3",
           "#FF6692",
           "#B6E880",
           "#FF97FF",
           "#FECB52"
          ],
          "font": {
           "color": "#2a3f5f"
          },
          "geo": {
           "bgcolor": "white",
           "lakecolor": "white",
           "landcolor": "#E5ECF6",
           "showlakes": true,
           "showland": true,
           "subunitcolor": "white"
          },
          "hoverlabel": {
           "align": "left"
          },
          "hovermode": "closest",
          "mapbox": {
           "style": "light"
          },
          "paper_bgcolor": "white",
          "plot_bgcolor": "#E5ECF6",
          "polar": {
           "angularaxis": {
            "gridcolor": "white",
            "linecolor": "white",
            "ticks": ""
           },
           "bgcolor": "#E5ECF6",
           "radialaxis": {
            "gridcolor": "white",
            "linecolor": "white",
            "ticks": ""
           }
          },
          "scene": {
           "xaxis": {
            "backgroundcolor": "#E5ECF6",
            "gridcolor": "white",
            "gridwidth": 2,
            "linecolor": "white",
            "showbackground": true,
            "ticks": "",
            "zerolinecolor": "white"
           },
           "yaxis": {
            "backgroundcolor": "#E5ECF6",
            "gridcolor": "white",
            "gridwidth": 2,
            "linecolor": "white",
            "showbackground": true,
            "ticks": "",
            "zerolinecolor": "white"
           },
           "zaxis": {
            "backgroundcolor": "#E5ECF6",
            "gridcolor": "white",
            "gridwidth": 2,
            "linecolor": "white",
            "showbackground": true,
            "ticks": "",
            "zerolinecolor": "white"
           }
          },
          "shapedefaults": {
           "line": {
            "color": "#2a3f5f"
           }
          },
          "ternary": {
           "aaxis": {
            "gridcolor": "white",
            "linecolor": "white",
            "ticks": ""
           },
           "baxis": {
            "gridcolor": "white",
            "linecolor": "white",
            "ticks": ""
           },
           "bgcolor": "#E5ECF6",
           "caxis": {
            "gridcolor": "white",
            "linecolor": "white",
            "ticks": ""
           }
          },
          "title": {
           "x": 0.05
          },
          "xaxis": {
           "automargin": true,
           "gridcolor": "white",
           "linecolor": "white",
           "ticks": "",
           "title": {
            "standoff": 15
           },
           "zerolinecolor": "white",
           "zerolinewidth": 2
          },
          "yaxis": {
           "automargin": true,
           "gridcolor": "white",
           "linecolor": "white",
           "ticks": "",
           "title": {
            "standoff": 15
           },
           "zerolinecolor": "white",
           "zerolinewidth": 2
          }
         }
        },
        "xaxis": {
         "anchor": "y",
         "domain": [
          0,
          1
         ],
         "title": {
          "text": "hours"
         }
        },
        "yaxis": {
         "anchor": "x",
         "domain": [
          0,
          1
         ],
         "title": {
          "text": "Avg Time Cancellation"
         }
        }
       }
      },
      "text/html": [
       "<div>                            <div id=\"e1a33f47-94d0-4937-a1ce-8b69e087cad8\" class=\"plotly-graph-div\" style=\"height:525px; width:100%;\"></div>            <script type=\"text/javascript\">                require([\"plotly\"], function(Plotly) {                    window.PLOTLYENV=window.PLOTLYENV || {};                                    if (document.getElementById(\"e1a33f47-94d0-4937-a1ce-8b69e087cad8\")) {                    Plotly.newPlot(                        \"e1a33f47-94d0-4937-a1ce-8b69e087cad8\",                        [{\"hovertemplate\":\"is_driver_assigned=No<br>hours=%{x}<br>Avg Time Cancellation=%{y}<extra></extra>\",\"legendgroup\":\"No\",\"line\":{\"color\":\"#636efa\",\"dash\":\"solid\"},\"marker\":{\"symbol\":\"circle\"},\"mode\":\"lines\",\"name\":\"No\",\"orientation\":\"v\",\"showlegend\":true,\"x\":[0,1,2,3,4,5,6,7,8,9,10,11,12,13,14,15,16,17,18,19,20,21,22,23],\"xaxis\":\"x\",\"y\":[95.75688073394495,91.28387096774193,112.33536585365853,110.0505617977528,81.63636363636364,113.23076923076923,139.27083333333334,117.97709923664122,111.44642857142857,117.02521008403362,73.09302325581395,74.91489361702128,98.01204819277109,91.4424778761062,85.90123456790124,106.29729729729729,96.05319148936171,88.51234567901234,68.07407407407408,72.55223880597015,98.23926380368098,116.52602739726028,88.35930735930737,97.70786516853933],\"yaxis\":\"y\",\"type\":\"scatter\"},{\"hovertemplate\":\"is_driver_assigned=Yes<br>hours=%{x}<br>Avg Time Cancellation=%{y}<extra></extra>\",\"legendgroup\":\"Yes\",\"line\":{\"color\":\"#EF553B\",\"dash\":\"solid\"},\"marker\":{\"symbol\":\"circle\"},\"mode\":\"lines\",\"name\":\"Yes\",\"orientation\":\"v\",\"showlegend\":true,\"x\":[0,1,2,3,4,5,6,7,8,9,10,11,12,13,14,15,16,17,18,19,20,21,22,23],\"xaxis\":\"x\",\"y\":[251.34831460674158,240.37333333333333,303.76056338028167,292.3666666666667,209.03030303030303,168.33333333333334,247.1304347826087,187.25,164.04633204633205,213.84027777777777,198.13513513513513,247.38636363636363,211.34146341463415,243.24271844660194,220.6235294117647,196.33333333333334,201.51923076923077,249.296,248.82692307692307,177.96842105263158,200.0,213.09302325581396,208.2429906542056,262.991452991453],\"yaxis\":\"y\",\"type\":\"scatter\"}],                        {\"template\":{\"data\":{\"histogram2dcontour\":[{\"type\":\"histogram2dcontour\",\"colorbar\":{\"outlinewidth\":0,\"ticks\":\"\"},\"colorscale\":[[0.0,\"#0d0887\"],[0.1111111111111111,\"#46039f\"],[0.2222222222222222,\"#7201a8\"],[0.3333333333333333,\"#9c179e\"],[0.4444444444444444,\"#bd3786\"],[0.5555555555555556,\"#d8576b\"],[0.6666666666666666,\"#ed7953\"],[0.7777777777777778,\"#fb9f3a\"],[0.8888888888888888,\"#fdca26\"],[1.0,\"#f0f921\"]]}],\"choropleth\":[{\"type\":\"choropleth\",\"colorbar\":{\"outlinewidth\":0,\"ticks\":\"\"}}],\"histogram2d\":[{\"type\":\"histogram2d\",\"colorbar\":{\"outlinewidth\":0,\"ticks\":\"\"},\"colorscale\":[[0.0,\"#0d0887\"],[0.1111111111111111,\"#46039f\"],[0.2222222222222222,\"#7201a8\"],[0.3333333333333333,\"#9c179e\"],[0.4444444444444444,\"#bd3786\"],[0.5555555555555556,\"#d8576b\"],[0.6666666666666666,\"#ed7953\"],[0.7777777777777778,\"#fb9f3a\"],[0.8888888888888888,\"#fdca26\"],[1.0,\"#f0f921\"]]}],\"heatmap\":[{\"type\":\"heatmap\",\"colorbar\":{\"outlinewidth\":0,\"ticks\":\"\"},\"colorscale\":[[0.0,\"#0d0887\"],[0.1111111111111111,\"#46039f\"],[0.2222222222222222,\"#7201a8\"],[0.3333333333333333,\"#9c179e\"],[0.4444444444444444,\"#bd3786\"],[0.5555555555555556,\"#d8576b\"],[0.6666666666666666,\"#ed7953\"],[0.7777777777777778,\"#fb9f3a\"],[0.8888888888888888,\"#fdca26\"],[1.0,\"#f0f921\"]]}],\"heatmapgl\":[{\"type\":\"heatmapgl\",\"colorbar\":{\"outlinewidth\":0,\"ticks\":\"\"},\"colorscale\":[[0.0,\"#0d0887\"],[0.1111111111111111,\"#46039f\"],[0.2222222222222222,\"#7201a8\"],[0.3333333333333333,\"#9c179e\"],[0.4444444444444444,\"#bd3786\"],[0.5555555555555556,\"#d8576b\"],[0.6666666666666666,\"#ed7953\"],[0.7777777777777778,\"#fb9f3a\"],[0.8888888888888888,\"#fdca26\"],[1.0,\"#f0f921\"]]}],\"contourcarpet\":[{\"type\":\"contourcarpet\",\"colorbar\":{\"outlinewidth\":0,\"ticks\":\"\"}}],\"contour\":[{\"type\":\"contour\",\"colorbar\":{\"outlinewidth\":0,\"ticks\":\"\"},\"colorscale\":[[0.0,\"#0d0887\"],[0.1111111111111111,\"#46039f\"],[0.2222222222222222,\"#7201a8\"],[0.3333333333333333,\"#9c179e\"],[0.4444444444444444,\"#bd3786\"],[0.5555555555555556,\"#d8576b\"],[0.6666666666666666,\"#ed7953\"],[0.7777777777777778,\"#fb9f3a\"],[0.8888888888888888,\"#fdca26\"],[1.0,\"#f0f921\"]]}],\"surface\":[{\"type\":\"surface\",\"colorbar\":{\"outlinewidth\":0,\"ticks\":\"\"},\"colorscale\":[[0.0,\"#0d0887\"],[0.1111111111111111,\"#46039f\"],[0.2222222222222222,\"#7201a8\"],[0.3333333333333333,\"#9c179e\"],[0.4444444444444444,\"#bd3786\"],[0.5555555555555556,\"#d8576b\"],[0.6666666666666666,\"#ed7953\"],[0.7777777777777778,\"#fb9f3a\"],[0.8888888888888888,\"#fdca26\"],[1.0,\"#f0f921\"]]}],\"mesh3d\":[{\"type\":\"mesh3d\",\"colorbar\":{\"outlinewidth\":0,\"ticks\":\"\"}}],\"scatter\":[{\"fillpattern\":{\"fillmode\":\"overlay\",\"size\":10,\"solidity\":0.2},\"type\":\"scatter\"}],\"parcoords\":[{\"type\":\"parcoords\",\"line\":{\"colorbar\":{\"outlinewidth\":0,\"ticks\":\"\"}}}],\"scatterpolargl\":[{\"type\":\"scatterpolargl\",\"marker\":{\"colorbar\":{\"outlinewidth\":0,\"ticks\":\"\"}}}],\"bar\":[{\"error_x\":{\"color\":\"#2a3f5f\"},\"error_y\":{\"color\":\"#2a3f5f\"},\"marker\":{\"line\":{\"color\":\"#E5ECF6\",\"width\":0.5},\"pattern\":{\"fillmode\":\"overlay\",\"size\":10,\"solidity\":0.2}},\"type\":\"bar\"}],\"scattergeo\":[{\"type\":\"scattergeo\",\"marker\":{\"colorbar\":{\"outlinewidth\":0,\"ticks\":\"\"}}}],\"scatterpolar\":[{\"type\":\"scatterpolar\",\"marker\":{\"colorbar\":{\"outlinewidth\":0,\"ticks\":\"\"}}}],\"histogram\":[{\"marker\":{\"pattern\":{\"fillmode\":\"overlay\",\"size\":10,\"solidity\":0.2}},\"type\":\"histogram\"}],\"scattergl\":[{\"type\":\"scattergl\",\"marker\":{\"colorbar\":{\"outlinewidth\":0,\"ticks\":\"\"}}}],\"scatter3d\":[{\"type\":\"scatter3d\",\"line\":{\"colorbar\":{\"outlinewidth\":0,\"ticks\":\"\"}},\"marker\":{\"colorbar\":{\"outlinewidth\":0,\"ticks\":\"\"}}}],\"scattermapbox\":[{\"type\":\"scattermapbox\",\"marker\":{\"colorbar\":{\"outlinewidth\":0,\"ticks\":\"\"}}}],\"scatterternary\":[{\"type\":\"scatterternary\",\"marker\":{\"colorbar\":{\"outlinewidth\":0,\"ticks\":\"\"}}}],\"scattercarpet\":[{\"type\":\"scattercarpet\",\"marker\":{\"colorbar\":{\"outlinewidth\":0,\"ticks\":\"\"}}}],\"carpet\":[{\"aaxis\":{\"endlinecolor\":\"#2a3f5f\",\"gridcolor\":\"white\",\"linecolor\":\"white\",\"minorgridcolor\":\"white\",\"startlinecolor\":\"#2a3f5f\"},\"baxis\":{\"endlinecolor\":\"#2a3f5f\",\"gridcolor\":\"white\",\"linecolor\":\"white\",\"minorgridcolor\":\"white\",\"startlinecolor\":\"#2a3f5f\"},\"type\":\"carpet\"}],\"table\":[{\"cells\":{\"fill\":{\"color\":\"#EBF0F8\"},\"line\":{\"color\":\"white\"}},\"header\":{\"fill\":{\"color\":\"#C8D4E3\"},\"line\":{\"color\":\"white\"}},\"type\":\"table\"}],\"barpolar\":[{\"marker\":{\"line\":{\"color\":\"#E5ECF6\",\"width\":0.5},\"pattern\":{\"fillmode\":\"overlay\",\"size\":10,\"solidity\":0.2}},\"type\":\"barpolar\"}],\"pie\":[{\"automargin\":true,\"type\":\"pie\"}]},\"layout\":{\"autotypenumbers\":\"strict\",\"colorway\":[\"#636efa\",\"#EF553B\",\"#00cc96\",\"#ab63fa\",\"#FFA15A\",\"#19d3f3\",\"#FF6692\",\"#B6E880\",\"#FF97FF\",\"#FECB52\"],\"font\":{\"color\":\"#2a3f5f\"},\"hovermode\":\"closest\",\"hoverlabel\":{\"align\":\"left\"},\"paper_bgcolor\":\"white\",\"plot_bgcolor\":\"#E5ECF6\",\"polar\":{\"bgcolor\":\"#E5ECF6\",\"angularaxis\":{\"gridcolor\":\"white\",\"linecolor\":\"white\",\"ticks\":\"\"},\"radialaxis\":{\"gridcolor\":\"white\",\"linecolor\":\"white\",\"ticks\":\"\"}},\"ternary\":{\"bgcolor\":\"#E5ECF6\",\"aaxis\":{\"gridcolor\":\"white\",\"linecolor\":\"white\",\"ticks\":\"\"},\"baxis\":{\"gridcolor\":\"white\",\"linecolor\":\"white\",\"ticks\":\"\"},\"caxis\":{\"gridcolor\":\"white\",\"linecolor\":\"white\",\"ticks\":\"\"}},\"coloraxis\":{\"colorbar\":{\"outlinewidth\":0,\"ticks\":\"\"}},\"colorscale\":{\"sequential\":[[0.0,\"#0d0887\"],[0.1111111111111111,\"#46039f\"],[0.2222222222222222,\"#7201a8\"],[0.3333333333333333,\"#9c179e\"],[0.4444444444444444,\"#bd3786\"],[0.5555555555555556,\"#d8576b\"],[0.6666666666666666,\"#ed7953\"],[0.7777777777777778,\"#fb9f3a\"],[0.8888888888888888,\"#fdca26\"],[1.0,\"#f0f921\"]],\"sequentialminus\":[[0.0,\"#0d0887\"],[0.1111111111111111,\"#46039f\"],[0.2222222222222222,\"#7201a8\"],[0.3333333333333333,\"#9c179e\"],[0.4444444444444444,\"#bd3786\"],[0.5555555555555556,\"#d8576b\"],[0.6666666666666666,\"#ed7953\"],[0.7777777777777778,\"#fb9f3a\"],[0.8888888888888888,\"#fdca26\"],[1.0,\"#f0f921\"]],\"diverging\":[[0,\"#8e0152\"],[0.1,\"#c51b7d\"],[0.2,\"#de77ae\"],[0.3,\"#f1b6da\"],[0.4,\"#fde0ef\"],[0.5,\"#f7f7f7\"],[0.6,\"#e6f5d0\"],[0.7,\"#b8e186\"],[0.8,\"#7fbc41\"],[0.9,\"#4d9221\"],[1,\"#276419\"]]},\"xaxis\":{\"gridcolor\":\"white\",\"linecolor\":\"white\",\"ticks\":\"\",\"title\":{\"standoff\":15},\"zerolinecolor\":\"white\",\"automargin\":true,\"zerolinewidth\":2},\"yaxis\":{\"gridcolor\":\"white\",\"linecolor\":\"white\",\"ticks\":\"\",\"title\":{\"standoff\":15},\"zerolinecolor\":\"white\",\"automargin\":true,\"zerolinewidth\":2},\"scene\":{\"xaxis\":{\"backgroundcolor\":\"#E5ECF6\",\"gridcolor\":\"white\",\"linecolor\":\"white\",\"showbackground\":true,\"ticks\":\"\",\"zerolinecolor\":\"white\",\"gridwidth\":2},\"yaxis\":{\"backgroundcolor\":\"#E5ECF6\",\"gridcolor\":\"white\",\"linecolor\":\"white\",\"showbackground\":true,\"ticks\":\"\",\"zerolinecolor\":\"white\",\"gridwidth\":2},\"zaxis\":{\"backgroundcolor\":\"#E5ECF6\",\"gridcolor\":\"white\",\"linecolor\":\"white\",\"showbackground\":true,\"ticks\":\"\",\"zerolinecolor\":\"white\",\"gridwidth\":2}},\"shapedefaults\":{\"line\":{\"color\":\"#2a3f5f\"}},\"annotationdefaults\":{\"arrowcolor\":\"#2a3f5f\",\"arrowhead\":0,\"arrowwidth\":1},\"geo\":{\"bgcolor\":\"white\",\"landcolor\":\"#E5ECF6\",\"subunitcolor\":\"white\",\"showland\":true,\"showlakes\":true,\"lakecolor\":\"white\"},\"title\":{\"x\":0.05},\"mapbox\":{\"style\":\"light\"}}},\"xaxis\":{\"anchor\":\"y\",\"domain\":[0.0,1.0],\"title\":{\"text\":\"hours\"}},\"yaxis\":{\"anchor\":\"x\",\"domain\":[0.0,1.0],\"title\":{\"text\":\"Avg Time Cancellation\"}},\"legend\":{\"title\":{\"text\":\"is_driver_assigned\"},\"tracegroupgap\":0},\"margin\":{\"t\":60}},                        {\"responsive\": true}                    ).then(function(){\n",
       "                            \n",
       "var gd = document.getElementById('e1a33f47-94d0-4937-a1ce-8b69e087cad8');\n",
       "var x = new MutationObserver(function (mutations, observer) {{\n",
       "        var display = window.getComputedStyle(gd).display;\n",
       "        if (!display || display === 'none') {{\n",
       "            console.log([gd, 'removed!']);\n",
       "            Plotly.purge(gd);\n",
       "            observer.disconnect();\n",
       "        }}\n",
       "}});\n",
       "\n",
       "// Listen for the removal of the full notebook cells\n",
       "var notebookContainer = gd.closest('#notebook-container');\n",
       "if (notebookContainer) {{\n",
       "    x.observe(notebookContainer, {childList: true});\n",
       "}}\n",
       "\n",
       "// Listen for the clearing of the current output cell\n",
       "var outputEl = gd.closest('.output');\n",
       "if (outputEl) {{\n",
       "    x.observe(outputEl, {childList: true});\n",
       "}}\n",
       "\n",
       "                        })                };                });            </script>        </div>"
      ]
     },
     "metadata": {},
     "output_type": "display_data"
    }
   ],
   "source": [
    "time2 = df_new.groupby(['hours', 'is_driver_assigned'])['cancellations_time_in_seconds'].mean().rename(\"Avg Time Cancellation\").reset_index()\n",
    "time2\n",
    "\n",
    "fig = px.line(time2, x='hours', y='Avg Time Cancellation', color='is_driver_assigned')\n",
    "fig.show()"
   ]
  },
  {
   "cell_type": "code",
   "execution_count": 30,
   "id": "68265bac",
   "metadata": {},
   "outputs": [
    {
     "data": {
      "text/plain": [
       "hours  is_driver_assigned\n",
       "0      No                     95.756881\n",
       "       Yes                   251.348315\n",
       "1      No                     91.283871\n",
       "       Yes                   240.373333\n",
       "2      No                    112.335366\n",
       "       Yes                   303.760563\n",
       "3      No                    110.050562\n",
       "       Yes                   292.366667\n",
       "4      No                     81.636364\n",
       "       Yes                   209.030303\n",
       "5      No                    113.230769\n",
       "       Yes                   168.333333\n",
       "6      No                    139.270833\n",
       "       Yes                   247.130435\n",
       "7      No                    117.977099\n",
       "       Yes                   187.250000\n",
       "8      No                    111.446429\n",
       "       Yes                   164.046332\n",
       "9      No                    117.025210\n",
       "       Yes                   213.840278\n",
       "10     No                     73.093023\n",
       "       Yes                   198.135135\n",
       "11     No                     74.914894\n",
       "       Yes                   247.386364\n",
       "12     No                     98.012048\n",
       "       Yes                   211.341463\n",
       "13     No                     91.442478\n",
       "       Yes                   243.242718\n",
       "14     No                     85.901235\n",
       "       Yes                   220.623529\n",
       "15     No                    106.297297\n",
       "       Yes                   196.333333\n",
       "16     No                     96.053191\n",
       "       Yes                   201.519231\n",
       "17     No                     88.512346\n",
       "       Yes                   249.296000\n",
       "18     No                     68.074074\n",
       "       Yes                   248.826923\n",
       "19     No                     72.552239\n",
       "       Yes                   177.968421\n",
       "20     No                     98.239264\n",
       "       Yes                   200.000000\n",
       "21     No                    116.526027\n",
       "       Yes                   213.093023\n",
       "22     No                     88.359307\n",
       "       Yes                   208.242991\n",
       "23     No                     97.707865\n",
       "       Yes                   262.991453\n",
       "Name: cancellations_time_in_seconds, dtype: float64"
      ]
     },
     "execution_count": 30,
     "metadata": {},
     "output_type": "execute_result"
    }
   ],
   "source": [
    "df_new.groupby(['hours', 'is_driver_assigned'])['cancellations_time_in_seconds'].mean()"
   ]
  },
  {
   "cell_type": "code",
   "execution_count": 31,
   "id": "e60b90eb",
   "metadata": {},
   "outputs": [
    {
     "data": {
      "text/plain": [
       "24670    4303.0\n",
       "24966    3697.0\n",
       "29193    2376.0\n",
       "11815    2190.0\n",
       "10345    1885.0\n",
       "10542    1873.0\n",
       "10460    1785.0\n",
       "27884    1769.0\n",
       "25406    1650.0\n",
       "29988    1536.0\n",
       "29992    1536.0\n",
       "17800    1476.0\n",
       "26545    1458.0\n",
       "10905    1451.0\n",
       "9103     1346.0\n",
       "28118    1346.0\n",
       "28399    1344.0\n",
       "10575    1341.0\n",
       "28953    1206.0\n",
       "5971     1205.0\n",
       "7621     1186.0\n",
       "9368     1183.0\n",
       "10412    1179.0\n",
       "5549     1157.0\n",
       "13112    1151.0\n",
       "24427    1146.0\n",
       "18902    1142.0\n",
       "15940    1139.0\n",
       "6393     1135.0\n",
       "22778    1126.0\n",
       "2162     1116.0\n",
       "5558     1116.0\n",
       "13037    1103.0\n",
       "22655    1093.0\n",
       "20606    1079.0\n",
       "5600     1075.0\n",
       "24700    1075.0\n",
       "20405    1049.0\n",
       "22088    1035.0\n",
       "30840    1028.0\n",
       "27194    1017.0\n",
       "5605     1009.0\n",
       "14919    1002.0\n",
       "5468     1002.0\n",
       "29933     997.0\n",
       "26580     994.0\n",
       "25168     988.0\n",
       "20013     986.0\n",
       "6964      985.0\n",
       "19176     985.0\n",
       "Name: cancellations_time_in_seconds, dtype: float64"
      ]
     },
     "execution_count": 31,
     "metadata": {},
     "output_type": "execute_result"
    }
   ],
   "source": [
    "# There's some cancellations time that took more than 30 minutes, must be outliers\n",
    "df_new['cancellations_time_in_seconds'].sort_values(ascending=False).head(50)"
   ]
  },
  {
   "cell_type": "markdown",
   "id": "3d6b0cdf",
   "metadata": {},
   "source": [
    "4. Plot the distribution of average ETA by hours. How can this plot be explained?"
   ]
  },
  {
   "cell_type": "code",
   "execution_count": 32,
   "id": "d5d97a29",
   "metadata": {},
   "outputs": [
    {
     "data": {
      "application/vnd.plotly.v1+json": {
       "config": {
        "plotlyServerURL": "https://plot.ly"
       },
       "data": [
        {
         "hovertemplate": "hours=%{x}<br>Avg ETA=%{y}<extra></extra>",
         "legendgroup": "",
         "line": {
          "color": "#636efa",
          "dash": "solid"
         },
         "marker": {
          "symbol": "circle"
         },
         "mode": "lines",
         "name": "",
         "orientation": "v",
         "showlegend": false,
         "type": "scatter",
         "x": [
          0,
          1,
          2,
          3,
          4,
          5,
          6,
          7,
          8,
          9,
          10,
          11,
          12,
          13,
          14,
          15,
          16,
          17,
          18,
          19,
          20,
          21,
          22,
          23
         ],
         "xaxis": "x",
         "y": [
          351.27272727272725,
          344.49675324675326,
          361.3681592039801,
          359.7713567839196,
          315.3103448275862,
          363.6136363636364,
          385.61475409836066,
          438.81102362204723,
          436.5424133811231,
          420.2307692307692,
          355.531746031746,
          348.92715231788077,
          394.78494623655916,
          366.65714285714284,
          358.8085106382979,
          393.06006006006004,
          389.2522522522523,
          398.18950437317784,
          365.80988593155894,
          346.7403314917127,
          331.85074626865674,
          354.2080838323353,
          351.2232142857143,
          354.78228782287823
         ],
         "yaxis": "y"
        }
       ],
       "layout": {
        "legend": {
         "tracegroupgap": 0
        },
        "margin": {
         "t": 60
        },
        "template": {
         "data": {
          "bar": [
           {
            "error_x": {
             "color": "#2a3f5f"
            },
            "error_y": {
             "color": "#2a3f5f"
            },
            "marker": {
             "line": {
              "color": "#E5ECF6",
              "width": 0.5
             },
             "pattern": {
              "fillmode": "overlay",
              "size": 10,
              "solidity": 0.2
             }
            },
            "type": "bar"
           }
          ],
          "barpolar": [
           {
            "marker": {
             "line": {
              "color": "#E5ECF6",
              "width": 0.5
             },
             "pattern": {
              "fillmode": "overlay",
              "size": 10,
              "solidity": 0.2
             }
            },
            "type": "barpolar"
           }
          ],
          "carpet": [
           {
            "aaxis": {
             "endlinecolor": "#2a3f5f",
             "gridcolor": "white",
             "linecolor": "white",
             "minorgridcolor": "white",
             "startlinecolor": "#2a3f5f"
            },
            "baxis": {
             "endlinecolor": "#2a3f5f",
             "gridcolor": "white",
             "linecolor": "white",
             "minorgridcolor": "white",
             "startlinecolor": "#2a3f5f"
            },
            "type": "carpet"
           }
          ],
          "choropleth": [
           {
            "colorbar": {
             "outlinewidth": 0,
             "ticks": ""
            },
            "type": "choropleth"
           }
          ],
          "contour": [
           {
            "colorbar": {
             "outlinewidth": 0,
             "ticks": ""
            },
            "colorscale": [
             [
              0,
              "#0d0887"
             ],
             [
              0.1111111111111111,
              "#46039f"
             ],
             [
              0.2222222222222222,
              "#7201a8"
             ],
             [
              0.3333333333333333,
              "#9c179e"
             ],
             [
              0.4444444444444444,
              "#bd3786"
             ],
             [
              0.5555555555555556,
              "#d8576b"
             ],
             [
              0.6666666666666666,
              "#ed7953"
             ],
             [
              0.7777777777777778,
              "#fb9f3a"
             ],
             [
              0.8888888888888888,
              "#fdca26"
             ],
             [
              1,
              "#f0f921"
             ]
            ],
            "type": "contour"
           }
          ],
          "contourcarpet": [
           {
            "colorbar": {
             "outlinewidth": 0,
             "ticks": ""
            },
            "type": "contourcarpet"
           }
          ],
          "heatmap": [
           {
            "colorbar": {
             "outlinewidth": 0,
             "ticks": ""
            },
            "colorscale": [
             [
              0,
              "#0d0887"
             ],
             [
              0.1111111111111111,
              "#46039f"
             ],
             [
              0.2222222222222222,
              "#7201a8"
             ],
             [
              0.3333333333333333,
              "#9c179e"
             ],
             [
              0.4444444444444444,
              "#bd3786"
             ],
             [
              0.5555555555555556,
              "#d8576b"
             ],
             [
              0.6666666666666666,
              "#ed7953"
             ],
             [
              0.7777777777777778,
              "#fb9f3a"
             ],
             [
              0.8888888888888888,
              "#fdca26"
             ],
             [
              1,
              "#f0f921"
             ]
            ],
            "type": "heatmap"
           }
          ],
          "heatmapgl": [
           {
            "colorbar": {
             "outlinewidth": 0,
             "ticks": ""
            },
            "colorscale": [
             [
              0,
              "#0d0887"
             ],
             [
              0.1111111111111111,
              "#46039f"
             ],
             [
              0.2222222222222222,
              "#7201a8"
             ],
             [
              0.3333333333333333,
              "#9c179e"
             ],
             [
              0.4444444444444444,
              "#bd3786"
             ],
             [
              0.5555555555555556,
              "#d8576b"
             ],
             [
              0.6666666666666666,
              "#ed7953"
             ],
             [
              0.7777777777777778,
              "#fb9f3a"
             ],
             [
              0.8888888888888888,
              "#fdca26"
             ],
             [
              1,
              "#f0f921"
             ]
            ],
            "type": "heatmapgl"
           }
          ],
          "histogram": [
           {
            "marker": {
             "pattern": {
              "fillmode": "overlay",
              "size": 10,
              "solidity": 0.2
             }
            },
            "type": "histogram"
           }
          ],
          "histogram2d": [
           {
            "colorbar": {
             "outlinewidth": 0,
             "ticks": ""
            },
            "colorscale": [
             [
              0,
              "#0d0887"
             ],
             [
              0.1111111111111111,
              "#46039f"
             ],
             [
              0.2222222222222222,
              "#7201a8"
             ],
             [
              0.3333333333333333,
              "#9c179e"
             ],
             [
              0.4444444444444444,
              "#bd3786"
             ],
             [
              0.5555555555555556,
              "#d8576b"
             ],
             [
              0.6666666666666666,
              "#ed7953"
             ],
             [
              0.7777777777777778,
              "#fb9f3a"
             ],
             [
              0.8888888888888888,
              "#fdca26"
             ],
             [
              1,
              "#f0f921"
             ]
            ],
            "type": "histogram2d"
           }
          ],
          "histogram2dcontour": [
           {
            "colorbar": {
             "outlinewidth": 0,
             "ticks": ""
            },
            "colorscale": [
             [
              0,
              "#0d0887"
             ],
             [
              0.1111111111111111,
              "#46039f"
             ],
             [
              0.2222222222222222,
              "#7201a8"
             ],
             [
              0.3333333333333333,
              "#9c179e"
             ],
             [
              0.4444444444444444,
              "#bd3786"
             ],
             [
              0.5555555555555556,
              "#d8576b"
             ],
             [
              0.6666666666666666,
              "#ed7953"
             ],
             [
              0.7777777777777778,
              "#fb9f3a"
             ],
             [
              0.8888888888888888,
              "#fdca26"
             ],
             [
              1,
              "#f0f921"
             ]
            ],
            "type": "histogram2dcontour"
           }
          ],
          "mesh3d": [
           {
            "colorbar": {
             "outlinewidth": 0,
             "ticks": ""
            },
            "type": "mesh3d"
           }
          ],
          "parcoords": [
           {
            "line": {
             "colorbar": {
              "outlinewidth": 0,
              "ticks": ""
             }
            },
            "type": "parcoords"
           }
          ],
          "pie": [
           {
            "automargin": true,
            "type": "pie"
           }
          ],
          "scatter": [
           {
            "fillpattern": {
             "fillmode": "overlay",
             "size": 10,
             "solidity": 0.2
            },
            "type": "scatter"
           }
          ],
          "scatter3d": [
           {
            "line": {
             "colorbar": {
              "outlinewidth": 0,
              "ticks": ""
             }
            },
            "marker": {
             "colorbar": {
              "outlinewidth": 0,
              "ticks": ""
             }
            },
            "type": "scatter3d"
           }
          ],
          "scattercarpet": [
           {
            "marker": {
             "colorbar": {
              "outlinewidth": 0,
              "ticks": ""
             }
            },
            "type": "scattercarpet"
           }
          ],
          "scattergeo": [
           {
            "marker": {
             "colorbar": {
              "outlinewidth": 0,
              "ticks": ""
             }
            },
            "type": "scattergeo"
           }
          ],
          "scattergl": [
           {
            "marker": {
             "colorbar": {
              "outlinewidth": 0,
              "ticks": ""
             }
            },
            "type": "scattergl"
           }
          ],
          "scattermapbox": [
           {
            "marker": {
             "colorbar": {
              "outlinewidth": 0,
              "ticks": ""
             }
            },
            "type": "scattermapbox"
           }
          ],
          "scatterpolar": [
           {
            "marker": {
             "colorbar": {
              "outlinewidth": 0,
              "ticks": ""
             }
            },
            "type": "scatterpolar"
           }
          ],
          "scatterpolargl": [
           {
            "marker": {
             "colorbar": {
              "outlinewidth": 0,
              "ticks": ""
             }
            },
            "type": "scatterpolargl"
           }
          ],
          "scatterternary": [
           {
            "marker": {
             "colorbar": {
              "outlinewidth": 0,
              "ticks": ""
             }
            },
            "type": "scatterternary"
           }
          ],
          "surface": [
           {
            "colorbar": {
             "outlinewidth": 0,
             "ticks": ""
            },
            "colorscale": [
             [
              0,
              "#0d0887"
             ],
             [
              0.1111111111111111,
              "#46039f"
             ],
             [
              0.2222222222222222,
              "#7201a8"
             ],
             [
              0.3333333333333333,
              "#9c179e"
             ],
             [
              0.4444444444444444,
              "#bd3786"
             ],
             [
              0.5555555555555556,
              "#d8576b"
             ],
             [
              0.6666666666666666,
              "#ed7953"
             ],
             [
              0.7777777777777778,
              "#fb9f3a"
             ],
             [
              0.8888888888888888,
              "#fdca26"
             ],
             [
              1,
              "#f0f921"
             ]
            ],
            "type": "surface"
           }
          ],
          "table": [
           {
            "cells": {
             "fill": {
              "color": "#EBF0F8"
             },
             "line": {
              "color": "white"
             }
            },
            "header": {
             "fill": {
              "color": "#C8D4E3"
             },
             "line": {
              "color": "white"
             }
            },
            "type": "table"
           }
          ]
         },
         "layout": {
          "annotationdefaults": {
           "arrowcolor": "#2a3f5f",
           "arrowhead": 0,
           "arrowwidth": 1
          },
          "autotypenumbers": "strict",
          "coloraxis": {
           "colorbar": {
            "outlinewidth": 0,
            "ticks": ""
           }
          },
          "colorscale": {
           "diverging": [
            [
             0,
             "#8e0152"
            ],
            [
             0.1,
             "#c51b7d"
            ],
            [
             0.2,
             "#de77ae"
            ],
            [
             0.3,
             "#f1b6da"
            ],
            [
             0.4,
             "#fde0ef"
            ],
            [
             0.5,
             "#f7f7f7"
            ],
            [
             0.6,
             "#e6f5d0"
            ],
            [
             0.7,
             "#b8e186"
            ],
            [
             0.8,
             "#7fbc41"
            ],
            [
             0.9,
             "#4d9221"
            ],
            [
             1,
             "#276419"
            ]
           ],
           "sequential": [
            [
             0,
             "#0d0887"
            ],
            [
             0.1111111111111111,
             "#46039f"
            ],
            [
             0.2222222222222222,
             "#7201a8"
            ],
            [
             0.3333333333333333,
             "#9c179e"
            ],
            [
             0.4444444444444444,
             "#bd3786"
            ],
            [
             0.5555555555555556,
             "#d8576b"
            ],
            [
             0.6666666666666666,
             "#ed7953"
            ],
            [
             0.7777777777777778,
             "#fb9f3a"
            ],
            [
             0.8888888888888888,
             "#fdca26"
            ],
            [
             1,
             "#f0f921"
            ]
           ],
           "sequentialminus": [
            [
             0,
             "#0d0887"
            ],
            [
             0.1111111111111111,
             "#46039f"
            ],
            [
             0.2222222222222222,
             "#7201a8"
            ],
            [
             0.3333333333333333,
             "#9c179e"
            ],
            [
             0.4444444444444444,
             "#bd3786"
            ],
            [
             0.5555555555555556,
             "#d8576b"
            ],
            [
             0.6666666666666666,
             "#ed7953"
            ],
            [
             0.7777777777777778,
             "#fb9f3a"
            ],
            [
             0.8888888888888888,
             "#fdca26"
            ],
            [
             1,
             "#f0f921"
            ]
           ]
          },
          "colorway": [
           "#636efa",
           "#EF553B",
           "#00cc96",
           "#ab63fa",
           "#FFA15A",
           "#19d3f3",
           "#FF6692",
           "#B6E880",
           "#FF97FF",
           "#FECB52"
          ],
          "font": {
           "color": "#2a3f5f"
          },
          "geo": {
           "bgcolor": "white",
           "lakecolor": "white",
           "landcolor": "#E5ECF6",
           "showlakes": true,
           "showland": true,
           "subunitcolor": "white"
          },
          "hoverlabel": {
           "align": "left"
          },
          "hovermode": "closest",
          "mapbox": {
           "style": "light"
          },
          "paper_bgcolor": "white",
          "plot_bgcolor": "#E5ECF6",
          "polar": {
           "angularaxis": {
            "gridcolor": "white",
            "linecolor": "white",
            "ticks": ""
           },
           "bgcolor": "#E5ECF6",
           "radialaxis": {
            "gridcolor": "white",
            "linecolor": "white",
            "ticks": ""
           }
          },
          "scene": {
           "xaxis": {
            "backgroundcolor": "#E5ECF6",
            "gridcolor": "white",
            "gridwidth": 2,
            "linecolor": "white",
            "showbackground": true,
            "ticks": "",
            "zerolinecolor": "white"
           },
           "yaxis": {
            "backgroundcolor": "#E5ECF6",
            "gridcolor": "white",
            "gridwidth": 2,
            "linecolor": "white",
            "showbackground": true,
            "ticks": "",
            "zerolinecolor": "white"
           },
           "zaxis": {
            "backgroundcolor": "#E5ECF6",
            "gridcolor": "white",
            "gridwidth": 2,
            "linecolor": "white",
            "showbackground": true,
            "ticks": "",
            "zerolinecolor": "white"
           }
          },
          "shapedefaults": {
           "line": {
            "color": "#2a3f5f"
           }
          },
          "ternary": {
           "aaxis": {
            "gridcolor": "white",
            "linecolor": "white",
            "ticks": ""
           },
           "baxis": {
            "gridcolor": "white",
            "linecolor": "white",
            "ticks": ""
           },
           "bgcolor": "#E5ECF6",
           "caxis": {
            "gridcolor": "white",
            "linecolor": "white",
            "ticks": ""
           }
          },
          "title": {
           "x": 0.05
          },
          "xaxis": {
           "automargin": true,
           "gridcolor": "white",
           "linecolor": "white",
           "ticks": "",
           "title": {
            "standoff": 15
           },
           "zerolinecolor": "white",
           "zerolinewidth": 2
          },
          "yaxis": {
           "automargin": true,
           "gridcolor": "white",
           "linecolor": "white",
           "ticks": "",
           "title": {
            "standoff": 15
           },
           "zerolinecolor": "white",
           "zerolinewidth": 2
          }
         }
        },
        "xaxis": {
         "anchor": "y",
         "domain": [
          0,
          1
         ],
         "title": {
          "text": "hours"
         }
        },
        "yaxis": {
         "anchor": "x",
         "domain": [
          0,
          1
         ],
         "title": {
          "text": "Avg ETA"
         }
        }
       }
      },
      "text/html": [
       "<div>                            <div id=\"2c884c9f-e210-446f-987f-beb86f0e7099\" class=\"plotly-graph-div\" style=\"height:525px; width:100%;\"></div>            <script type=\"text/javascript\">                require([\"plotly\"], function(Plotly) {                    window.PLOTLYENV=window.PLOTLYENV || {};                                    if (document.getElementById(\"2c884c9f-e210-446f-987f-beb86f0e7099\")) {                    Plotly.newPlot(                        \"2c884c9f-e210-446f-987f-beb86f0e7099\",                        [{\"hovertemplate\":\"hours=%{x}<br>Avg ETA=%{y}<extra></extra>\",\"legendgroup\":\"\",\"line\":{\"color\":\"#636efa\",\"dash\":\"solid\"},\"marker\":{\"symbol\":\"circle\"},\"mode\":\"lines\",\"name\":\"\",\"orientation\":\"v\",\"showlegend\":false,\"x\":[0,1,2,3,4,5,6,7,8,9,10,11,12,13,14,15,16,17,18,19,20,21,22,23],\"xaxis\":\"x\",\"y\":[351.27272727272725,344.49675324675326,361.3681592039801,359.7713567839196,315.3103448275862,363.6136363636364,385.61475409836066,438.81102362204723,436.5424133811231,420.2307692307692,355.531746031746,348.92715231788077,394.78494623655916,366.65714285714284,358.8085106382979,393.06006006006004,389.2522522522523,398.18950437317784,365.80988593155894,346.7403314917127,331.85074626865674,354.2080838323353,351.2232142857143,354.78228782287823],\"yaxis\":\"y\",\"type\":\"scatter\"}],                        {\"template\":{\"data\":{\"histogram2dcontour\":[{\"type\":\"histogram2dcontour\",\"colorbar\":{\"outlinewidth\":0,\"ticks\":\"\"},\"colorscale\":[[0.0,\"#0d0887\"],[0.1111111111111111,\"#46039f\"],[0.2222222222222222,\"#7201a8\"],[0.3333333333333333,\"#9c179e\"],[0.4444444444444444,\"#bd3786\"],[0.5555555555555556,\"#d8576b\"],[0.6666666666666666,\"#ed7953\"],[0.7777777777777778,\"#fb9f3a\"],[0.8888888888888888,\"#fdca26\"],[1.0,\"#f0f921\"]]}],\"choropleth\":[{\"type\":\"choropleth\",\"colorbar\":{\"outlinewidth\":0,\"ticks\":\"\"}}],\"histogram2d\":[{\"type\":\"histogram2d\",\"colorbar\":{\"outlinewidth\":0,\"ticks\":\"\"},\"colorscale\":[[0.0,\"#0d0887\"],[0.1111111111111111,\"#46039f\"],[0.2222222222222222,\"#7201a8\"],[0.3333333333333333,\"#9c179e\"],[0.4444444444444444,\"#bd3786\"],[0.5555555555555556,\"#d8576b\"],[0.6666666666666666,\"#ed7953\"],[0.7777777777777778,\"#fb9f3a\"],[0.8888888888888888,\"#fdca26\"],[1.0,\"#f0f921\"]]}],\"heatmap\":[{\"type\":\"heatmap\",\"colorbar\":{\"outlinewidth\":0,\"ticks\":\"\"},\"colorscale\":[[0.0,\"#0d0887\"],[0.1111111111111111,\"#46039f\"],[0.2222222222222222,\"#7201a8\"],[0.3333333333333333,\"#9c179e\"],[0.4444444444444444,\"#bd3786\"],[0.5555555555555556,\"#d8576b\"],[0.6666666666666666,\"#ed7953\"],[0.7777777777777778,\"#fb9f3a\"],[0.8888888888888888,\"#fdca26\"],[1.0,\"#f0f921\"]]}],\"heatmapgl\":[{\"type\":\"heatmapgl\",\"colorbar\":{\"outlinewidth\":0,\"ticks\":\"\"},\"colorscale\":[[0.0,\"#0d0887\"],[0.1111111111111111,\"#46039f\"],[0.2222222222222222,\"#7201a8\"],[0.3333333333333333,\"#9c179e\"],[0.4444444444444444,\"#bd3786\"],[0.5555555555555556,\"#d8576b\"],[0.6666666666666666,\"#ed7953\"],[0.7777777777777778,\"#fb9f3a\"],[0.8888888888888888,\"#fdca26\"],[1.0,\"#f0f921\"]]}],\"contourcarpet\":[{\"type\":\"contourcarpet\",\"colorbar\":{\"outlinewidth\":0,\"ticks\":\"\"}}],\"contour\":[{\"type\":\"contour\",\"colorbar\":{\"outlinewidth\":0,\"ticks\":\"\"},\"colorscale\":[[0.0,\"#0d0887\"],[0.1111111111111111,\"#46039f\"],[0.2222222222222222,\"#7201a8\"],[0.3333333333333333,\"#9c179e\"],[0.4444444444444444,\"#bd3786\"],[0.5555555555555556,\"#d8576b\"],[0.6666666666666666,\"#ed7953\"],[0.7777777777777778,\"#fb9f3a\"],[0.8888888888888888,\"#fdca26\"],[1.0,\"#f0f921\"]]}],\"surface\":[{\"type\":\"surface\",\"colorbar\":{\"outlinewidth\":0,\"ticks\":\"\"},\"colorscale\":[[0.0,\"#0d0887\"],[0.1111111111111111,\"#46039f\"],[0.2222222222222222,\"#7201a8\"],[0.3333333333333333,\"#9c179e\"],[0.4444444444444444,\"#bd3786\"],[0.5555555555555556,\"#d8576b\"],[0.6666666666666666,\"#ed7953\"],[0.7777777777777778,\"#fb9f3a\"],[0.8888888888888888,\"#fdca26\"],[1.0,\"#f0f921\"]]}],\"mesh3d\":[{\"type\":\"mesh3d\",\"colorbar\":{\"outlinewidth\":0,\"ticks\":\"\"}}],\"scatter\":[{\"fillpattern\":{\"fillmode\":\"overlay\",\"size\":10,\"solidity\":0.2},\"type\":\"scatter\"}],\"parcoords\":[{\"type\":\"parcoords\",\"line\":{\"colorbar\":{\"outlinewidth\":0,\"ticks\":\"\"}}}],\"scatterpolargl\":[{\"type\":\"scatterpolargl\",\"marker\":{\"colorbar\":{\"outlinewidth\":0,\"ticks\":\"\"}}}],\"bar\":[{\"error_x\":{\"color\":\"#2a3f5f\"},\"error_y\":{\"color\":\"#2a3f5f\"},\"marker\":{\"line\":{\"color\":\"#E5ECF6\",\"width\":0.5},\"pattern\":{\"fillmode\":\"overlay\",\"size\":10,\"solidity\":0.2}},\"type\":\"bar\"}],\"scattergeo\":[{\"type\":\"scattergeo\",\"marker\":{\"colorbar\":{\"outlinewidth\":0,\"ticks\":\"\"}}}],\"scatterpolar\":[{\"type\":\"scatterpolar\",\"marker\":{\"colorbar\":{\"outlinewidth\":0,\"ticks\":\"\"}}}],\"histogram\":[{\"marker\":{\"pattern\":{\"fillmode\":\"overlay\",\"size\":10,\"solidity\":0.2}},\"type\":\"histogram\"}],\"scattergl\":[{\"type\":\"scattergl\",\"marker\":{\"colorbar\":{\"outlinewidth\":0,\"ticks\":\"\"}}}],\"scatter3d\":[{\"type\":\"scatter3d\",\"line\":{\"colorbar\":{\"outlinewidth\":0,\"ticks\":\"\"}},\"marker\":{\"colorbar\":{\"outlinewidth\":0,\"ticks\":\"\"}}}],\"scattermapbox\":[{\"type\":\"scattermapbox\",\"marker\":{\"colorbar\":{\"outlinewidth\":0,\"ticks\":\"\"}}}],\"scatterternary\":[{\"type\":\"scatterternary\",\"marker\":{\"colorbar\":{\"outlinewidth\":0,\"ticks\":\"\"}}}],\"scattercarpet\":[{\"type\":\"scattercarpet\",\"marker\":{\"colorbar\":{\"outlinewidth\":0,\"ticks\":\"\"}}}],\"carpet\":[{\"aaxis\":{\"endlinecolor\":\"#2a3f5f\",\"gridcolor\":\"white\",\"linecolor\":\"white\",\"minorgridcolor\":\"white\",\"startlinecolor\":\"#2a3f5f\"},\"baxis\":{\"endlinecolor\":\"#2a3f5f\",\"gridcolor\":\"white\",\"linecolor\":\"white\",\"minorgridcolor\":\"white\",\"startlinecolor\":\"#2a3f5f\"},\"type\":\"carpet\"}],\"table\":[{\"cells\":{\"fill\":{\"color\":\"#EBF0F8\"},\"line\":{\"color\":\"white\"}},\"header\":{\"fill\":{\"color\":\"#C8D4E3\"},\"line\":{\"color\":\"white\"}},\"type\":\"table\"}],\"barpolar\":[{\"marker\":{\"line\":{\"color\":\"#E5ECF6\",\"width\":0.5},\"pattern\":{\"fillmode\":\"overlay\",\"size\":10,\"solidity\":0.2}},\"type\":\"barpolar\"}],\"pie\":[{\"automargin\":true,\"type\":\"pie\"}]},\"layout\":{\"autotypenumbers\":\"strict\",\"colorway\":[\"#636efa\",\"#EF553B\",\"#00cc96\",\"#ab63fa\",\"#FFA15A\",\"#19d3f3\",\"#FF6692\",\"#B6E880\",\"#FF97FF\",\"#FECB52\"],\"font\":{\"color\":\"#2a3f5f\"},\"hovermode\":\"closest\",\"hoverlabel\":{\"align\":\"left\"},\"paper_bgcolor\":\"white\",\"plot_bgcolor\":\"#E5ECF6\",\"polar\":{\"bgcolor\":\"#E5ECF6\",\"angularaxis\":{\"gridcolor\":\"white\",\"linecolor\":\"white\",\"ticks\":\"\"},\"radialaxis\":{\"gridcolor\":\"white\",\"linecolor\":\"white\",\"ticks\":\"\"}},\"ternary\":{\"bgcolor\":\"#E5ECF6\",\"aaxis\":{\"gridcolor\":\"white\",\"linecolor\":\"white\",\"ticks\":\"\"},\"baxis\":{\"gridcolor\":\"white\",\"linecolor\":\"white\",\"ticks\":\"\"},\"caxis\":{\"gridcolor\":\"white\",\"linecolor\":\"white\",\"ticks\":\"\"}},\"coloraxis\":{\"colorbar\":{\"outlinewidth\":0,\"ticks\":\"\"}},\"colorscale\":{\"sequential\":[[0.0,\"#0d0887\"],[0.1111111111111111,\"#46039f\"],[0.2222222222222222,\"#7201a8\"],[0.3333333333333333,\"#9c179e\"],[0.4444444444444444,\"#bd3786\"],[0.5555555555555556,\"#d8576b\"],[0.6666666666666666,\"#ed7953\"],[0.7777777777777778,\"#fb9f3a\"],[0.8888888888888888,\"#fdca26\"],[1.0,\"#f0f921\"]],\"sequentialminus\":[[0.0,\"#0d0887\"],[0.1111111111111111,\"#46039f\"],[0.2222222222222222,\"#7201a8\"],[0.3333333333333333,\"#9c179e\"],[0.4444444444444444,\"#bd3786\"],[0.5555555555555556,\"#d8576b\"],[0.6666666666666666,\"#ed7953\"],[0.7777777777777778,\"#fb9f3a\"],[0.8888888888888888,\"#fdca26\"],[1.0,\"#f0f921\"]],\"diverging\":[[0,\"#8e0152\"],[0.1,\"#c51b7d\"],[0.2,\"#de77ae\"],[0.3,\"#f1b6da\"],[0.4,\"#fde0ef\"],[0.5,\"#f7f7f7\"],[0.6,\"#e6f5d0\"],[0.7,\"#b8e186\"],[0.8,\"#7fbc41\"],[0.9,\"#4d9221\"],[1,\"#276419\"]]},\"xaxis\":{\"gridcolor\":\"white\",\"linecolor\":\"white\",\"ticks\":\"\",\"title\":{\"standoff\":15},\"zerolinecolor\":\"white\",\"automargin\":true,\"zerolinewidth\":2},\"yaxis\":{\"gridcolor\":\"white\",\"linecolor\":\"white\",\"ticks\":\"\",\"title\":{\"standoff\":15},\"zerolinecolor\":\"white\",\"automargin\":true,\"zerolinewidth\":2},\"scene\":{\"xaxis\":{\"backgroundcolor\":\"#E5ECF6\",\"gridcolor\":\"white\",\"linecolor\":\"white\",\"showbackground\":true,\"ticks\":\"\",\"zerolinecolor\":\"white\",\"gridwidth\":2},\"yaxis\":{\"backgroundcolor\":\"#E5ECF6\",\"gridcolor\":\"white\",\"linecolor\":\"white\",\"showbackground\":true,\"ticks\":\"\",\"zerolinecolor\":\"white\",\"gridwidth\":2},\"zaxis\":{\"backgroundcolor\":\"#E5ECF6\",\"gridcolor\":\"white\",\"linecolor\":\"white\",\"showbackground\":true,\"ticks\":\"\",\"zerolinecolor\":\"white\",\"gridwidth\":2}},\"shapedefaults\":{\"line\":{\"color\":\"#2a3f5f\"}},\"annotationdefaults\":{\"arrowcolor\":\"#2a3f5f\",\"arrowhead\":0,\"arrowwidth\":1},\"geo\":{\"bgcolor\":\"white\",\"landcolor\":\"#E5ECF6\",\"subunitcolor\":\"white\",\"showland\":true,\"showlakes\":true,\"lakecolor\":\"white\"},\"title\":{\"x\":0.05},\"mapbox\":{\"style\":\"light\"}}},\"xaxis\":{\"anchor\":\"y\",\"domain\":[0.0,1.0],\"title\":{\"text\":\"hours\"}},\"yaxis\":{\"anchor\":\"x\",\"domain\":[0.0,1.0],\"title\":{\"text\":\"Avg ETA\"}},\"legend\":{\"tracegroupgap\":0},\"margin\":{\"t\":60}},                        {\"responsive\": true}                    ).then(function(){\n",
       "                            \n",
       "var gd = document.getElementById('2c884c9f-e210-446f-987f-beb86f0e7099');\n",
       "var x = new MutationObserver(function (mutations, observer) {{\n",
       "        var display = window.getComputedStyle(gd).display;\n",
       "        if (!display || display === 'none') {{\n",
       "            console.log([gd, 'removed!']);\n",
       "            Plotly.purge(gd);\n",
       "            observer.disconnect();\n",
       "        }}\n",
       "}});\n",
       "\n",
       "// Listen for the removal of the full notebook cells\n",
       "var notebookContainer = gd.closest('#notebook-container');\n",
       "if (notebookContainer) {{\n",
       "    x.observe(notebookContainer, {childList: true});\n",
       "}}\n",
       "\n",
       "// Listen for the clearing of the current output cell\n",
       "var outputEl = gd.closest('.output');\n",
       "if (outputEl) {{\n",
       "    x.observe(outputEl, {childList: true});\n",
       "}}\n",
       "\n",
       "                        })                };                });            </script>        </div>"
      ]
     },
     "metadata": {},
     "output_type": "display_data"
    }
   ],
   "source": [
    "avg = df_new.groupby('hours')['m_order_eta'].mean().rename('Avg ETA').reset_index()\n",
    "\n",
    "fig3 = px.line(avg, x='hours', y='Avg ETA')\n",
    "fig3.show()"
   ]
  },
  {
   "cell_type": "code",
   "execution_count": 33,
   "id": "14498b14",
   "metadata": {},
   "outputs": [
    {
     "data": {
      "text/plain": [
       "hours\n",
       "0     351.272727\n",
       "1     344.496753\n",
       "2     361.368159\n",
       "3     359.771357\n",
       "4     315.310345\n",
       "5     363.613636\n",
       "6     385.614754\n",
       "7     438.811024\n",
       "8     436.542413\n",
       "9     420.230769\n",
       "10    355.531746\n",
       "11    348.927152\n",
       "12    394.784946\n",
       "13    366.657143\n",
       "14    358.808511\n",
       "15    393.060060\n",
       "16    389.252252\n",
       "17    398.189504\n",
       "18    365.809886\n",
       "19    346.740331\n",
       "20    331.850746\n",
       "21    354.208084\n",
       "22    351.223214\n",
       "23    354.782288\n",
       "Name: m_order_eta, dtype: float64"
      ]
     },
     "execution_count": 33,
     "metadata": {},
     "output_type": "execute_result"
    }
   ],
   "source": [
    "df_new.groupby('hours')['m_order_eta'].mean()"
   ]
  },
  {
   "cell_type": "markdown",
   "id": "6db96f37",
   "metadata": {},
   "source": [
    "5. BONUS Hexagons. Using the h3 and folium packages, calculate how many sizes 8 hexes contain 80% of all orders from the original data sets and visualise the hexes, colouring them by the number of fails on the map."
   ]
  },
  {
   "cell_type": "code",
   "execution_count": 34,
   "id": "a290d29b",
   "metadata": {},
   "outputs": [],
   "source": [
    "import h3\n",
    "import folium\n",
    "import plotly.figure_factory as ff"
   ]
  },
  {
   "cell_type": "code",
   "execution_count": 35,
   "id": "d683b4e6",
   "metadata": {},
   "outputs": [],
   "source": [
    "df_new['hex_id'] = df_new.apply(\n",
    "    func=lambda row: h3.geo_to_h3(lat=row['origin_latitude'], lng=row['origin_longitude'], resolution=8), axis=1)"
   ]
  },
  {
   "cell_type": "code",
   "execution_count": 36,
   "id": "8ad87d17",
   "metadata": {},
   "outputs": [
    {
     "data": {
      "text/plain": [
       "(139,)"
      ]
     },
     "execution_count": 36,
     "metadata": {},
     "output_type": "execute_result"
    }
   ],
   "source": [
    "grouped_g5 = df_new.groupby(by=\"hex_id\")['order_gk'].count()\n",
    "grouped_g5.shape"
   ]
  },
  {
   "cell_type": "code",
   "execution_count": 37,
   "id": "98edf951",
   "metadata": {},
   "outputs": [
    {
     "data": {
      "text/html": [
       "<div>\n",
       "<style scoped>\n",
       "    .dataframe tbody tr th:only-of-type {\n",
       "        vertical-align: middle;\n",
       "    }\n",
       "\n",
       "    .dataframe tbody tr th {\n",
       "        vertical-align: top;\n",
       "    }\n",
       "\n",
       "    .dataframe thead th {\n",
       "        text-align: right;\n",
       "    }\n",
       "</style>\n",
       "<table border=\"1\" class=\"dataframe\">\n",
       "  <thead>\n",
       "    <tr style=\"text-align: right;\">\n",
       "      <th></th>\n",
       "      <th>hex_id</th>\n",
       "      <th>order_gk</th>\n",
       "    </tr>\n",
       "  </thead>\n",
       "  <tbody>\n",
       "    <tr>\n",
       "      <th>135</th>\n",
       "      <td>88195d74d1fffff</td>\n",
       "      <td>1</td>\n",
       "    </tr>\n",
       "    <tr>\n",
       "      <th>66</th>\n",
       "      <td>88195d2a33fffff</td>\n",
       "      <td>7</td>\n",
       "    </tr>\n",
       "    <tr>\n",
       "      <th>31</th>\n",
       "      <td>88195d2941fffff</td>\n",
       "      <td>19</td>\n",
       "    </tr>\n",
       "    <tr>\n",
       "      <th>118</th>\n",
       "      <td>88195d2b5dfffff</td>\n",
       "      <td>8</td>\n",
       "    </tr>\n",
       "    <tr>\n",
       "      <th>42</th>\n",
       "      <td>88195d2961fffff</td>\n",
       "      <td>3</td>\n",
       "    </tr>\n",
       "  </tbody>\n",
       "</table>\n",
       "</div>"
      ],
      "text/plain": [
       "              hex_id  order_gk\n",
       "135  88195d74d1fffff         1\n",
       "66   88195d2a33fffff         7\n",
       "31   88195d2941fffff        19\n",
       "118  88195d2b5dfffff         8\n",
       "42   88195d2961fffff         3"
      ]
     },
     "execution_count": 37,
     "metadata": {},
     "output_type": "execute_result"
    }
   ],
   "source": [
    "grouped_g5 = grouped_g5.reset_index()\n",
    "grouped_g5.sample(n=5, random_state=42)"
   ]
  },
  {
   "cell_type": "code",
   "execution_count": 38,
   "id": "5c827653",
   "metadata": {},
   "outputs": [
    {
     "data": {
      "text/html": [
       "<div>\n",
       "<style scoped>\n",
       "    .dataframe tbody tr th:only-of-type {\n",
       "        vertical-align: middle;\n",
       "    }\n",
       "\n",
       "    .dataframe tbody tr th {\n",
       "        vertical-align: top;\n",
       "    }\n",
       "\n",
       "    .dataframe thead th {\n",
       "        text-align: right;\n",
       "    }\n",
       "</style>\n",
       "<table border=\"1\" class=\"dataframe\">\n",
       "  <thead>\n",
       "    <tr style=\"text-align: right;\">\n",
       "      <th></th>\n",
       "      <th>hex_id</th>\n",
       "      <th>order_gk</th>\n",
       "      <th>cum_sum</th>\n",
       "      <th>cum_perc</th>\n",
       "    </tr>\n",
       "  </thead>\n",
       "  <tbody>\n",
       "    <tr>\n",
       "      <th>79</th>\n",
       "      <td>88195d2aebfffff</td>\n",
       "      <td>1</td>\n",
       "      <td>1</td>\n",
       "      <td>0.013141</td>\n",
       "    </tr>\n",
       "    <tr>\n",
       "      <th>120</th>\n",
       "      <td>88195d2b69fffff</td>\n",
       "      <td>1</td>\n",
       "      <td>2</td>\n",
       "      <td>0.026281</td>\n",
       "    </tr>\n",
       "    <tr>\n",
       "      <th>107</th>\n",
       "      <td>88195d2b41fffff</td>\n",
       "      <td>1</td>\n",
       "      <td>3</td>\n",
       "      <td>0.039422</td>\n",
       "    </tr>\n",
       "    <tr>\n",
       "      <th>129</th>\n",
       "      <td>88195d7491fffff</td>\n",
       "      <td>1</td>\n",
       "      <td>4</td>\n",
       "      <td>0.052562</td>\n",
       "    </tr>\n",
       "    <tr>\n",
       "      <th>137</th>\n",
       "      <td>88195d74d5fffff</td>\n",
       "      <td>1</td>\n",
       "      <td>5</td>\n",
       "      <td>0.065703</td>\n",
       "    </tr>\n",
       "    <tr>\n",
       "      <th>...</th>\n",
       "      <td>...</td>\n",
       "      <td>...</td>\n",
       "      <td>...</td>\n",
       "      <td>...</td>\n",
       "    </tr>\n",
       "    <tr>\n",
       "      <th>61</th>\n",
       "      <td>88195d2a27fffff</td>\n",
       "      <td>306</td>\n",
       "      <td>3922</td>\n",
       "      <td>51.537451</td>\n",
       "    </tr>\n",
       "    <tr>\n",
       "      <th>91</th>\n",
       "      <td>88195d2b19fffff</td>\n",
       "      <td>467</td>\n",
       "      <td>4389</td>\n",
       "      <td>57.674113</td>\n",
       "    </tr>\n",
       "    <tr>\n",
       "      <th>20</th>\n",
       "      <td>88195d284dfffff</td>\n",
       "      <td>479</td>\n",
       "      <td>4868</td>\n",
       "      <td>63.968463</td>\n",
       "    </tr>\n",
       "    <tr>\n",
       "      <th>87</th>\n",
       "      <td>88195d2b11fffff</td>\n",
       "      <td>495</td>\n",
       "      <td>5363</td>\n",
       "      <td>70.473062</td>\n",
       "    </tr>\n",
       "    <tr>\n",
       "      <th>89</th>\n",
       "      <td>88195d2b15fffff</td>\n",
       "      <td>583</td>\n",
       "      <td>5946</td>\n",
       "      <td>78.134034</td>\n",
       "    </tr>\n",
       "  </tbody>\n",
       "</table>\n",
       "<p>137 rows × 4 columns</p>\n",
       "</div>"
      ],
      "text/plain": [
       "              hex_id  order_gk  cum_sum   cum_perc\n",
       "79   88195d2aebfffff         1        1   0.013141\n",
       "120  88195d2b69fffff         1        2   0.026281\n",
       "107  88195d2b41fffff         1        3   0.039422\n",
       "129  88195d7491fffff         1        4   0.052562\n",
       "137  88195d74d5fffff         1        5   0.065703\n",
       "..               ...       ...      ...        ...\n",
       "61   88195d2a27fffff       306     3922  51.537451\n",
       "91   88195d2b19fffff       467     4389  57.674113\n",
       "20   88195d284dfffff       479     4868  63.968463\n",
       "87   88195d2b11fffff       495     5363  70.473062\n",
       "89   88195d2b15fffff       583     5946  78.134034\n",
       "\n",
       "[137 rows x 4 columns]"
      ]
     },
     "execution_count": 38,
     "metadata": {},
     "output_type": "execute_result"
    }
   ],
   "source": [
    "grouped_g5 = grouped_g5.sort_values(by=\"order_gk\")\n",
    "total_orders = grouped_g5[\"order_gk\"].sum()\n",
    "grouped_g5[\"cum_sum\"] = grouped_g5[\"order_gk\"].cumsum()\n",
    "grouped_g5[\"cum_perc\"] = 100 * grouped_g5[\"cum_sum\"] / total_orders\n",
    "grouped_g5[grouped_g5[\"cum_perc\"] <= 80]"
   ]
  },
  {
   "cell_type": "code",
   "execution_count": 39,
   "id": "f1c0c7cd",
   "metadata": {},
   "outputs": [],
   "source": [
    "map = folium.Map(location=[df_new['origin_latitude'].mean(), df_new['origin_longitude'].mean()],\n",
    "                 zoom_start=8.5,\n",
    "                 titles = \"cartodbpositron\")"
   ]
  },
  {
   "cell_type": "code",
   "execution_count": 40,
   "id": "008e20bf",
   "metadata": {},
   "outputs": [],
   "source": [
    "import json\n",
    "import geojson\n",
    "\n",
    "def to_geojson(row):\n",
    "    \"\"\"Transform hex_id into a geojson object.\"\"\"\n",
    "    geometry = {\n",
    "        \"type\": \"Polygon\",\n",
    "        \"coordinates\": [h3.h3_to_geo_boundary(h=row[\"hex_id\"], geo_json=True)]\n",
    "    }\n",
    "    return geojson.Feature(id=row[\"hex_id\"], geometry=geometry, properties={\"order_gk\": row[\"order_gk\"]})\n",
    "\n",
    "\n",
    "geojsons = grouped_g5.apply(func=to_geojson, axis=1).values.tolist()\n",
    "geojson_str: str = json.dumps(geojson.FeatureCollection(geojsons))"
   ]
  },
  {
   "cell_type": "code",
   "execution_count": 41,
   "id": "1db5816f",
   "metadata": {},
   "outputs": [],
   "source": [
    "import matplotlib\n",
    "\n",
    "colormap = matplotlib.cm.get_cmap(name=\"plasma\")\n",
    "max_order_gk = grouped_g5[\"order_gk\"].max()\n",
    "min_order_gk = grouped_g5[\"order_gk\"].min()"
   ]
  },
  {
   "cell_type": "code",
   "execution_count": 42,
   "id": "72cabe68",
   "metadata": {},
   "outputs": [],
   "source": [
    "_ = folium.GeoJson(data=geojson_str, style_function=lambda f: {\n",
    "    \"fillColor\": matplotlib.colors.to_hex(\n",
    "        colormap((f[\"properties\"]['order_gk'] - min_order_gk) / (max_order_gk - min_order_gk))),\n",
    "    \"color\": \"black\",\n",
    "    \"weight\": 1,\n",
    "    \"fillOpacity\": 0.7,\n",
    "}).add_to(map)"
   ]
  },
  {
   "cell_type": "code",
   "execution_count": 43,
   "id": "8f778e37",
   "metadata": {},
   "outputs": [
    {
     "data": {
      "text/html": [
       "<div style=\"width:100%;\"><div style=\"position:relative;width:100%;height:0;padding-bottom:60%;\"><span style=\"color:#565656\">Make this Notebook Trusted to load map: File -> Trust Notebook</span><iframe srcdoc=\"&lt;!DOCTYPE html&gt;\n",
       "&lt;head&gt;    \n",
       "    &lt;meta http-equiv=&quot;content-type&quot; content=&quot;text/html; charset=UTF-8&quot; /&gt;\n",
       "    \n",
       "        &lt;script&gt;\n",
       "            L_NO_TOUCH = false;\n",
       "            L_DISABLE_3D = false;\n",
       "        &lt;/script&gt;\n",
       "    \n",
       "    &lt;style&gt;html, body {width: 100%;height: 100%;margin: 0;padding: 0;}&lt;/style&gt;\n",
       "    &lt;style&gt;#map {position:absolute;top:0;bottom:0;right:0;left:0;}&lt;/style&gt;\n",
       "    &lt;script src=&quot;https://cdn.jsdelivr.net/npm/leaflet@1.6.0/dist/leaflet.js&quot;&gt;&lt;/script&gt;\n",
       "    &lt;script src=&quot;https://code.jquery.com/jquery-1.12.4.min.js&quot;&gt;&lt;/script&gt;\n",
       "    &lt;script src=&quot;https://maxcdn.bootstrapcdn.com/bootstrap/3.2.0/js/bootstrap.min.js&quot;&gt;&lt;/script&gt;\n",
       "    &lt;script src=&quot;https://cdnjs.cloudflare.com/ajax/libs/Leaflet.awesome-markers/2.0.2/leaflet.awesome-markers.js&quot;&gt;&lt;/script&gt;\n",
       "    &lt;link rel=&quot;stylesheet&quot; href=&quot;https://cdn.jsdelivr.net/npm/leaflet@1.6.0/dist/leaflet.css&quot;/&gt;\n",
       "    &lt;link rel=&quot;stylesheet&quot; href=&quot;https://maxcdn.bootstrapcdn.com/bootstrap/3.2.0/css/bootstrap.min.css&quot;/&gt;\n",
       "    &lt;link rel=&quot;stylesheet&quot; href=&quot;https://maxcdn.bootstrapcdn.com/bootstrap/3.2.0/css/bootstrap-theme.min.css&quot;/&gt;\n",
       "    &lt;link rel=&quot;stylesheet&quot; href=&quot;https://maxcdn.bootstrapcdn.com/font-awesome/4.6.3/css/font-awesome.min.css&quot;/&gt;\n",
       "    &lt;link rel=&quot;stylesheet&quot; href=&quot;https://cdnjs.cloudflare.com/ajax/libs/Leaflet.awesome-markers/2.0.2/leaflet.awesome-markers.css&quot;/&gt;\n",
       "    &lt;link rel=&quot;stylesheet&quot; href=&quot;https://cdn.jsdelivr.net/gh/python-visualization/folium/folium/templates/leaflet.awesome.rotate.min.css&quot;/&gt;\n",
       "    \n",
       "            &lt;meta name=&quot;viewport&quot; content=&quot;width=device-width,\n",
       "                initial-scale=1.0, maximum-scale=1.0, user-scalable=no&quot; /&gt;\n",
       "            &lt;style&gt;\n",
       "                #map_9cdb50006492536b36c5944dc5fbb14f {\n",
       "                    position: relative;\n",
       "                    width: 100.0%;\n",
       "                    height: 100.0%;\n",
       "                    left: 0.0%;\n",
       "                    top: 0.0%;\n",
       "                }\n",
       "            &lt;/style&gt;\n",
       "        \n",
       "&lt;/head&gt;\n",
       "&lt;body&gt;    \n",
       "    \n",
       "            &lt;div class=&quot;folium-map&quot; id=&quot;map_9cdb50006492536b36c5944dc5fbb14f&quot; &gt;&lt;/div&gt;\n",
       "        \n",
       "&lt;/body&gt;\n",
       "&lt;script&gt;    \n",
       "    \n",
       "            var map_9cdb50006492536b36c5944dc5fbb14f = L.map(\n",
       "                &quot;map_9cdb50006492536b36c5944dc5fbb14f&quot;,\n",
       "                {\n",
       "                    center: [51.450117187910635, -0.9638404323258885],\n",
       "                    crs: L.CRS.EPSG3857,\n",
       "                    zoom: 8.5,\n",
       "                    zoomControl: true,\n",
       "                    preferCanvas: false,\n",
       "                    titles: &quot;cartodbpositron&quot;,\n",
       "                }\n",
       "            );\n",
       "\n",
       "            \n",
       "\n",
       "        \n",
       "    \n",
       "            var tile_layer_e1894a445db3dbc3fb059f112fa01d2a = L.tileLayer(\n",
       "                &quot;https://{s}.tile.openstreetmap.org/{z}/{x}/{y}.png&quot;,\n",
       "                {&quot;attribution&quot;: &quot;Data by \\u0026copy; \\u003ca href=\\&quot;http://openstreetmap.org\\&quot;\\u003eOpenStreetMap\\u003c/a\\u003e, under \\u003ca href=\\&quot;http://www.openstreetmap.org/copyright\\&quot;\\u003eODbL\\u003c/a\\u003e.&quot;, &quot;detectRetina&quot;: false, &quot;maxNativeZoom&quot;: 18, &quot;maxZoom&quot;: 18, &quot;minZoom&quot;: 0, &quot;noWrap&quot;: false, &quot;opacity&quot;: 1, &quot;subdomains&quot;: &quot;abc&quot;, &quot;tms&quot;: false}\n",
       "            ).addTo(map_9cdb50006492536b36c5944dc5fbb14f);\n",
       "        \n",
       "    \n",
       "        function geo_json_4a295b6c50ccbb8229055b6ccd8bb3d8_styler(feature) {\n",
       "            switch(feature.id) {\n",
       "                case &quot;88195d2a29fffff&quot;: case &quot;88195d2963fffff&quot;: case &quot;88195d2803fffff&quot;: case &quot;88195d2a13fffff&quot;: case &quot;88195d2a33fffff&quot;: case &quot;88195d2a67fffff&quot;: case &quot;88195d2a03fffff&quot;: case &quot;88195d2b5dfffff&quot;: case &quot;88195d2a07fffff&quot;: \n",
       "                    return {&quot;color&quot;: &quot;black&quot;, &quot;fillColor&quot;: &quot;#100788&quot;, &quot;fillOpacity&quot;: 0.7, &quot;weight&quot;: 1};\n",
       "                case &quot;88195d286dfffff&quot;: case &quot;88195d7493fffff&quot;: case &quot;88195d2947fffff&quot;: case &quot;88195d2b2bfffff&quot;: case &quot;88195d2b21fffff&quot;: case &quot;88195d2b59fffff&quot;: case &quot;88195d2b4bfffff&quot;: case &quot;88195d2809fffff&quot;: \n",
       "                    return {&quot;color&quot;: &quot;black&quot;, &quot;fillColor&quot;: &quot;#130789&quot;, &quot;fillOpacity&quot;: 0.7, &quot;weight&quot;: 1};\n",
       "                case &quot;88195d2a17fffff&quot;: case &quot;88195d2a15fffff&quot;: case &quot;88195d2a69fffff&quot;: case &quot;88195d2949fffff&quot;: case &quot;88195d294dfffff&quot;: case &quot;88195d2b29fffff&quot;: case &quot;88195d2a39fffff&quot;: case &quot;88195d283dfffff&quot;: case &quot;88195d295bfffff&quot;: case &quot;88195d296bfffff&quot;: \n",
       "                    return {&quot;color&quot;: &quot;black&quot;, &quot;fillColor&quot;: &quot;#16078a&quot;, &quot;fillOpacity&quot;: 0.7, &quot;weight&quot;: 1};\n",
       "                case &quot;88195d2801fffff&quot;: case &quot;88195d2941fffff&quot;: case &quot;88195d2943fffff&quot;: case &quot;88195d2b43fffff&quot;: case &quot;88195d2b35fffff&quot;: case &quot;88195d2a37fffff&quot;: case &quot;88195d39b7fffff&quot;: case &quot;88195d2b33fffff&quot;: \n",
       "                    return {&quot;color&quot;: &quot;black&quot;, &quot;fillColor&quot;: &quot;#19068c&quot;, &quot;fillOpacity&quot;: 0.7, &quot;weight&quot;: 1};\n",
       "                case &quot;88195d2b37fffff&quot;: case &quot;88195d294bfffff&quot;: case &quot;88195d2b47fffff&quot;: \n",
       "                    return {&quot;color&quot;: &quot;black&quot;, &quot;fillColor&quot;: &quot;#1b068d&quot;, &quot;fillOpacity&quot;: 0.7, &quot;weight&quot;: 1};\n",
       "                case &quot;88195d2a2dfffff&quot;: case &quot;88195d286bfffff&quot;: case &quot;88195d2829fffff&quot;: case &quot;88195d285dfffff&quot;: \n",
       "                    return {&quot;color&quot;: &quot;black&quot;, &quot;fillColor&quot;: &quot;#1d068e&quot;, &quot;fillOpacity&quot;: 0.7, &quot;weight&quot;: 1};\n",
       "                case &quot;88195d2b01fffff&quot;: case &quot;88195d2849fffff&quot;: case &quot;88195d2a3dfffff&quot;: \n",
       "                    return {&quot;color&quot;: &quot;black&quot;, &quot;fillColor&quot;: &quot;#20068f&quot;, &quot;fillOpacity&quot;: 0.7, &quot;weight&quot;: 1};\n",
       "                case &quot;88195d2b23fffff&quot;: case &quot;88195d2a2bfffff&quot;: case &quot;88195d280dfffff&quot;: \n",
       "                    return {&quot;color&quot;: &quot;black&quot;, &quot;fillColor&quot;: &quot;#220690&quot;, &quot;fillOpacity&quot;: 0.7, &quot;weight&quot;: 1};\n",
       "                case &quot;88195d2863fffff&quot;: \n",
       "                    return {&quot;color&quot;: &quot;black&quot;, &quot;fillColor&quot;: &quot;#240691&quot;, &quot;fillOpacity&quot;: 0.7, &quot;weight&quot;: 1};\n",
       "                case &quot;88195d2b07fffff&quot;: case &quot;88195d2867fffff&quot;: case &quot;88195d2a35fffff&quot;: case &quot;88195d282dfffff&quot;: \n",
       "                    return {&quot;color&quot;: &quot;black&quot;, &quot;fillColor&quot;: &quot;#260591&quot;, &quot;fillOpacity&quot;: 0.7, &quot;weight&quot;: 1};\n",
       "                case &quot;88195d2b0dfffff&quot;: case &quot;88195d2b09fffff&quot;: case &quot;88195d2841fffff&quot;: \n",
       "                    return {&quot;color&quot;: &quot;black&quot;, &quot;fillColor&quot;: &quot;#2a0593&quot;, &quot;fillOpacity&quot;: 0.7, &quot;weight&quot;: 1};\n",
       "                case &quot;88195d2843fffff&quot;: case &quot;88195d2b55fffff&quot;: case &quot;88195d2847fffff&quot;: \n",
       "                    return {&quot;color&quot;: &quot;black&quot;, &quot;fillColor&quot;: &quot;#2c0594&quot;, &quot;fillOpacity&quot;: 0.7, &quot;weight&quot;: 1};\n",
       "                case &quot;88195d2845fffff&quot;: case &quot;88195d2a23fffff&quot;: \n",
       "                    return {&quot;color&quot;: &quot;black&quot;, &quot;fillColor&quot;: &quot;#2e0595&quot;, &quot;fillOpacity&quot;: 0.7, &quot;weight&quot;: 1};\n",
       "                case &quot;88195d2b57fffff&quot;: case &quot;88195d2b51fffff&quot;: \n",
       "                    return {&quot;color&quot;: &quot;black&quot;, &quot;fillColor&quot;: &quot;#310597&quot;, &quot;fillOpacity&quot;: 0.7, &quot;weight&quot;: 1};\n",
       "                case &quot;88195d2869fffff&quot;: case &quot;88195d2b3bfffff&quot;: \n",
       "                    return {&quot;color&quot;: &quot;black&quot;, &quot;fillColor&quot;: &quot;#370499&quot;, &quot;fillOpacity&quot;: 0.7, &quot;weight&quot;: 1};\n",
       "                case &quot;88195d2b3dfffff&quot;: \n",
       "                    return {&quot;color&quot;: &quot;black&quot;, &quot;fillColor&quot;: &quot;#3f049c&quot;, &quot;fillOpacity&quot;: 0.7, &quot;weight&quot;: 1};\n",
       "                case &quot;88195d2b31fffff&quot;: \n",
       "                    return {&quot;color&quot;: &quot;black&quot;, &quot;fillColor&quot;: &quot;#43039e&quot;, &quot;fillOpacity&quot;: 0.7, &quot;weight&quot;: 1};\n",
       "                case &quot;88195d2a21fffff&quot;: \n",
       "                    return {&quot;color&quot;: &quot;black&quot;, &quot;fillColor&quot;: &quot;#46039f&quot;, &quot;fillOpacity&quot;: 0.7, &quot;weight&quot;: 1};\n",
       "                case &quot;88195d2b39fffff&quot;: \n",
       "                    return {&quot;color&quot;: &quot;black&quot;, &quot;fillColor&quot;: &quot;#4c02a1&quot;, &quot;fillOpacity&quot;: 0.7, &quot;weight&quot;: 1};\n",
       "                case &quot;88195d2861fffff&quot;: case &quot;88195d2b17fffff&quot;: \n",
       "                    return {&quot;color&quot;: &quot;black&quot;, &quot;fillColor&quot;: &quot;#5002a2&quot;, &quot;fillOpacity&quot;: 0.7, &quot;weight&quot;: 1};\n",
       "                case &quot;88195d2b03fffff&quot;: \n",
       "                    return {&quot;color&quot;: &quot;black&quot;, &quot;fillColor&quot;: &quot;#6100a7&quot;, &quot;fillOpacity&quot;: 0.7, &quot;weight&quot;: 1};\n",
       "                case &quot;88195d2b0bfffff&quot;: \n",
       "                    return {&quot;color&quot;: &quot;black&quot;, &quot;fillColor&quot;: &quot;#7100a8&quot;, &quot;fillOpacity&quot;: 0.7, &quot;weight&quot;: 1};\n",
       "                case &quot;88195d2b13fffff&quot;: \n",
       "                    return {&quot;color&quot;: &quot;black&quot;, &quot;fillColor&quot;: &quot;#7501a8&quot;, &quot;fillOpacity&quot;: 0.7, &quot;weight&quot;: 1};\n",
       "                case &quot;88195d2a25fffff&quot;: \n",
       "                    return {&quot;color&quot;: &quot;black&quot;, &quot;fillColor&quot;: &quot;#7e03a8&quot;, &quot;fillOpacity&quot;: 0.7, &quot;weight&quot;: 1};\n",
       "                case &quot;88195d2a27fffff&quot;: \n",
       "                    return {&quot;color&quot;: &quot;black&quot;, &quot;fillColor&quot;: &quot;#8e0ca4&quot;, &quot;fillOpacity&quot;: 0.7, &quot;weight&quot;: 1};\n",
       "                case &quot;88195d2b19fffff&quot;: \n",
       "                    return {&quot;color&quot;: &quot;black&quot;, &quot;fillColor&quot;: &quot;#bf3984&quot;, &quot;fillOpacity&quot;: 0.7, &quot;weight&quot;: 1};\n",
       "                case &quot;88195d284dfffff&quot;: \n",
       "                    return {&quot;color&quot;: &quot;black&quot;, &quot;fillColor&quot;: &quot;#c23c81&quot;, &quot;fillOpacity&quot;: 0.7, &quot;weight&quot;: 1};\n",
       "                case &quot;88195d2b11fffff&quot;: \n",
       "                    return {&quot;color&quot;: &quot;black&quot;, &quot;fillColor&quot;: &quot;#c5407e&quot;, &quot;fillOpacity&quot;: 0.7, &quot;weight&quot;: 1};\n",
       "                case &quot;88195d2b15fffff&quot;: \n",
       "                    return {&quot;color&quot;: &quot;black&quot;, &quot;fillColor&quot;: &quot;#d9586a&quot;, &quot;fillOpacity&quot;: 0.7, &quot;weight&quot;: 1};\n",
       "                case &quot;88195d2b1bfffff&quot;: \n",
       "                    return {&quot;color&quot;: &quot;black&quot;, &quot;fillColor&quot;: &quot;#e26561&quot;, &quot;fillOpacity&quot;: 0.7, &quot;weight&quot;: 1};\n",
       "                case &quot;88195d2b1dfffff&quot;: \n",
       "                    return {&quot;color&quot;: &quot;black&quot;, &quot;fillColor&quot;: &quot;#f0f921&quot;, &quot;fillOpacity&quot;: 0.7, &quot;weight&quot;: 1};\n",
       "                default:\n",
       "                    return {&quot;color&quot;: &quot;black&quot;, &quot;fillColor&quot;: &quot;#0d0887&quot;, &quot;fillOpacity&quot;: 0.7, &quot;weight&quot;: 1};\n",
       "            }\n",
       "        }\n",
       "\n",
       "        function geo_json_4a295b6c50ccbb8229055b6ccd8bb3d8_onEachFeature(feature, layer) {\n",
       "            layer.on({\n",
       "            });\n",
       "        };\n",
       "        var geo_json_4a295b6c50ccbb8229055b6ccd8bb3d8 = L.geoJson(null, {\n",
       "                onEachFeature: geo_json_4a295b6c50ccbb8229055b6ccd8bb3d8_onEachFeature,\n",
       "            \n",
       "                style: geo_json_4a295b6c50ccbb8229055b6ccd8bb3d8_styler,\n",
       "        });\n",
       "\n",
       "        function geo_json_4a295b6c50ccbb8229055b6ccd8bb3d8_add (data) {\n",
       "            geo_json_4a295b6c50ccbb8229055b6ccd8bb3d8\n",
       "                .addData(data)\n",
       "                .addTo(map_9cdb50006492536b36c5944dc5fbb14f);\n",
       "        }\n",
       "            geo_json_4a295b6c50ccbb8229055b6ccd8bb3d8_add({&quot;features&quot;: [{&quot;geometry&quot;: {&quot;coordinates&quot;: [[[-0.876122, 51.419258], [-0.882846, 51.418014], [-0.884017, 51.413514], [-0.878463, 51.410257], [-0.87174, 51.411501], [-0.870569, 51.416002], [-0.876122, 51.419258]]], &quot;type&quot;: &quot;Polygon&quot;}, &quot;id&quot;: &quot;88195d2aebfffff&quot;, &quot;properties&quot;: {&quot;order_gk&quot;: 1}, &quot;type&quot;: &quot;Feature&quot;}, {&quot;geometry&quot;: {&quot;coordinates&quot;: [[[-0.997344, 51.495352], [-1.004082, 51.494103], [-1.005246, 51.489602], [-0.999673, 51.48635], [-0.992936, 51.487599], [-0.991772, 51.4921], [-0.997344, 51.495352]]], &quot;type&quot;: &quot;Polygon&quot;}, &quot;id&quot;: &quot;88195d2b69fffff&quot;, &quot;properties&quot;: {&quot;order_gk&quot;: 1}, &quot;type&quot;: &quot;Feature&quot;}, {&quot;geometry&quot;: {&quot;coordinates&quot;: [[[-0.972727, 51.491342], [-0.979464, 51.490095], [-0.980629, 51.485595], [-0.975059, 51.482342], [-0.968324, 51.48359], [-0.967158, 51.48809], [-0.972727, 51.491342]]], &quot;type&quot;: &quot;Polygon&quot;}, &quot;id&quot;: &quot;88195d2b41fffff&quot;, &quot;properties&quot;: {&quot;order_gk&quot;: 1}, &quot;type&quot;: &quot;Feature&quot;}, {&quot;geometry&quot;: {&quot;coordinates&quot;: [[[-1.049151, 51.46859], [-1.055888, 51.467337], [-1.057047, 51.462834], [-1.051472, 51.459584], [-1.044737, 51.460837], [-1.043576, 51.46534], [-1.049151, 51.46859]]], &quot;type&quot;: &quot;Polygon&quot;}, &quot;id&quot;: &quot;88195d7491fffff&quot;, &quot;properties&quot;: {&quot;order_gk&quot;: 1}, &quot;type&quot;: &quot;Feature&quot;}, {&quot;geometry&quot;: {&quot;coordinates&quot;: [[[-1.050087, 51.489851], [-1.056825, 51.488599], [-1.057985, 51.484096], [-1.052408, 51.480846], [-1.04567, 51.482099], [-1.044509, 51.486601], [-1.050087, 51.489851]]], &quot;type&quot;: &quot;Polygon&quot;}, &quot;id&quot;: &quot;88195d74d5fffff&quot;, &quot;properties&quot;: {&quot;order_gk&quot;: 1}, &quot;type&quot;: &quot;Feature&quot;}, {&quot;geometry&quot;: {&quot;coordinates&quot;: [[[-1.053568, 51.476344], [-1.060305, 51.475091], [-1.061464, 51.470587], [-1.055888, 51.467337], [-1.049151, 51.46859], [-1.047991, 51.473093], [-1.053568, 51.476344]]], &quot;type&quot;: &quot;Polygon&quot;}, &quot;id&quot;: &quot;88195d749dfffff&quot;, &quot;properties&quot;: {&quot;order_gk&quot;: 1}, &quot;type&quot;: &quot;Feature&quot;}, {&quot;geometry&quot;: {&quot;coordinates&quot;: [[[-0.973505, 51.414059], [-0.980233, 51.412808], [-0.981396, 51.408305], [-0.975834, 51.405052], [-0.969108, 51.406302], [-0.967943, 51.410806], [-0.973505, 51.414059]]], &quot;type&quot;: &quot;Polygon&quot;}, &quot;id&quot;: &quot;88195d282bfffff&quot;, &quot;properties&quot;: {&quot;order_gk&quot;: 1}, &quot;type&quot;: &quot;Feature&quot;}, {&quot;geometry&quot;: {&quot;coordinates&quot;: [[[-0.903318, 51.487042], [-0.910052, 51.485798], [-0.911222, 51.4813], [-0.905659, 51.478045], [-0.898927, 51.479288], [-0.897756, 51.483786], [-0.903318, 51.487042]]], &quot;type&quot;: &quot;Polygon&quot;}, &quot;id&quot;: &quot;88195d3993fffff&quot;, &quot;properties&quot;: {&quot;order_gk&quot;: 1}, &quot;type&quot;: &quot;Feature&quot;}, {&quot;geometry&quot;: {&quot;coordinates&quot;: [[[-0.898927, 51.479288], [-0.905659, 51.478045], [-0.906829, 51.473546], [-0.901268, 51.470291], [-0.894537, 51.471534], [-0.893366, 51.476033], [-0.898927, 51.479288]]], &quot;type&quot;: &quot;Polygon&quot;}, &quot;id&quot;: &quot;88195d2a45fffff&quot;, &quot;properties&quot;: {&quot;order_gk&quot;: 1}, &quot;type&quot;: &quot;Feature&quot;}, {&quot;geometry&quot;: {&quot;coordinates&quot;: [[[-1.037771, 51.487852], [-1.044509, 51.486601], [-1.04567, 51.482099], [-1.040093, 51.478848], [-1.033357, 51.4801], [-1.032195, 51.484602], [-1.037771, 51.487852]]], &quot;type&quot;: &quot;Polygon&quot;}, &quot;id&quot;: &quot;88195d74d1fffff&quot;, &quot;properties&quot;: {&quot;order_gk&quot;: 1}, &quot;type&quot;: &quot;Feature&quot;}, {&quot;geometry&quot;: {&quot;coordinates&quot;: [[[-0.936645, 51.408045], [-0.94337, 51.406796], [-0.944536, 51.402293], [-0.938978, 51.399039], [-0.932254, 51.400287], [-0.931087, 51.40479], [-0.936645, 51.408045]]], &quot;type&quot;: &quot;Polygon&quot;}, &quot;id&quot;: &quot;88195d281dfffff&quot;, &quot;properties&quot;: {&quot;order_gk&quot;: 1}, &quot;type&quot;: &quot;Feature&quot;}, {&quot;geometry&quot;: {&quot;coordinates&quot;: [[[-1.002493, 51.425819], [-1.009223, 51.424567], [-1.010385, 51.420063], [-1.004818, 51.416811], [-0.99809, 51.418063], [-0.996927, 51.422567], [-1.002493, 51.425819]]], &quot;type&quot;: &quot;Polygon&quot;}, &quot;id&quot;: &quot;88195d2953fffff&quot;, &quot;properties&quot;: {&quot;order_gk&quot;: 1}, &quot;type&quot;: &quot;Feature&quot;}, {&quot;geometry&quot;: {&quot;coordinates&quot;: [[[-0.87786, 51.461767], [-0.88459, 51.460524], [-0.885761, 51.456025], [-0.880204, 51.452769], [-0.873475, 51.454012], [-0.872303, 51.45851], [-0.87786, 51.461767]]], &quot;type&quot;: &quot;Polygon&quot;}, &quot;id&quot;: &quot;88195d2a55fffff&quot;, &quot;properties&quot;: {&quot;order_gk&quot;: 1}, &quot;type&quot;: &quot;Feature&quot;}, {&quot;geometry&quot;: {&quot;coordinates&quot;: [[[-0.961216, 51.412055], [-0.967943, 51.410806], [-0.969108, 51.406302], [-0.963546, 51.403049], [-0.956821, 51.404298], [-0.955656, 51.408801], [-0.961216, 51.412055]]], &quot;type&quot;: &quot;Polygon&quot;}, &quot;id&quot;: &quot;88195d2807fffff&quot;, &quot;properties&quot;: {&quot;order_gk&quot;: 1}, &quot;type&quot;: &quot;Feature&quot;}, {&quot;geometry&quot;: {&quot;coordinates&quot;: [[[-0.906829, 51.473546], [-0.913561, 51.472302], [-0.914731, 51.467803], [-0.909169, 51.464548], [-0.902439, 51.465792], [-0.901268, 51.470291], [-0.906829, 51.473546]]], &quot;type&quot;: &quot;Polygon&quot;}, &quot;id&quot;: &quot;88195d2a6bfffff&quot;, &quot;properties&quot;: {&quot;order_gk&quot;: 1}, &quot;type&quot;: &quot;Feature&quot;}, {&quot;geometry&quot;: {&quot;coordinates&quot;: [[[-0.985796, 51.416061], [-0.992524, 51.41481], [-0.993687, 51.410306], [-0.988123, 51.407054], [-0.981396, 51.408305], [-0.980233, 51.412808], [-0.985796, 51.416061]]], &quot;type&quot;: &quot;Polygon&quot;}, &quot;id&quot;: &quot;88195d2821fffff&quot;, &quot;properties&quot;: {&quot;order_gk&quot;: 1}, &quot;type&quot;: &quot;Feature&quot;}, {&quot;geometry&quot;: {&quot;coordinates&quot;: [[[-0.932312, 51.498817], [-0.939047, 51.497572], [-0.940216, 51.493073], [-0.934649, 51.489819], [-0.927914, 51.491064], [-0.926745, 51.495562], [-0.932312, 51.498817]]], &quot;type&quot;: &quot;Polygon&quot;}, &quot;id&quot;: &quot;88195d39b9fffff&quot;, &quot;properties&quot;: {&quot;order_gk&quot;: 1}, &quot;type&quot;: &quot;Feature&quot;}, {&quot;geometry&quot;: {&quot;coordinates&quot;: [[[-0.890148, 51.46378], [-0.896878, 51.462537], [-0.898049, 51.458038], [-0.89249, 51.454782], [-0.885761, 51.456025], [-0.88459, 51.460524], [-0.890148, 51.46378]]], &quot;type&quot;: &quot;Polygon&quot;}, &quot;id&quot;: &quot;88195d2a09fffff&quot;, &quot;properties&quot;: {&quot;order_gk&quot;: 2}, &quot;type&quot;: &quot;Feature&quot;}, {&quot;geometry&quot;: {&quot;coordinates&quot;: [[[-1.000837, 51.481849], [-1.007573, 51.4806], [-1.008736, 51.476098], [-1.003164, 51.472847], [-0.996429, 51.474096], [-0.995265, 51.478597], [-1.000837, 51.481849]]], &quot;type&quot;: &quot;Polygon&quot;}, &quot;id&quot;: &quot;88195d2b63fffff&quot;, &quot;properties&quot;: {&quot;order_gk&quot;: 2}, &quot;type&quot;: &quot;Feature&quot;}, {&quot;geometry&quot;: {&quot;coordinates&quot;: [[[-0.8884, 51.421271], [-0.895125, 51.420026], [-0.896295, 51.415525], [-0.890741, 51.412269], [-0.884017, 51.413514], [-0.882846, 51.418014], [-0.8884, 51.421271]]], &quot;type&quot;: &quot;Polygon&quot;}, &quot;id&quot;: &quot;88195d2ae1fffff&quot;, &quot;properties&quot;: {&quot;order_gk&quot;: 2}, &quot;type&quot;: &quot;Feature&quot;}, {&quot;geometry&quot;: {&quot;coordinates&quot;: [[[-1.039392, 51.431816], [-1.046124, 51.430562], [-1.047283, 51.426057], [-1.041712, 51.422806], [-1.034982, 51.42406], [-1.033821, 51.428565], [-1.039392, 51.431816]]], &quot;type&quot;: &quot;Polygon&quot;}, &quot;id&quot;: &quot;88195d2901fffff&quot;, &quot;properties&quot;: {&quot;order_gk&quot;: 2}, &quot;type&quot;: &quot;Feature&quot;}, {&quot;geometry&quot;: {&quot;coordinates&quot;: [[[-0.898049, 51.458038], [-0.904779, 51.456794], [-0.905949, 51.452294], [-0.90039, 51.449039], [-0.893661, 51.450283], [-0.89249, 51.454782], [-0.898049, 51.458038]]], &quot;type&quot;: &quot;Polygon&quot;}, &quot;id&quot;: &quot;88195d2a01fffff&quot;, &quot;properties&quot;: {&quot;order_gk&quot;: 2}, &quot;type&quot;: &quot;Feature&quot;}, {&quot;geometry&quot;: {&quot;coordinates&quot;: [[[-0.935818, 51.48532], [-0.942552, 51.484075], [-0.94372, 51.479576], [-0.938154, 51.476322], [-0.931421, 51.477567], [-0.930252, 51.482066], [-0.935818, 51.48532]]], &quot;type&quot;: &quot;Polygon&quot;}, &quot;id&quot;: &quot;88195d39b3fffff&quot;, &quot;properties&quot;: {&quot;order_gk&quot;: 2}, &quot;type&quot;: &quot;Feature&quot;}, {&quot;geometry&quot;: {&quot;coordinates&quot;: [[[-0.977132, 51.499095], [-0.98387, 51.497848], [-0.985035, 51.493348], [-0.979464, 51.490095], [-0.972727, 51.491342], [-0.971561, 51.495842], [-0.977132, 51.499095]]], &quot;type&quot;: &quot;Polygon&quot;}, &quot;id&quot;: &quot;88195d2b4dfffff&quot;, &quot;properties&quot;: {&quot;order_gk&quot;: 2}, &quot;type&quot;: &quot;Feature&quot;}, {&quot;geometry&quot;: {&quot;coordinates&quot;: [[[-0.914731, 51.467803], [-0.921462, 51.466559], [-0.922631, 51.462059], [-0.91707, 51.458804], [-0.910339, 51.460049], [-0.909169, 51.464548], [-0.914731, 51.467803]]], &quot;type&quot;: &quot;Polygon&quot;}, &quot;id&quot;: &quot;88195d2a63fffff&quot;, &quot;properties&quot;: {&quot;order_gk&quot;: 2}, &quot;type&quot;: &quot;Feature&quot;}, {&quot;geometry&quot;: {&quot;coordinates&quot;: [[[-0.927914, 51.491064], [-0.934649, 51.489819], [-0.935818, 51.48532], [-0.930252, 51.482066], [-0.923519, 51.483311], [-0.922349, 51.487809], [-0.927914, 51.491064]]], &quot;type&quot;: &quot;Polygon&quot;}, &quot;id&quot;: &quot;88195d39bbfffff&quot;, &quot;properties&quot;: {&quot;order_gk&quot;: 2}, &quot;type&quot;: &quot;Feature&quot;}, {&quot;geometry&quot;: {&quot;coordinates&quot;: [[[-1.033357, 51.4801], [-1.040093, 51.478848], [-1.041255, 51.474346], [-1.035679, 51.471095], [-1.028943, 51.472347], [-1.027782, 51.476849], [-1.033357, 51.4801]]], &quot;type&quot;: &quot;Polygon&quot;}, &quot;id&quot;: &quot;88195d74d3fffff&quot;, &quot;properties&quot;: {&quot;order_gk&quot;: 2}, &quot;type&quot;: &quot;Feature&quot;}, {&quot;geometry&quot;: {&quot;coordinates&quot;: [[[-1.060525, 51.449322], [-1.06726, 51.448068], [-1.068418, 51.443563], [-1.062843, 51.440313], [-1.05611, 51.441568], [-1.054951, 51.446072], [-1.060525, 51.449322]]], &quot;type&quot;: &quot;Polygon&quot;}, &quot;id&quot;: &quot;88195d2961fffff&quot;, &quot;properties&quot;: {&quot;order_gk&quot;: 3}, &quot;type&quot;: &quot;Feature&quot;}, {&quot;geometry&quot;: {&quot;coordinates&quot;: [[[-1.011305, 51.44133], [-1.018036, 51.440078], [-1.019198, 51.435575], [-1.013629, 51.432323], [-1.006898, 51.433575], [-1.005736, 51.438078], [-1.011305, 51.44133]]], &quot;type&quot;: &quot;Polygon&quot;}, &quot;id&quot;: &quot;88195d295dfffff&quot;, &quot;properties&quot;: {&quot;order_gk&quot;: 3}, &quot;type&quot;: &quot;Feature&quot;}, {&quot;geometry&quot;: {&quot;coordinates&quot;: [[[-0.947222, 51.466076], [-0.953955, 51.464829], [-0.955121, 51.460328], [-0.949556, 51.457075], [-0.942825, 51.458321], [-0.941657, 51.462822], [-0.947222, 51.466076]]], &quot;type&quot;: &quot;Polygon&quot;}, &quot;id&quot;: &quot;88195d2b53fffff&quot;, &quot;properties&quot;: {&quot;order_gk&quot;: 3}, &quot;type&quot;: &quot;Feature&quot;}, {&quot;geometry&quot;: {&quot;coordinates&quot;: [[[-1.03684, 51.466592], [-1.043576, 51.46534], [-1.044737, 51.460837], [-1.039162, 51.457586], [-1.032428, 51.458838], [-1.031267, 51.463341], [-1.03684, 51.466592]]], &quot;type&quot;: &quot;Polygon&quot;}, &quot;id&quot;: &quot;88195d749bfffff&quot;, &quot;properties&quot;: {&quot;order_gk&quot;: 3}, &quot;type&quot;: &quot;Feature&quot;}, {&quot;geometry&quot;: {&quot;coordinates&quot;: [[[-0.912964, 51.425291], [-0.919691, 51.424045], [-0.920859, 51.419544], [-0.915301, 51.416289], [-0.908576, 51.417535], [-0.907407, 51.422036], [-0.912964, 51.425291]]], &quot;type&quot;: &quot;Polygon&quot;}, &quot;id&quot;: &quot;88195d2859fffff&quot;, &quot;properties&quot;: {&quot;order_gk&quot;: 3}, &quot;type&quot;: &quot;Feature&quot;}, {&quot;geometry&quot;: {&quot;coordinates&quot;: [[[-1.052631, 51.45508], [-1.059366, 51.453826], [-1.060525, 51.449322], [-1.054951, 51.446072], [-1.048217, 51.447326], [-1.047057, 51.45183], [-1.052631, 51.45508]]], &quot;type&quot;: &quot;Polygon&quot;}, &quot;id&quot;: &quot;88195d2969fffff&quot;, &quot;properties&quot;: {&quot;order_gk&quot;: 3}, &quot;type&quot;: &quot;Feature&quot;}, {&quot;geometry&quot;: {&quot;coordinates&quot;: [[[-1.057985, 51.484096], [-1.064724, 51.482844], [-1.065883, 51.478341], [-1.060305, 51.475091], [-1.053568, 51.476344], [-1.052408, 51.480846], [-1.057985, 51.484096]]], &quot;type&quot;: &quot;Polygon&quot;}, &quot;id&quot;: &quot;88195d748bfffff&quot;, &quot;properties&quot;: {&quot;order_gk&quot;: 3}, &quot;type&quot;: &quot;Feature&quot;}, {&quot;geometry&quot;: {&quot;coordinates&quot;: [[[-1.024532, 51.464593], [-1.031267, 51.463341], [-1.032428, 51.458838], [-1.026855, 51.455587], [-1.020121, 51.456839], [-1.018959, 51.461342], [-1.024532, 51.464593]]], &quot;type&quot;: &quot;Polygon&quot;}, &quot;id&quot;: &quot;88195d2b27fffff&quot;, &quot;properties&quot;: {&quot;order_gk&quot;: 3}, &quot;type&quot;: &quot;Feature&quot;}, {&quot;geometry&quot;: {&quot;coordinates&quot;: [[[-0.986707, 51.437327], [-0.993437, 51.436077], [-0.994601, 51.431573], [-0.989034, 51.428321], [-0.982305, 51.429571], [-0.981141, 51.434074], [-0.986707, 51.437327]]], &quot;type&quot;: &quot;Polygon&quot;}, &quot;id&quot;: &quot;88195d2865fffff&quot;, &quot;properties&quot;: {&quot;order_gk&quot;: 3}, &quot;type&quot;: &quot;Feature&quot;}, {&quot;geometry&quot;: {&quot;coordinates&quot;: [[[-0.964825, 51.497089], [-0.971561, 51.495842], [-0.972727, 51.491342], [-0.967158, 51.48809], [-0.960422, 51.489336], [-0.959255, 51.493836], [-0.964825, 51.497089]]], &quot;type&quot;: &quot;Polygon&quot;}, &quot;id&quot;: &quot;88195d2b49fffff&quot;, &quot;properties&quot;: {&quot;order_gk&quot;: 3}, &quot;type&quot;: &quot;Feature&quot;}, {&quot;geometry&quot;: {&quot;coordinates&quot;: [[[-0.876991, 51.440514], [-0.883718, 51.439271], [-0.884888, 51.434771], [-0.879333, 51.431515], [-0.872607, 51.432759], [-0.871436, 51.437258], [-0.876991, 51.440514]]], &quot;type&quot;: &quot;Polygon&quot;}, &quot;id&quot;: &quot;88195d2a11fffff&quot;, &quot;properties&quot;: {&quot;order_gk&quot;: 3}, &quot;type&quot;: &quot;Feature&quot;}, {&quot;geometry&quot;: {&quot;coordinates&quot;: [[[-1.040323, 51.453083], [-1.047057, 51.45183], [-1.048217, 51.447326], [-1.042644, 51.444075], [-1.035911, 51.445328], [-1.03475, 51.449832], [-1.040323, 51.453083]]], &quot;type&quot;: &quot;Polygon&quot;}, &quot;id&quot;: &quot;88195d2945fffff&quot;, &quot;properties&quot;: {&quot;order_gk&quot;: 4}, &quot;type&quot;: &quot;Feature&quot;}, {&quot;geometry&quot;: {&quot;coordinates&quot;: [[[-0.902439, 51.465792], [-0.909169, 51.464548], [-0.910339, 51.460049], [-0.904779, 51.456794], [-0.898049, 51.458038], [-0.896878, 51.462537], [-0.902439, 51.465792]]], &quot;type&quot;: &quot;Polygon&quot;}, &quot;id&quot;: &quot;88195d2a0dfffff&quot;, &quot;properties&quot;: {&quot;order_gk&quot;: 4}, &quot;type&quot;: &quot;Feature&quot;}, {&quot;geometry&quot;: {&quot;coordinates&quot;: [[[-0.885761, 51.456025], [-0.89249, 51.454782], [-0.893661, 51.450283], [-0.888103, 51.447027], [-0.881375, 51.44827], [-0.880204, 51.452769], [-0.885761, 51.456025]]], &quot;type&quot;: &quot;Polygon&quot;}, &quot;id&quot;: &quot;88195d2a0bfffff&quot;, &quot;properties&quot;: {&quot;order_gk&quot;: 4}, &quot;type&quot;: &quot;Feature&quot;}, {&quot;geometry&quot;: {&quot;coordinates&quot;: [[[-0.919124, 51.475557], [-0.925857, 51.474313], [-0.927025, 51.469813], [-0.921462, 51.466559], [-0.914731, 51.467803], [-0.913561, 51.472302], [-0.919124, 51.475557]]], &quot;type&quot;: &quot;Polygon&quot;}, &quot;id&quot;: &quot;88195d2a61fffff&quot;, &quot;properties&quot;: {&quot;order_gk&quot;: 4}, &quot;type&quot;: &quot;Feature&quot;}, {&quot;geometry&quot;: {&quot;coordinates&quot;: [[[-0.909457, 51.438794], [-0.916185, 51.437548], [-0.917354, 51.433047], [-0.911795, 51.429792], [-0.905069, 51.431038], [-0.903899, 51.435538], [-0.909457, 51.438794]]], &quot;type&quot;: &quot;Polygon&quot;}, &quot;id&quot;: &quot;88195d2a31fffff&quot;, &quot;properties&quot;: {&quot;order_gk&quot;: 4}, &quot;type&quot;: &quot;Feature&quot;}, {&quot;geometry&quot;: {&quot;coordinates&quot;: [[[-0.910339, 51.460049], [-0.91707, 51.458804], [-0.918239, 51.454304], [-0.912678, 51.451049], [-0.905949, 51.452294], [-0.904779, 51.456794], [-0.910339, 51.460049]]], &quot;type&quot;: &quot;Polygon&quot;}, &quot;id&quot;: &quot;88195d2a05fffff&quot;, &quot;properties&quot;: {&quot;order_gk&quot;: 4}, &quot;type&quot;: &quot;Feature&quot;}, {&quot;geometry&quot;: {&quot;coordinates&quot;: [[[-0.940216, 51.493073], [-0.946951, 51.491828], [-0.948119, 51.487329], [-0.942552, 51.484075], [-0.935818, 51.48532], [-0.934649, 51.489819], [-0.940216, 51.493073]]], &quot;type&quot;: &quot;Polygon&quot;}, &quot;id&quot;: &quot;88195d39b1fffff&quot;, &quot;properties&quot;: {&quot;order_gk&quot;: 4}, &quot;type&quot;: &quot;Feature&quot;}, {&quot;geometry&quot;: {&quot;coordinates&quot;: [[[-0.892785, 51.429027], [-0.899512, 51.427782], [-0.900681, 51.423281], [-0.895125, 51.420026], [-0.8884, 51.421271], [-0.88723, 51.425771], [-0.892785, 51.429027]]], &quot;type&quot;: &quot;Polygon&quot;}, &quot;id&quot;: &quot;88195d2aedfffff&quot;, &quot;properties&quot;: {&quot;order_gk&quot;: 5}, &quot;type&quot;: &quot;Feature&quot;}, {&quot;geometry&quot;: {&quot;coordinates&quot;: [[[-1.028943, 51.472347], [-1.035679, 51.471095], [-1.03684, 51.466592], [-1.031267, 51.463341], [-1.024532, 51.464593], [-1.02337, 51.469095], [-1.028943, 51.472347]]], &quot;type&quot;: &quot;Polygon&quot;}, &quot;id&quot;: &quot;88195d2b25fffff&quot;, &quot;properties&quot;: {&quot;order_gk&quot;: 5}, &quot;type&quot;: &quot;Feature&quot;}, {&quot;geometry&quot;: {&quot;coordinates&quot;: [[[-1.04567, 51.482099], [-1.052408, 51.480846], [-1.053568, 51.476344], [-1.047991, 51.473093], [-1.041255, 51.474346], [-1.040093, 51.478848], [-1.04567, 51.482099]]], &quot;type&quot;: &quot;Polygon&quot;}, &quot;id&quot;: &quot;88195d74d7fffff&quot;, &quot;properties&quot;: {&quot;order_gk&quot;: 5}, &quot;type&quot;: &quot;Feature&quot;}, {&quot;geometry&quot;: {&quot;coordinates&quot;: [[[-1.019198, 51.435575], [-1.025929, 51.434322], [-1.02709, 51.429818], [-1.021521, 51.426567], [-1.014791, 51.427819], [-1.013629, 51.432323], [-1.019198, 51.435575]]], &quot;type&quot;: &quot;Polygon&quot;}, &quot;id&quot;: &quot;88195d2955fffff&quot;, &quot;properties&quot;: {&quot;order_gk&quot;: 5}, &quot;type&quot;: &quot;Feature&quot;}, {&quot;geometry&quot;: {&quot;coordinates&quot;: [[[-0.965613, 51.419812], [-0.972341, 51.418562], [-0.973505, 51.414059], [-0.967943, 51.410806], [-0.961216, 51.412055], [-0.960051, 51.416558], [-0.965613, 51.419812]]], &quot;type&quot;: &quot;Polygon&quot;}, &quot;id&quot;: &quot;88195d2805fffff&quot;, &quot;properties&quot;: {&quot;order_gk&quot;: 5}, &quot;type&quot;: &quot;Feature&quot;}, {&quot;geometry&quot;: {&quot;coordinates&quot;: [[[-0.941037, 51.415802], [-0.947764, 51.414553], [-0.94893, 51.41005], [-0.94337, 51.406796], [-0.936645, 51.408045], [-0.935478, 51.412547], [-0.941037, 51.415802]]], &quot;type&quot;: &quot;Polygon&quot;}, &quot;id&quot;: &quot;88195d280bfffff&quot;, &quot;properties&quot;: {&quot;order_gk&quot;: 5}, &quot;type&quot;: &quot;Feature&quot;}, {&quot;geometry&quot;: {&quot;coordinates&quot;: [[[-0.981396, 51.408305], [-0.988123, 51.407054], [-0.989286, 51.402549], [-0.983723, 51.399296], [-0.976998, 51.400548], [-0.975834, 51.405052], [-0.981396, 51.408305]]], &quot;type&quot;: &quot;Polygon&quot;}, &quot;id&quot;: &quot;88195d2823fffff&quot;, &quot;properties&quot;: {&quot;order_gk&quot;: 5}, &quot;type&quot;: &quot;Feature&quot;}, {&quot;geometry&quot;: {&quot;coordinates&quot;: [[[-1.041255, 51.474346], [-1.047991, 51.473093], [-1.049151, 51.46859], [-1.043576, 51.46534], [-1.03684, 51.466592], [-1.035679, 51.471095], [-1.041255, 51.474346]]], &quot;type&quot;: &quot;Polygon&quot;}, &quot;id&quot;: &quot;88195d7499fffff&quot;, &quot;properties&quot;: {&quot;order_gk&quot;: 5}, &quot;type&quot;: &quot;Feature&quot;}, {&quot;geometry&quot;: {&quot;coordinates&quot;: [[[-1.057047, 51.462834], [-1.063783, 51.46158], [-1.064942, 51.457076], [-1.059366, 51.453826], [-1.052631, 51.45508], [-1.051472, 51.459584], [-1.057047, 51.462834]]], &quot;type&quot;: &quot;Polygon&quot;}, &quot;id&quot;: &quot;88195d7497fffff&quot;, &quot;properties&quot;: {&quot;order_gk&quot;: 5}, &quot;type&quot;: &quot;Feature&quot;}, {&quot;geometry&quot;: {&quot;coordinates&quot;: [[[-0.929641, 51.435056], [-0.936369, 51.433809], [-0.937537, 51.429308], [-0.931976, 51.426053], [-0.925249, 51.4273], [-0.924081, 51.431801], [-0.929641, 51.435056]]], &quot;type&quot;: &quot;Polygon&quot;}, &quot;id&quot;: &quot;88195d284bfffff&quot;, &quot;properties&quot;: {&quot;order_gk&quot;: 5}, &quot;type&quot;: &quot;Feature&quot;}, {&quot;geometry&quot;: {&quot;coordinates&quot;: [[[-0.992936, 51.487599], [-0.999673, 51.48635], [-1.000837, 51.481849], [-0.995265, 51.478597], [-0.98853, 51.479846], [-0.987365, 51.484347], [-0.992936, 51.487599]]], &quot;type&quot;: &quot;Polygon&quot;}, &quot;id&quot;: &quot;88195d2b6bfffff&quot;, &quot;properties&quot;: {&quot;order_gk&quot;: 5}, &quot;type&quot;: &quot;Feature&quot;}, {&quot;geometry&quot;: {&quot;coordinates&quot;: [[[-1.068418, 51.443563], [-1.075152, 51.442308], [-1.07631, 51.437803], [-1.070735, 51.434553], [-1.064002, 51.435808], [-1.062843, 51.440313], [-1.068418, 51.443563]]], &quot;type&quot;: &quot;Polygon&quot;}, &quot;id&quot;: &quot;88195d2967fffff&quot;, &quot;properties&quot;: {&quot;order_gk&quot;: 5}, &quot;type&quot;: &quot;Feature&quot;}, {&quot;geometry&quot;: {&quot;coordinates&quot;: [[[-0.922631, 51.462059], [-0.929362, 51.460814], [-0.930531, 51.456313], [-0.924969, 51.453059], [-0.918239, 51.454304], [-0.91707, 51.458804], [-0.922631, 51.462059]]], &quot;type&quot;: &quot;Polygon&quot;}, &quot;id&quot;: &quot;88195d2a29fffff&quot;, &quot;properties&quot;: {&quot;order_gk&quot;: 6}, &quot;type&quot;: &quot;Feature&quot;}, {&quot;geometry&quot;: {&quot;coordinates&quot;: [[[-1.05611, 51.441568], [-1.062843, 51.440313], [-1.064002, 51.435808], [-1.058428, 51.432558], [-1.051696, 51.433813], [-1.050536, 51.438317], [-1.05611, 51.441568]]], &quot;type&quot;: &quot;Polygon&quot;}, &quot;id&quot;: &quot;88195d2963fffff&quot;, &quot;properties&quot;: {&quot;order_gk&quot;: 7}, &quot;type&quot;: &quot;Feature&quot;}, {&quot;geometry&quot;: {&quot;coordinates&quot;: [[[-0.94893, 51.41005], [-0.955656, 51.408801], [-0.956821, 51.404298], [-0.951261, 51.401044], [-0.944536, 51.402293], [-0.94337, 51.406796], [-0.94893, 51.41005]]], &quot;type&quot;: &quot;Polygon&quot;}, &quot;id&quot;: &quot;88195d2803fffff&quot;, &quot;properties&quot;: {&quot;order_gk&quot;: 7}, &quot;type&quot;: &quot;Feature&quot;}, {&quot;geometry&quot;: {&quot;coordinates&quot;: [[[-0.872607, 51.432759], [-0.879333, 51.431515], [-0.880504, 51.427015], [-0.87495, 51.423759], [-0.868225, 51.425002], [-0.867054, 51.429502], [-0.872607, 51.432759]]], &quot;type&quot;: &quot;Polygon&quot;}, &quot;id&quot;: &quot;88195d2a13fffff&quot;, &quot;properties&quot;: {&quot;order_gk&quot;: 7}, &quot;type&quot;: &quot;Feature&quot;}, {&quot;geometry&quot;: {&quot;coordinates&quot;: [[[-0.905069, 51.431038], [-0.911795, 51.429792], [-0.912964, 51.425291], [-0.907407, 51.422036], [-0.900681, 51.423281], [-0.899512, 51.427782], [-0.905069, 51.431038]]], &quot;type&quot;: &quot;Polygon&quot;}, &quot;id&quot;: &quot;88195d2a33fffff&quot;, &quot;properties&quot;: {&quot;order_gk&quot;: 7}, &quot;type&quot;: &quot;Feature&quot;}, {&quot;geometry&quot;: {&quot;coordinates&quot;: [[[-0.927025, 51.469813], [-0.933758, 51.468568], [-0.934926, 51.464068], [-0.929362, 51.460814], [-0.922631, 51.462059], [-0.921462, 51.466559], [-0.927025, 51.469813]]], &quot;type&quot;: &quot;Polygon&quot;}, &quot;id&quot;: &quot;88195d2a67fffff&quot;, &quot;properties&quot;: {&quot;order_gk&quot;: 8}, &quot;type&quot;: &quot;Feature&quot;}, {&quot;geometry&quot;: {&quot;coordinates&quot;: [[[-0.893661, 51.450283], [-0.90039, 51.449039], [-0.90156, 51.444539], [-0.896002, 51.441283], [-0.889274, 51.442527], [-0.888103, 51.447027], [-0.893661, 51.450283]]], &quot;type&quot;: &quot;Polygon&quot;}, &quot;id&quot;: &quot;88195d2a03fffff&quot;, &quot;properties&quot;: {&quot;order_gk&quot;: 8}, &quot;type&quot;: &quot;Feature&quot;}, {&quot;geometry&quot;: {&quot;coordinates&quot;: [[[-0.956021, 51.481583], [-0.962755, 51.480336], [-0.963922, 51.475836], [-0.958354, 51.472583], [-0.951621, 51.47383], [-0.950454, 51.47833], [-0.956021, 51.481583]]], &quot;type&quot;: &quot;Polygon&quot;}, &quot;id&quot;: &quot;88195d2b5dfffff&quot;, &quot;properties&quot;: {&quot;order_gk&quot;: 8}, &quot;type&quot;: &quot;Feature&quot;}, {&quot;geometry&quot;: {&quot;coordinates&quot;: [[[-0.905949, 51.452294], [-0.912678, 51.451049], [-0.913847, 51.446549], [-0.908288, 51.443294], [-0.90156, 51.444539], [-0.90039, 51.449039], [-0.905949, 51.452294]]], &quot;type&quot;: &quot;Polygon&quot;}, &quot;id&quot;: &quot;88195d2a07fffff&quot;, &quot;properties&quot;: {&quot;order_gk&quot;: 8}, &quot;type&quot;: &quot;Feature&quot;}, {&quot;geometry&quot;: {&quot;coordinates&quot;: [[[-0.978812, 51.443079], [-0.985543, 51.441829], [-0.986707, 51.437327], [-0.981141, 51.434074], [-0.974411, 51.435324], [-0.973246, 51.439826], [-0.978812, 51.443079]]], &quot;type&quot;: &quot;Polygon&quot;}, &quot;id&quot;: &quot;88195d286dfffff&quot;, &quot;properties&quot;: {&quot;order_gk&quot;: 10}, &quot;type&quot;: &quot;Feature&quot;}, {&quot;geometry&quot;: {&quot;coordinates&quot;: [[[-1.044737, 51.460837], [-1.051472, 51.459584], [-1.052631, 51.45508], [-1.047057, 51.45183], [-1.040323, 51.453083], [-1.039162, 51.457586], [-1.044737, 51.460837]]], &quot;type&quot;: &quot;Polygon&quot;}, &quot;id&quot;: &quot;88195d7493fffff&quot;, &quot;properties&quot;: {&quot;order_gk&quot;: 10}, &quot;type&quot;: &quot;Feature&quot;}, {&quot;geometry&quot;: {&quot;coordinates&quot;: [[[-1.035911, 51.445328], [-1.042644, 51.444075], [-1.043804, 51.439571], [-1.038232, 51.43632], [-1.0315, 51.437573], [-1.030339, 51.442077], [-1.035911, 51.445328]]], &quot;type&quot;: &quot;Polygon&quot;}, &quot;id&quot;: &quot;88195d2947fffff&quot;, &quot;properties&quot;: {&quot;order_gk&quot;: 10}, &quot;type&quot;: &quot;Feature&quot;}, {&quot;geometry&quot;: {&quot;coordinates&quot;: [[[-1.004328, 51.468345], [-1.011062, 51.467095], [-1.012225, 51.462593], [-1.006654, 51.459341], [-0.99992, 51.460591], [-0.998757, 51.465093], [-1.004328, 51.468345]]], &quot;type&quot;: &quot;Polygon&quot;}, &quot;id&quot;: &quot;88195d2b2bfffff&quot;, &quot;properties&quot;: {&quot;order_gk&quot;: 11}, &quot;type&quot;: &quot;Feature&quot;}, {&quot;geometry&quot;: {&quot;coordinates&quot;: [[[-1.016634, 51.470346], [-1.02337, 51.469095], [-1.024532, 51.464593], [-1.018959, 51.461342], [-1.012225, 51.462593], [-1.011062, 51.467095], [-1.016634, 51.470346]]], &quot;type&quot;: &quot;Polygon&quot;}, &quot;id&quot;: &quot;88195d2b21fffff&quot;, &quot;properties&quot;: {&quot;order_gk&quot;: 12}, &quot;type&quot;: &quot;Feature&quot;}, {&quot;geometry&quot;: {&quot;coordinates&quot;: [[[-0.94372, 51.479576], [-0.950454, 51.47833], [-0.951621, 51.47383], [-0.946055, 51.470576], [-0.939322, 51.471822], [-0.938154, 51.476322], [-0.94372, 51.479576]]], &quot;type&quot;: &quot;Polygon&quot;}, &quot;id&quot;: &quot;88195d2b59fffff&quot;, &quot;properties&quot;: {&quot;order_gk&quot;: 12}, &quot;type&quot;: &quot;Feature&quot;}, {&quot;geometry&quot;: {&quot;coordinates&quot;: [[[-0.960422, 51.489336], [-0.967158, 51.48809], [-0.968324, 51.48359], [-0.962755, 51.480336], [-0.956021, 51.481583], [-0.954854, 51.486083], [-0.960422, 51.489336]]], &quot;type&quot;: &quot;Polygon&quot;}, &quot;id&quot;: &quot;88195d2b4bfffff&quot;, &quot;properties&quot;: {&quot;order_gk&quot;: 13}, &quot;type&quot;: &quot;Feature&quot;}, {&quot;geometry&quot;: {&quot;coordinates&quot;: [[[-0.945431, 51.423558], [-0.952158, 51.42231], [-0.953324, 51.417807], [-0.947764, 51.414553], [-0.941037, 51.415802], [-0.939871, 51.420304], [-0.945431, 51.423558]]], &quot;type&quot;: &quot;Polygon&quot;}, &quot;id&quot;: &quot;88195d2809fffff&quot;, &quot;properties&quot;: {&quot;order_gk&quot;: 13}, &quot;type&quot;: &quot;Feature&quot;}, {&quot;geometry&quot;: {&quot;coordinates&quot;: [[[-0.884888, 51.434771], [-0.891615, 51.433527], [-0.892785, 51.429027], [-0.88723, 51.425771], [-0.880504, 51.427015], [-0.879333, 51.431515], [-0.884888, 51.434771]]], &quot;type&quot;: &quot;Polygon&quot;}, &quot;id&quot;: &quot;88195d2a17fffff&quot;, &quot;properties&quot;: {&quot;order_gk&quot;: 14}, &quot;type&quot;: &quot;Feature&quot;}, {&quot;geometry&quot;: {&quot;coordinates&quot;: [[[-0.889274, 51.442527], [-0.896002, 51.441283], [-0.897172, 51.436783], [-0.891615, 51.433527], [-0.884888, 51.434771], [-0.883718, 51.439271], [-0.889274, 51.442527]]], &quot;type&quot;: &quot;Polygon&quot;}, &quot;id&quot;: &quot;88195d2a15fffff&quot;, &quot;properties&quot;: {&quot;order_gk&quot;: 14}, &quot;type&quot;: &quot;Feature&quot;}, {&quot;geometry&quot;: {&quot;coordinates&quot;: [[[-0.911222, 51.4813], [-0.917955, 51.480056], [-0.919124, 51.475557], [-0.913561, 51.472302], [-0.906829, 51.473546], [-0.905659, 51.478045], [-0.911222, 51.4813]]], &quot;type&quot;: &quot;Polygon&quot;}, &quot;id&quot;: &quot;88195d2a69fffff&quot;, &quot;properties&quot;: {&quot;order_gk&quot;: 14}, &quot;type&quot;: &quot;Feature&quot;}, {&quot;geometry&quot;: {&quot;coordinates&quot;: [[[-1.020121, 51.456839], [-1.026855, 51.455587], [-1.028017, 51.451084], [-1.022445, 51.447833], [-1.015712, 51.449085], [-1.01455, 51.453588], [-1.020121, 51.456839]]], &quot;type&quot;: &quot;Polygon&quot;}, &quot;id&quot;: &quot;88195d2949fffff&quot;, &quot;properties&quot;: {&quot;order_gk&quot;: 15}, &quot;type&quot;: &quot;Feature&quot;}, {&quot;geometry&quot;: {&quot;coordinates&quot;: [[[-1.032428, 51.458838], [-1.039162, 51.457586], [-1.040323, 51.453083], [-1.03475, 51.449832], [-1.028017, 51.451084], [-1.026855, 51.455587], [-1.032428, 51.458838]]], &quot;type&quot;: &quot;Polygon&quot;}, &quot;id&quot;: &quot;88195d294dfffff&quot;, &quot;properties&quot;: {&quot;order_gk&quot;: 15}, &quot;type&quot;: &quot;Feature&quot;}, {&quot;geometry&quot;: {&quot;coordinates&quot;: [[[-1.008736, 51.476098], [-1.015472, 51.474848], [-1.016634, 51.470346], [-1.011062, 51.467095], [-1.004328, 51.468345], [-1.003164, 51.472847], [-1.008736, 51.476098]]], &quot;type&quot;: &quot;Polygon&quot;}, &quot;id&quot;: &quot;88195d2b29fffff&quot;, &quot;properties&quot;: {&quot;order_gk&quot;: 16}, &quot;type&quot;: &quot;Feature&quot;}, {&quot;geometry&quot;: {&quot;coordinates&quot;: [[[-0.90156, 51.444539], [-0.908288, 51.443294], [-0.909457, 51.438794], [-0.903899, 51.435538], [-0.897172, 51.436783], [-0.896002, 51.441283], [-0.90156, 51.444539]]], &quot;type&quot;: &quot;Polygon&quot;}, &quot;id&quot;: &quot;88195d2a39fffff&quot;, &quot;properties&quot;: {&quot;order_gk&quot;: 16}, &quot;type&quot;: &quot;Feature&quot;}, {&quot;geometry&quot;: {&quot;coordinates&quot;: [[[-0.969108, 51.406302], [-0.975834, 51.405052], [-0.976998, 51.400548], [-0.971436, 51.397294], [-0.964711, 51.398545], [-0.963546, 51.403049], [-0.969108, 51.406302]]], &quot;type&quot;: &quot;Polygon&quot;}, &quot;id&quot;: &quot;88195d283dfffff&quot;, &quot;properties&quot;: {&quot;order_gk&quot;: 16}, &quot;type&quot;: &quot;Feature&quot;}, {&quot;geometry&quot;: {&quot;coordinates&quot;: [[[-0.994601, 51.431573], [-1.00133, 51.430322], [-1.002493, 51.425819], [-0.996927, 51.422567], [-0.990198, 51.423818], [-0.989034, 51.428321], [-0.994601, 51.431573]]], &quot;type&quot;: &quot;Polygon&quot;}, &quot;id&quot;: &quot;88195d295bfffff&quot;, &quot;properties&quot;: {&quot;order_gk&quot;: 16}, &quot;type&quot;: &quot;Feature&quot;}, {&quot;geometry&quot;: {&quot;coordinates&quot;: [[[-1.048217, 51.447326], [-1.054951, 51.446072], [-1.05611, 51.441568], [-1.050536, 51.438317], [-1.043804, 51.439571], [-1.042644, 51.444075], [-1.048217, 51.447326]]], &quot;type&quot;: &quot;Polygon&quot;}, &quot;id&quot;: &quot;88195d296bfffff&quot;, &quot;properties&quot;: {&quot;order_gk&quot;: 16}, &quot;type&quot;: &quot;Feature&quot;}, {&quot;geometry&quot;: {&quot;coordinates&quot;: [[[-0.953324, 51.417807], [-0.960051, 51.416558], [-0.961216, 51.412055], [-0.955656, 51.408801], [-0.94893, 51.41005], [-0.947764, 51.414553], [-0.953324, 51.417807]]], &quot;type&quot;: &quot;Polygon&quot;}, &quot;id&quot;: &quot;88195d2801fffff&quot;, &quot;properties&quot;: {&quot;order_gk&quot;: 19}, &quot;type&quot;: &quot;Feature&quot;}, {&quot;geometry&quot;: {&quot;coordinates&quot;: [[[-1.028017, 51.451084], [-1.03475, 51.449832], [-1.035911, 51.445328], [-1.030339, 51.442077], [-1.023607, 51.44333], [-1.022445, 51.447833], [-1.028017, 51.451084]]], &quot;type&quot;: &quot;Polygon&quot;}, &quot;id&quot;: &quot;88195d2941fffff&quot;, &quot;properties&quot;: {&quot;order_gk&quot;: 19}, &quot;type&quot;: &quot;Feature&quot;}, {&quot;geometry&quot;: {&quot;coordinates&quot;: [[[-1.023607, 51.44333], [-1.030339, 51.442077], [-1.0315, 51.437573], [-1.025929, 51.434322], [-1.019198, 51.435575], [-1.018036, 51.440078], [-1.023607, 51.44333]]], &quot;type&quot;: &quot;Polygon&quot;}, &quot;id&quot;: &quot;88195d2943fffff&quot;, &quot;properties&quot;: {&quot;order_gk&quot;: 20}, &quot;type&quot;: &quot;Feature&quot;}, {&quot;geometry&quot;: {&quot;coordinates&quot;: [[[-0.968324, 51.48359], [-0.975059, 51.482342], [-0.976224, 51.477842], [-0.970656, 51.474589], [-0.963922, 51.475836], [-0.962755, 51.480336], [-0.968324, 51.48359]]], &quot;type&quot;: &quot;Polygon&quot;}, &quot;id&quot;: &quot;88195d2b43fffff&quot;, &quot;properties&quot;: {&quot;order_gk&quot;: 20}, &quot;type&quot;: &quot;Feature&quot;}, {&quot;geometry&quot;: {&quot;coordinates&quot;: [[[-1.007817, 51.454838], [-1.01455, 51.453588], [-1.015712, 51.449085], [-1.010142, 51.445833], [-1.00341, 51.447084], [-1.002247, 51.451587], [-1.007817, 51.454838]]], &quot;type&quot;: &quot;Polygon&quot;}, &quot;id&quot;: &quot;88195d2b35fffff&quot;, &quot;properties&quot;: {&quot;order_gk&quot;: 20}, &quot;type&quot;: &quot;Feature&quot;}, {&quot;geometry&quot;: {&quot;coordinates&quot;: [[[-0.917354, 51.433047], [-0.924081, 51.431801], [-0.925249, 51.4273], [-0.919691, 51.424045], [-0.912964, 51.425291], [-0.911795, 51.429792], [-0.917354, 51.433047]]], &quot;type&quot;: &quot;Polygon&quot;}, &quot;id&quot;: &quot;88195d2a37fffff&quot;, &quot;properties&quot;: {&quot;order_gk&quot;: 20}, &quot;type&quot;: &quot;Feature&quot;}, {&quot;geometry&quot;: {&quot;coordinates&quot;: [[[-0.948119, 51.487329], [-0.954854, 51.486083], [-0.956021, 51.481583], [-0.950454, 51.47833], [-0.94372, 51.479576], [-0.942552, 51.484075], [-0.948119, 51.487329]]], &quot;type&quot;: &quot;Polygon&quot;}, &quot;id&quot;: &quot;88195d39b7fffff&quot;, &quot;properties&quot;: {&quot;order_gk&quot;: 21}, &quot;type&quot;: &quot;Feature&quot;}, {&quot;geometry&quot;: {&quot;coordinates&quot;: [[[-0.99111, 51.445082], [-0.997841, 51.443832], [-0.999005, 51.439329], [-0.993437, 51.436077], [-0.986707, 51.437327], [-0.985543, 51.441829], [-0.99111, 51.445082]]], &quot;type&quot;: &quot;Polygon&quot;}, &quot;id&quot;: &quot;88195d2b33fffff&quot;, &quot;properties&quot;: {&quot;order_gk&quot;: 21}, &quot;type&quot;: &quot;Feature&quot;}, {&quot;geometry&quot;: {&quot;coordinates&quot;: [[[-1.00341, 51.447084], [-1.010142, 51.445833], [-1.011305, 51.44133], [-1.005736, 51.438078], [-0.999005, 51.439329], [-0.997841, 51.443832], [-1.00341, 51.447084]]], &quot;type&quot;: &quot;Polygon&quot;}, &quot;id&quot;: &quot;88195d2b37fffff&quot;, &quot;properties&quot;: {&quot;order_gk&quot;: 22}, &quot;type&quot;: &quot;Feature&quot;}, {&quot;geometry&quot;: {&quot;coordinates&quot;: [[[-1.015712, 51.449085], [-1.022445, 51.447833], [-1.023607, 51.44333], [-1.018036, 51.440078], [-1.011305, 51.44133], [-1.010142, 51.445833], [-1.015712, 51.449085]]], &quot;type&quot;: &quot;Polygon&quot;}, &quot;id&quot;: &quot;88195d294bfffff&quot;, &quot;properties&quot;: {&quot;order_gk&quot;: 25}, &quot;type&quot;: &quot;Feature&quot;}, {&quot;geometry&quot;: {&quot;coordinates&quot;: [[[-0.980629, 51.485595], [-0.987365, 51.484347], [-0.98853, 51.479846], [-0.982959, 51.476594], [-0.976224, 51.477842], [-0.975059, 51.482342], [-0.980629, 51.485595]]], &quot;type&quot;: &quot;Polygon&quot;}, &quot;id&quot;: &quot;88195d2b47fffff&quot;, &quot;properties&quot;: {&quot;order_gk&quot;: 25}, &quot;type&quot;: &quot;Feature&quot;}, {&quot;geometry&quot;: {&quot;coordinates&quot;: [[[-0.934926, 51.464068], [-0.941657, 51.462822], [-0.942825, 51.458321], [-0.937261, 51.455067], [-0.930531, 51.456313], [-0.929362, 51.460814], [-0.934926, 51.464068]]], &quot;type&quot;: &quot;Polygon&quot;}, &quot;id&quot;: &quot;88195d2a2dfffff&quot;, &quot;properties&quot;: {&quot;order_gk&quot;: 26}, &quot;type&quot;: &quot;Feature&quot;}, {&quot;geometry&quot;: {&quot;coordinates&quot;: [[[-0.962117, 51.433319], [-0.968847, 51.432071], [-0.970012, 51.427568], [-0.964448, 51.424315], [-0.95772, 51.425564], [-0.956554, 51.430066], [-0.962117, 51.433319]]], &quot;type&quot;: &quot;Polygon&quot;}, &quot;id&quot;: &quot;88195d286bfffff&quot;, &quot;properties&quot;: {&quot;order_gk&quot;: 27}, &quot;type&quot;: &quot;Feature&quot;}, {&quot;geometry&quot;: {&quot;coordinates&quot;: [[[-0.977904, 51.421815], [-0.984633, 51.420565], [-0.985796, 51.416061], [-0.980233, 51.412808], [-0.973505, 51.414059], [-0.972341, 51.418562], [-0.977904, 51.421815]]], &quot;type&quot;: &quot;Polygon&quot;}, &quot;id&quot;: &quot;88195d2829fffff&quot;, &quot;properties&quot;: {&quot;order_gk&quot;: 28}, &quot;type&quot;: &quot;Feature&quot;}, {&quot;geometry&quot;: {&quot;coordinates&quot;: [[[-0.925249, 51.4273], [-0.931976, 51.426053], [-0.933144, 51.421551], [-0.927585, 51.418297], [-0.920859, 51.419544], [-0.919691, 51.424045], [-0.925249, 51.4273]]], &quot;type&quot;: &quot;Polygon&quot;}, &quot;id&quot;: &quot;88195d285dfffff&quot;, &quot;properties&quot;: {&quot;order_gk&quot;: 29}, &quot;type&quot;: &quot;Feature&quot;}, {&quot;geometry&quot;: {&quot;coordinates&quot;: [[[-0.984124, 51.472093], [-0.990859, 51.470844], [-0.992023, 51.466343], [-0.986453, 51.46309], [-0.97972, 51.464339], [-0.978555, 51.46884], [-0.984124, 51.472093]]], &quot;type&quot;: &quot;Polygon&quot;}, &quot;id&quot;: &quot;88195d2b01fffff&quot;, &quot;properties&quot;: {&quot;order_gk&quot;: 32}, &quot;type&quot;: &quot;Feature&quot;}, {&quot;geometry&quot;: {&quot;coordinates&quot;: [[[-0.934034, 51.442812], [-0.940764, 51.441565], [-0.941931, 51.437063], [-0.936369, 51.433809], [-0.929641, 51.435056], [-0.928473, 51.439557], [-0.934034, 51.442812]]], &quot;type&quot;: &quot;Polygon&quot;}, &quot;id&quot;: &quot;88195d2849fffff&quot;, &quot;properties&quot;: {&quot;order_gk&quot;: 32}, &quot;type&quot;: &quot;Feature&quot;}, {&quot;geometry&quot;: {&quot;coordinates&quot;: [[[-0.913847, 51.446549], [-0.920576, 51.445304], [-0.921745, 51.440803], [-0.916185, 51.437548], [-0.909457, 51.438794], [-0.908288, 51.443294], [-0.913847, 51.446549]]], &quot;type&quot;: &quot;Polygon&quot;}, &quot;id&quot;: &quot;88195d2a3dfffff&quot;, &quot;properties&quot;: {&quot;order_gk&quot;: 32}, &quot;type&quot;: &quot;Feature&quot;}, {&quot;geometry&quot;: {&quot;coordinates&quot;: [[[-1.012225, 51.462593], [-1.018959, 51.461342], [-1.020121, 51.456839], [-1.01455, 51.453588], [-1.007817, 51.454838], [-1.006654, 51.459341], [-1.012225, 51.462593]]], &quot;type&quot;: &quot;Polygon&quot;}, &quot;id&quot;: &quot;88195d2b23fffff&quot;, &quot;properties&quot;: {&quot;order_gk&quot;: 34}, &quot;type&quot;: &quot;Feature&quot;}, {&quot;geometry&quot;: {&quot;coordinates&quot;: [[[-0.918239, 51.454304], [-0.924969, 51.453059], [-0.926137, 51.448559], [-0.920576, 51.445304], [-0.913847, 51.446549], [-0.912678, 51.451049], [-0.918239, 51.454304]]], &quot;type&quot;: &quot;Polygon&quot;}, &quot;id&quot;: &quot;88195d2a2bfffff&quot;, &quot;properties&quot;: {&quot;order_gk&quot;: 35}, &quot;type&quot;: &quot;Feature&quot;}, {&quot;geometry&quot;: {&quot;coordinates&quot;: [[[-0.95772, 51.425564], [-0.964448, 51.424315], [-0.965613, 51.419812], [-0.960051, 51.416558], [-0.953324, 51.417807], [-0.952158, 51.42231], [-0.95772, 51.425564]]], &quot;type&quot;: &quot;Polygon&quot;}, &quot;id&quot;: &quot;88195d280dfffff&quot;, &quot;properties&quot;: {&quot;order_gk&quot;: 36}, &quot;type&quot;: &quot;Feature&quot;}, {&quot;geometry&quot;: {&quot;coordinates&quot;: [[[-0.970012, 51.427568], [-0.97674, 51.426318], [-0.977904, 51.421815], [-0.972341, 51.418562], [-0.965613, 51.419812], [-0.964448, 51.424315], [-0.970012, 51.427568]]], &quot;type&quot;: &quot;Polygon&quot;}, &quot;id&quot;: &quot;88195d2863fffff&quot;, &quot;properties&quot;: {&quot;order_gk&quot;: 41}, &quot;type&quot;: &quot;Feature&quot;}, {&quot;geometry&quot;: {&quot;coordinates&quot;: [[[-0.992023, 51.466343], [-0.998757, 51.465093], [-0.99992, 51.460591], [-0.994351, 51.457339], [-0.987618, 51.458588], [-0.986453, 51.46309], [-0.992023, 51.466343]]], &quot;type&quot;: &quot;Polygon&quot;}, &quot;id&quot;: &quot;88195d2b07fffff&quot;, &quot;properties&quot;: {&quot;order_gk&quot;: 42}, &quot;type&quot;: &quot;Feature&quot;}, {&quot;geometry&quot;: {&quot;coordinates&quot;: [[[-0.982305, 51.429571], [-0.989034, 51.428321], [-0.990198, 51.423818], [-0.984633, 51.420565], [-0.977904, 51.421815], [-0.97674, 51.426318], [-0.982305, 51.429571]]], &quot;type&quot;: &quot;Polygon&quot;}, &quot;id&quot;: &quot;88195d2867fffff&quot;, &quot;properties&quot;: {&quot;order_gk&quot;: 44}, &quot;type&quot;: &quot;Feature&quot;}, {&quot;geometry&quot;: {&quot;coordinates&quot;: [[[-0.921745, 51.440803], [-0.928473, 51.439557], [-0.929641, 51.435056], [-0.924081, 51.431801], [-0.917354, 51.433047], [-0.916185, 51.437548], [-0.921745, 51.440803]]], &quot;type&quot;: &quot;Polygon&quot;}, &quot;id&quot;: &quot;88195d2a35fffff&quot;, &quot;properties&quot;: {&quot;order_gk&quot;: 44}, &quot;type&quot;: &quot;Feature&quot;}, {&quot;geometry&quot;: {&quot;coordinates&quot;: [[[-0.990198, 51.423818], [-0.996927, 51.422567], [-0.99809, 51.418063], [-0.992524, 51.41481], [-0.985796, 51.416061], [-0.984633, 51.420565], [-0.990198, 51.423818]]], &quot;type&quot;: &quot;Polygon&quot;}, &quot;id&quot;: &quot;88195d282dfffff&quot;, &quot;properties&quot;: {&quot;order_gk&quot;: 45}, &quot;type&quot;: &quot;Feature&quot;}, {&quot;geometry&quot;: {&quot;coordinates&quot;: [[[-0.98853, 51.479846], [-0.995265, 51.478597], [-0.996429, 51.474096], [-0.990859, 51.470844], [-0.984124, 51.472093], [-0.982959, 51.476594], [-0.98853, 51.479846]]], &quot;type&quot;: &quot;Polygon&quot;}, &quot;id&quot;: &quot;88195d2b0dfffff&quot;, &quot;properties&quot;: {&quot;order_gk&quot;: 52}, &quot;type&quot;: &quot;Feature&quot;}, {&quot;geometry&quot;: {&quot;coordinates&quot;: [[[-0.976224, 51.477842], [-0.982959, 51.476594], [-0.984124, 51.472093], [-0.978555, 51.46884], [-0.971821, 51.470088], [-0.970656, 51.474589], [-0.976224, 51.477842]]], &quot;type&quot;: &quot;Polygon&quot;}, &quot;id&quot;: &quot;88195d2b09fffff&quot;, &quot;properties&quot;: {&quot;order_gk&quot;: 53}, &quot;type&quot;: &quot;Feature&quot;}, {&quot;geometry&quot;: {&quot;coordinates&quot;: [[[-0.941931, 51.437063], [-0.94866, 51.435816], [-0.949826, 51.431314], [-0.944264, 51.42806], [-0.937537, 51.429308], [-0.936369, 51.433809], [-0.941931, 51.437063]]], &quot;type&quot;: &quot;Polygon&quot;}, &quot;id&quot;: &quot;88195d2841fffff&quot;, &quot;properties&quot;: {&quot;order_gk&quot;: 53}, &quot;type&quot;: &quot;Feature&quot;}, {&quot;geometry&quot;: {&quot;coordinates&quot;: [[[-0.937537, 51.429308], [-0.944264, 51.42806], [-0.945431, 51.423558], [-0.939871, 51.420304], [-0.933144, 51.421551], [-0.931976, 51.426053], [-0.937537, 51.429308]]], &quot;type&quot;: &quot;Polygon&quot;}, &quot;id&quot;: &quot;88195d2843fffff&quot;, &quot;properties&quot;: {&quot;order_gk&quot;: 55}, &quot;type&quot;: &quot;Feature&quot;}, {&quot;geometry&quot;: {&quot;coordinates&quot;: [[[-0.963922, 51.475836], [-0.970656, 51.474589], [-0.971821, 51.470088], [-0.966254, 51.466835], [-0.959521, 51.468083], [-0.958354, 51.472583], [-0.963922, 51.475836]]], &quot;type&quot;: &quot;Polygon&quot;}, &quot;id&quot;: &quot;88195d2b55fffff&quot;, &quot;properties&quot;: {&quot;order_gk&quot;: 56}, &quot;type&quot;: &quot;Feature&quot;}, {&quot;geometry&quot;: {&quot;coordinates&quot;: [[[-0.949826, 51.431314], [-0.956554, 51.430066], [-0.95772, 51.425564], [-0.952158, 51.42231], [-0.945431, 51.423558], [-0.944264, 51.42806], [-0.949826, 51.431314]]], &quot;type&quot;: &quot;Polygon&quot;}, &quot;id&quot;: &quot;88195d2847fffff&quot;, &quot;properties&quot;: {&quot;order_gk&quot;: 57}, &quot;type&quot;: &quot;Feature&quot;}, {&quot;geometry&quot;: {&quot;coordinates&quot;: [[[-0.954222, 51.43907], [-0.960952, 51.437822], [-0.962117, 51.433319], [-0.956554, 51.430066], [-0.949826, 51.431314], [-0.94866, 51.435816], [-0.954222, 51.43907]]], &quot;type&quot;: &quot;Polygon&quot;}, &quot;id&quot;: &quot;88195d2845fffff&quot;, &quot;properties&quot;: {&quot;order_gk&quot;: 59}, &quot;type&quot;: &quot;Feature&quot;}, {&quot;geometry&quot;: {&quot;coordinates&quot;: [[[-0.926137, 51.448559], [-0.932867, 51.447312], [-0.934034, 51.442812], [-0.928473, 51.439557], [-0.921745, 51.440803], [-0.920576, 51.445304], [-0.926137, 51.448559]]], &quot;type&quot;: &quot;Polygon&quot;}, &quot;id&quot;: &quot;88195d2a23fffff&quot;, &quot;properties&quot;: {&quot;order_gk&quot;: 59}, &quot;type&quot;: &quot;Feature&quot;}, {&quot;geometry&quot;: {&quot;coordinates&quot;: [[[-0.959521, 51.468083], [-0.966254, 51.466835], [-0.96742, 51.462334], [-0.961853, 51.459081], [-0.955121, 51.460328], [-0.953955, 51.464829], [-0.959521, 51.468083]]], &quot;type&quot;: &quot;Polygon&quot;}, &quot;id&quot;: &quot;88195d2b57fffff&quot;, &quot;properties&quot;: {&quot;order_gk&quot;: 66}, &quot;type&quot;: &quot;Feature&quot;}, {&quot;geometry&quot;: {&quot;coordinates&quot;: [[[-0.951621, 51.47383], [-0.958354, 51.472583], [-0.959521, 51.468083], [-0.953955, 51.464829], [-0.947222, 51.466076], [-0.946055, 51.470576], [-0.951621, 51.47383]]], &quot;type&quot;: &quot;Polygon&quot;}, &quot;id&quot;: &quot;88195d2b51fffff&quot;, &quot;properties&quot;: {&quot;order_gk&quot;: 68}, &quot;type&quot;: &quot;Feature&quot;}, {&quot;geometry&quot;: {&quot;coordinates&quot;: [[[-0.966516, 51.441075], [-0.973246, 51.439826], [-0.974411, 51.435324], [-0.968847, 51.432071], [-0.962117, 51.433319], [-0.960952, 51.437822], [-0.966516, 51.441075]]], &quot;type&quot;: &quot;Polygon&quot;}, &quot;id&quot;: &quot;88195d2869fffff&quot;, &quot;properties&quot;: {&quot;order_gk&quot;: 81}, &quot;type&quot;: &quot;Feature&quot;}, {&quot;geometry&quot;: {&quot;coordinates&quot;: [[[-0.983214, 51.450834], [-0.989946, 51.449584], [-0.99111, 51.445082], [-0.985543, 51.441829], [-0.978812, 51.443079], [-0.977647, 51.447581], [-0.983214, 51.450834]]], &quot;type&quot;: &quot;Polygon&quot;}, &quot;id&quot;: &quot;88195d2b3bfffff&quot;, &quot;properties&quot;: {&quot;order_gk&quot;: 81}, &quot;type&quot;: &quot;Feature&quot;}, {&quot;geometry&quot;: {&quot;coordinates&quot;: [[[-0.99992, 51.460591], [-1.006654, 51.459341], [-1.007817, 51.454838], [-1.002247, 51.451587], [-0.995514, 51.452837], [-0.994351, 51.457339], [-0.99992, 51.460591]]], &quot;type&quot;: &quot;Polygon&quot;}, &quot;id&quot;: &quot;88195d2b3dfffff&quot;, &quot;properties&quot;: {&quot;order_gk&quot;: 101}, &quot;type&quot;: &quot;Feature&quot;}, {&quot;geometry&quot;: {&quot;coordinates&quot;: [[[-0.995514, 51.452837], [-1.002247, 51.451587], [-1.00341, 51.447084], [-0.997841, 51.443832], [-0.99111, 51.445082], [-0.989946, 51.449584], [-0.995514, 51.452837]]], &quot;type&quot;: &quot;Polygon&quot;}, &quot;id&quot;: &quot;88195d2b31fffff&quot;, &quot;properties&quot;: {&quot;order_gk&quot;: 109}, &quot;type&quot;: &quot;Feature&quot;}, {&quot;geometry&quot;: {&quot;coordinates&quot;: [[[-0.930531, 51.456313], [-0.937261, 51.455067], [-0.938429, 51.450567], [-0.932867, 51.447312], [-0.926137, 51.448559], [-0.924969, 51.453059], [-0.930531, 51.456313]]], &quot;type&quot;: &quot;Polygon&quot;}, &quot;id&quot;: &quot;88195d2a21fffff&quot;, &quot;properties&quot;: {&quot;order_gk&quot;: 116}, &quot;type&quot;: &quot;Feature&quot;}, {&quot;geometry&quot;: {&quot;coordinates&quot;: [[[-0.987618, 51.458588], [-0.994351, 51.457339], [-0.995514, 51.452837], [-0.989946, 51.449584], [-0.983214, 51.450834], [-0.98205, 51.455336], [-0.987618, 51.458588]]], &quot;type&quot;: &quot;Polygon&quot;}, &quot;id&quot;: &quot;88195d2b39fffff&quot;, &quot;properties&quot;: {&quot;order_gk&quot;: 133}, &quot;type&quot;: &quot;Feature&quot;}, {&quot;geometry&quot;: {&quot;coordinates&quot;: [[[-0.974411, 51.435324], [-0.981141, 51.434074], [-0.982305, 51.429571], [-0.97674, 51.426318], [-0.970012, 51.427568], [-0.968847, 51.432071], [-0.974411, 51.435324]]], &quot;type&quot;: &quot;Polygon&quot;}, &quot;id&quot;: &quot;88195d2861fffff&quot;, &quot;properties&quot;: {&quot;order_gk&quot;: 140}, &quot;type&quot;: &quot;Feature&quot;}, {&quot;geometry&quot;: {&quot;coordinates&quot;: [[[-0.970916, 51.44883], [-0.977647, 51.447581], [-0.978812, 51.443079], [-0.973246, 51.439826], [-0.966516, 51.441075], [-0.965351, 51.445577], [-0.970916, 51.44883]]], &quot;type&quot;: &quot;Polygon&quot;}, &quot;id&quot;: &quot;88195d2b17fffff&quot;, &quot;properties&quot;: {&quot;order_gk&quot;: 141}, &quot;type&quot;: &quot;Feature&quot;}, {&quot;geometry&quot;: {&quot;coordinates&quot;: [[[-0.97972, 51.464339], [-0.986453, 51.46309], [-0.987618, 51.458588], [-0.98205, 51.455336], [-0.975317, 51.456585], [-0.974152, 51.461086], [-0.97972, 51.464339]]], &quot;type&quot;: &quot;Polygon&quot;}, &quot;id&quot;: &quot;88195d2b03fffff&quot;, &quot;properties&quot;: {&quot;order_gk&quot;: 185}, &quot;type&quot;: &quot;Feature&quot;}, {&quot;geometry&quot;: {&quot;coordinates&quot;: [[[-0.971821, 51.470088], [-0.978555, 51.46884], [-0.97972, 51.464339], [-0.974152, 51.461086], [-0.96742, 51.462334], [-0.966254, 51.466835], [-0.971821, 51.470088]]], &quot;type&quot;: &quot;Polygon&quot;}, &quot;id&quot;: &quot;88195d2b0bfffff&quot;, &quot;properties&quot;: {&quot;order_gk&quot;: 227}, &quot;type&quot;: &quot;Feature&quot;}, {&quot;geometry&quot;: {&quot;coordinates&quot;: [[[-0.95862, 51.446825], [-0.965351, 51.445577], [-0.966516, 51.441075], [-0.960952, 51.437822], [-0.954222, 51.43907], [-0.953056, 51.443571], [-0.95862, 51.446825]]], &quot;type&quot;: &quot;Polygon&quot;}, &quot;id&quot;: &quot;88195d2b13fffff&quot;, &quot;properties&quot;: {&quot;order_gk&quot;: 237}, &quot;type&quot;: &quot;Feature&quot;}, {&quot;geometry&quot;: {&quot;coordinates&quot;: [[[-0.942825, 51.458321], [-0.949556, 51.457075], [-0.950723, 51.452574], [-0.945159, 51.44932], [-0.938429, 51.450567], [-0.937261, 51.455067], [-0.942825, 51.458321]]], &quot;type&quot;: &quot;Polygon&quot;}, &quot;id&quot;: &quot;88195d2a25fffff&quot;, &quot;properties&quot;: {&quot;order_gk&quot;: 261}, &quot;type&quot;: &quot;Feature&quot;}, {&quot;geometry&quot;: {&quot;coordinates&quot;: [[[-0.938429, 51.450567], [-0.945159, 51.44932], [-0.946326, 51.444819], [-0.940764, 51.441565], [-0.934034, 51.442812], [-0.932867, 51.447312], [-0.938429, 51.450567]]], &quot;type&quot;: &quot;Polygon&quot;}, &quot;id&quot;: &quot;88195d2a27fffff&quot;, &quot;properties&quot;: {&quot;order_gk&quot;: 306}, &quot;type&quot;: &quot;Feature&quot;}, {&quot;geometry&quot;: {&quot;coordinates&quot;: [[[-0.955121, 51.460328], [-0.961853, 51.459081], [-0.963019, 51.45458], [-0.957454, 51.451326], [-0.950723, 51.452574], [-0.949556, 51.457075], [-0.955121, 51.460328]]], &quot;type&quot;: &quot;Polygon&quot;}, &quot;id&quot;: &quot;88195d2b19fffff&quot;, &quot;properties&quot;: {&quot;order_gk&quot;: 467}, &quot;type&quot;: &quot;Feature&quot;}, {&quot;geometry&quot;: {&quot;coordinates&quot;: [[[-0.946326, 51.444819], [-0.953056, 51.443571], [-0.954222, 51.43907], [-0.94866, 51.435816], [-0.941931, 51.437063], [-0.940764, 51.441565], [-0.946326, 51.444819]]], &quot;type&quot;: &quot;Polygon&quot;}, &quot;id&quot;: &quot;88195d284dfffff&quot;, &quot;properties&quot;: {&quot;order_gk&quot;: 479}, &quot;type&quot;: &quot;Feature&quot;}, {&quot;geometry&quot;: {&quot;coordinates&quot;: [[[-0.963019, 51.45458], [-0.969751, 51.453332], [-0.970916, 51.44883], [-0.965351, 51.445577], [-0.95862, 51.446825], [-0.957454, 51.451326], [-0.963019, 51.45458]]], &quot;type&quot;: &quot;Polygon&quot;}, &quot;id&quot;: &quot;88195d2b11fffff&quot;, &quot;properties&quot;: {&quot;order_gk&quot;: 495}, &quot;type&quot;: &quot;Feature&quot;}, {&quot;geometry&quot;: {&quot;coordinates&quot;: [[[-0.975317, 51.456585], [-0.98205, 51.455336], [-0.983214, 51.450834], [-0.977647, 51.447581], [-0.970916, 51.44883], [-0.969751, 51.453332], [-0.975317, 51.456585]]], &quot;type&quot;: &quot;Polygon&quot;}, &quot;id&quot;: &quot;88195d2b15fffff&quot;, &quot;properties&quot;: {&quot;order_gk&quot;: 583}, &quot;type&quot;: &quot;Feature&quot;}, {&quot;geometry&quot;: {&quot;coordinates&quot;: [[[-0.950723, 51.452574], [-0.957454, 51.451326], [-0.95862, 51.446825], [-0.953056, 51.443571], [-0.946326, 51.444819], [-0.945159, 51.44932], [-0.950723, 51.452574]]], &quot;type&quot;: &quot;Polygon&quot;}, &quot;id&quot;: &quot;88195d2b1bfffff&quot;, &quot;properties&quot;: {&quot;order_gk&quot;: 626}, &quot;type&quot;: &quot;Feature&quot;}, {&quot;geometry&quot;: {&quot;coordinates&quot;: [[[-0.96742, 51.462334], [-0.974152, 51.461086], [-0.975317, 51.456585], [-0.969751, 51.453332], [-0.963019, 51.45458], [-0.961853, 51.459081], [-0.96742, 51.462334]]], &quot;type&quot;: &quot;Polygon&quot;}, &quot;id&quot;: &quot;88195d2b1dfffff&quot;, &quot;properties&quot;: {&quot;order_gk&quot;: 1038}, &quot;type&quot;: &quot;Feature&quot;}], &quot;type&quot;: &quot;FeatureCollection&quot;});\n",
       "\n",
       "        \n",
       "&lt;/script&gt;\" style=\"position:absolute;width:100%;height:100%;left:0;top:0;border:none !important;\" allowfullscreen webkitallowfullscreen mozallowfullscreen></iframe></div></div>"
      ],
      "text/plain": [
       "<folium.folium.Map at 0x296afe67b20>"
      ]
     },
     "execution_count": 43,
     "metadata": {},
     "output_type": "execute_result"
    }
   ],
   "source": [
    "map"
   ]
  },
  {
   "cell_type": "code",
   "execution_count": null,
   "id": "64d7379f",
   "metadata": {},
   "outputs": [],
   "source": []
  }
 ],
 "metadata": {
  "kernelspec": {
   "display_name": "Python 3 (ipykernel)",
   "language": "python",
   "name": "python3"
  },
  "language_info": {
   "codemirror_mode": {
    "name": "ipython",
    "version": 3
   },
   "file_extension": ".py",
   "mimetype": "text/x-python",
   "name": "python",
   "nbconvert_exporter": "python",
   "pygments_lexer": "ipython3",
   "version": "3.8.13"
  }
 },
 "nbformat": 4,
 "nbformat_minor": 5
}
